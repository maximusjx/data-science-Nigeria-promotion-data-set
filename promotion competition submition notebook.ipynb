{
 "cells": [
  {
   "cell_type": "markdown",
   "metadata": {},
   "source": [
    "# Full Name: ADESIYAN OMOTAYO OLUFEMI\n",
    " "
   ]
  },
  {
   "cell_type": "markdown",
   "metadata": {},
   "source": [
    "# KAGGLE ID: omotayo "
   ]
  },
  {
   "cell_type": "markdown",
   "metadata": {},
   "source": [
    "# Student Status: ACTIVE "
   ]
  },
  {
   "cell_type": "markdown",
   "metadata": {},
   "source": [
    "# Gender: Male"
   ]
  },
  {
   "cell_type": "markdown",
   "metadata": {},
   "source": [
    "# AI+Club: DataScienceIfe"
   ]
  },
  {
   "cell_type": "markdown",
   "metadata": {},
   "source": [
    "# Name of School; OBAFEMI AWOLOWO UNIVERSITY"
   ]
  },
  {
   "cell_type": "code",
   "execution_count": null,
   "metadata": {},
   "outputs": [],
   "source": []
  },
  {
   "cell_type": "code",
   "execution_count": null,
   "metadata": {},
   "outputs": [],
   "source": [
    "import pandas as pd"
   ]
  },
  {
   "cell_type": "markdown",
   "metadata": {},
   "source": [
    "# importing the dataset "
   ]
  },
  {
   "cell_type": "code",
   "execution_count": 6,
   "metadata": {},
   "outputs": [],
   "source": [
    "data = pd.read_csv(r'C:\\Users\\maximus\\Videos\\data analyses\\intercampusai2019\\train.csv')"
   ]
  },
  {
   "cell_type": "markdown",
   "metadata": {},
   "source": [
    "# Exploratory Data Analysis (EDA)"
   ]
  },
  {
   "cell_type": "code",
   "execution_count": 87,
   "metadata": {},
   "outputs": [
    {
     "data": {
      "text/html": [
       "<div>\n",
       "<style scoped>\n",
       "    .dataframe tbody tr th:only-of-type {\n",
       "        vertical-align: middle;\n",
       "    }\n",
       "\n",
       "    .dataframe tbody tr th {\n",
       "        vertical-align: top;\n",
       "    }\n",
       "\n",
       "    .dataframe thead th {\n",
       "        text-align: right;\n",
       "    }\n",
       "</style>\n",
       "<table border=\"1\" class=\"dataframe\">\n",
       "  <thead>\n",
       "    <tr style=\"text-align: right;\">\n",
       "      <th></th>\n",
       "      <th>EmployeeNo</th>\n",
       "      <th>Division</th>\n",
       "      <th>Qualification</th>\n",
       "      <th>Gender</th>\n",
       "      <th>Channel_of_Recruitment</th>\n",
       "      <th>Trainings_Attended</th>\n",
       "      <th>Year_of_birth</th>\n",
       "      <th>Last_performance_score</th>\n",
       "      <th>Year_of_recruitment</th>\n",
       "      <th>Targets_met</th>\n",
       "      <th>Previous_Award</th>\n",
       "      <th>Training_score_average</th>\n",
       "      <th>State_Of_Origin</th>\n",
       "      <th>Foreign_schooled</th>\n",
       "      <th>Marital_Status</th>\n",
       "      <th>Past_Disciplinary_Action</th>\n",
       "      <th>Previous_IntraDepartmental_Movement</th>\n",
       "      <th>No_of_previous_employers</th>\n",
       "      <th>Promoted_or_Not</th>\n",
       "    </tr>\n",
       "  </thead>\n",
       "  <tbody>\n",
       "    <tr>\n",
       "      <th>0</th>\n",
       "      <td>YAK/S/00001</td>\n",
       "      <td>Commercial Sales and Marketing</td>\n",
       "      <td>MSc, MBA and PhD</td>\n",
       "      <td>Female</td>\n",
       "      <td>Direct Internal process</td>\n",
       "      <td>2</td>\n",
       "      <td>1986</td>\n",
       "      <td>12.5</td>\n",
       "      <td>2011</td>\n",
       "      <td>1</td>\n",
       "      <td>0</td>\n",
       "      <td>41</td>\n",
       "      <td>ANAMBRA</td>\n",
       "      <td>No</td>\n",
       "      <td>Married</td>\n",
       "      <td>No</td>\n",
       "      <td>No</td>\n",
       "      <td>0</td>\n",
       "      <td>0</td>\n",
       "    </tr>\n",
       "    <tr>\n",
       "      <th>1</th>\n",
       "      <td>YAK/S/00002</td>\n",
       "      <td>Customer Support and Field Operations</td>\n",
       "      <td>First Degree or HND</td>\n",
       "      <td>Male</td>\n",
       "      <td>Agency and others</td>\n",
       "      <td>2</td>\n",
       "      <td>1991</td>\n",
       "      <td>12.5</td>\n",
       "      <td>2015</td>\n",
       "      <td>0</td>\n",
       "      <td>0</td>\n",
       "      <td>52</td>\n",
       "      <td>ANAMBRA</td>\n",
       "      <td>Yes</td>\n",
       "      <td>Married</td>\n",
       "      <td>No</td>\n",
       "      <td>No</td>\n",
       "      <td>0</td>\n",
       "      <td>0</td>\n",
       "    </tr>\n",
       "    <tr>\n",
       "      <th>2</th>\n",
       "      <td>YAK/S/00003</td>\n",
       "      <td>Commercial Sales and Marketing</td>\n",
       "      <td>First Degree or HND</td>\n",
       "      <td>Male</td>\n",
       "      <td>Direct Internal process</td>\n",
       "      <td>2</td>\n",
       "      <td>1987</td>\n",
       "      <td>7.5</td>\n",
       "      <td>2012</td>\n",
       "      <td>0</td>\n",
       "      <td>0</td>\n",
       "      <td>42</td>\n",
       "      <td>KATSINA</td>\n",
       "      <td>Yes</td>\n",
       "      <td>Married</td>\n",
       "      <td>No</td>\n",
       "      <td>No</td>\n",
       "      <td>0</td>\n",
       "      <td>0</td>\n",
       "    </tr>\n",
       "    <tr>\n",
       "      <th>3</th>\n",
       "      <td>YAK/S/00004</td>\n",
       "      <td>Commercial Sales and Marketing</td>\n",
       "      <td>First Degree or HND</td>\n",
       "      <td>Male</td>\n",
       "      <td>Agency and others</td>\n",
       "      <td>3</td>\n",
       "      <td>1982</td>\n",
       "      <td>2.5</td>\n",
       "      <td>2009</td>\n",
       "      <td>0</td>\n",
       "      <td>0</td>\n",
       "      <td>42</td>\n",
       "      <td>NIGER</td>\n",
       "      <td>Yes</td>\n",
       "      <td>Single</td>\n",
       "      <td>No</td>\n",
       "      <td>No</td>\n",
       "      <td>1</td>\n",
       "      <td>0</td>\n",
       "    </tr>\n",
       "    <tr>\n",
       "      <th>4</th>\n",
       "      <td>YAK/S/00006</td>\n",
       "      <td>Information and Strategy</td>\n",
       "      <td>First Degree or HND</td>\n",
       "      <td>Male</td>\n",
       "      <td>Direct Internal process</td>\n",
       "      <td>3</td>\n",
       "      <td>1990</td>\n",
       "      <td>7.5</td>\n",
       "      <td>2012</td>\n",
       "      <td>0</td>\n",
       "      <td>0</td>\n",
       "      <td>77</td>\n",
       "      <td>AKWA IBOM</td>\n",
       "      <td>Yes</td>\n",
       "      <td>Married</td>\n",
       "      <td>No</td>\n",
       "      <td>No</td>\n",
       "      <td>1</td>\n",
       "      <td>0</td>\n",
       "    </tr>\n",
       "  </tbody>\n",
       "</table>\n",
       "</div>"
      ],
      "text/plain": [
       "    EmployeeNo                               Division        Qualification  \\\n",
       "0  YAK/S/00001         Commercial Sales and Marketing     MSc, MBA and PhD   \n",
       "1  YAK/S/00002  Customer Support and Field Operations  First Degree or HND   \n",
       "2  YAK/S/00003         Commercial Sales and Marketing  First Degree or HND   \n",
       "3  YAK/S/00004         Commercial Sales and Marketing  First Degree or HND   \n",
       "4  YAK/S/00006               Information and Strategy  First Degree or HND   \n",
       "\n",
       "   Gender   Channel_of_Recruitment  Trainings_Attended  Year_of_birth  \\\n",
       "0  Female  Direct Internal process                   2           1986   \n",
       "1    Male        Agency and others                   2           1991   \n",
       "2    Male  Direct Internal process                   2           1987   \n",
       "3    Male        Agency and others                   3           1982   \n",
       "4    Male  Direct Internal process                   3           1990   \n",
       "\n",
       "   Last_performance_score  Year_of_recruitment  Targets_met  Previous_Award  \\\n",
       "0                    12.5                 2011            1               0   \n",
       "1                    12.5                 2015            0               0   \n",
       "2                     7.5                 2012            0               0   \n",
       "3                     2.5                 2009            0               0   \n",
       "4                     7.5                 2012            0               0   \n",
       "\n",
       "   Training_score_average State_Of_Origin Foreign_schooled Marital_Status  \\\n",
       "0                      41         ANAMBRA               No        Married   \n",
       "1                      52         ANAMBRA              Yes        Married   \n",
       "2                      42         KATSINA              Yes        Married   \n",
       "3                      42           NIGER              Yes         Single   \n",
       "4                      77       AKWA IBOM              Yes        Married   \n",
       "\n",
       "  Past_Disciplinary_Action Previous_IntraDepartmental_Movement  \\\n",
       "0                       No                                  No   \n",
       "1                       No                                  No   \n",
       "2                       No                                  No   \n",
       "3                       No                                  No   \n",
       "4                       No                                  No   \n",
       "\n",
       "  No_of_previous_employers  Promoted_or_Not  \n",
       "0                        0                0  \n",
       "1                        0                0  \n",
       "2                        0                0  \n",
       "3                        1                0  \n",
       "4                        1                0  "
      ]
     },
     "execution_count": 87,
     "metadata": {},
     "output_type": "execute_result"
    }
   ],
   "source": [
    "data.head()"
   ]
  },
  {
   "cell_type": "code",
   "execution_count": 8,
   "metadata": {},
   "outputs": [
    {
     "name": "stdout",
     "output_type": "stream",
     "text": [
      "<class 'pandas.core.frame.DataFrame'>\n",
      "RangeIndex: 38312 entries, 0 to 38311\n",
      "Data columns (total 19 columns):\n",
      "EmployeeNo                             38312 non-null object\n",
      "Division                               38312 non-null object\n",
      "Qualification                          36633 non-null object\n",
      "Gender                                 38312 non-null object\n",
      "Channel_of_Recruitment                 38312 non-null object\n",
      "Trainings_Attended                     38312 non-null int64\n",
      "Year_of_birth                          38312 non-null int64\n",
      "Last_performance_score                 38312 non-null float64\n",
      "Year_of_recruitment                    38312 non-null int64\n",
      "Targets_met                            38312 non-null int64\n",
      "Previous_Award                         38312 non-null int64\n",
      "Training_score_average                 38312 non-null int64\n",
      "State_Of_Origin                        38312 non-null object\n",
      "Foreign_schooled                       38312 non-null object\n",
      "Marital_Status                         38312 non-null object\n",
      "Past_Disciplinary_Action               38312 non-null object\n",
      "Previous_IntraDepartmental_Movement    38312 non-null object\n",
      "No_of_previous_employers               38312 non-null object\n",
      "Promoted_or_Not                        38312 non-null int64\n",
      "dtypes: float64(1), int64(7), object(11)\n",
      "memory usage: 5.6+ MB\n"
     ]
    }
   ],
   "source": [
    "data.info()   # THIS IS TO CHECK THE TYPR OF DATA WE ARE DEALING WITH. EITHER OBJECT, FLOAT, INT64."
   ]
  },
  {
   "cell_type": "code",
   "execution_count": 9,
   "metadata": {},
   "outputs": [
    {
     "data": {
      "text/html": [
       "<div>\n",
       "<style scoped>\n",
       "    .dataframe tbody tr th:only-of-type {\n",
       "        vertical-align: middle;\n",
       "    }\n",
       "\n",
       "    .dataframe tbody tr th {\n",
       "        vertical-align: top;\n",
       "    }\n",
       "\n",
       "    .dataframe thead th {\n",
       "        text-align: right;\n",
       "    }\n",
       "</style>\n",
       "<table border=\"1\" class=\"dataframe\">\n",
       "  <thead>\n",
       "    <tr style=\"text-align: right;\">\n",
       "      <th></th>\n",
       "      <th>Trainings_Attended</th>\n",
       "      <th>Year_of_birth</th>\n",
       "      <th>Last_performance_score</th>\n",
       "      <th>Year_of_recruitment</th>\n",
       "      <th>Targets_met</th>\n",
       "      <th>Previous_Award</th>\n",
       "      <th>Training_score_average</th>\n",
       "      <th>Promoted_or_Not</th>\n",
       "    </tr>\n",
       "  </thead>\n",
       "  <tbody>\n",
       "    <tr>\n",
       "      <th>count</th>\n",
       "      <td>38312.000000</td>\n",
       "      <td>38312.000000</td>\n",
       "      <td>38312.000000</td>\n",
       "      <td>38312.000000</td>\n",
       "      <td>38312.000000</td>\n",
       "      <td>38312.000000</td>\n",
       "      <td>38312.000000</td>\n",
       "      <td>38312.000000</td>\n",
       "    </tr>\n",
       "    <tr>\n",
       "      <th>mean</th>\n",
       "      <td>2.253680</td>\n",
       "      <td>1986.209334</td>\n",
       "      <td>7.698959</td>\n",
       "      <td>2013.139695</td>\n",
       "      <td>0.352996</td>\n",
       "      <td>0.023152</td>\n",
       "      <td>55.366465</td>\n",
       "      <td>0.084595</td>\n",
       "    </tr>\n",
       "    <tr>\n",
       "      <th>std</th>\n",
       "      <td>0.609443</td>\n",
       "      <td>7.646047</td>\n",
       "      <td>3.744135</td>\n",
       "      <td>4.261451</td>\n",
       "      <td>0.477908</td>\n",
       "      <td>0.150388</td>\n",
       "      <td>13.362741</td>\n",
       "      <td>0.278282</td>\n",
       "    </tr>\n",
       "    <tr>\n",
       "      <th>min</th>\n",
       "      <td>2.000000</td>\n",
       "      <td>1950.000000</td>\n",
       "      <td>0.000000</td>\n",
       "      <td>1982.000000</td>\n",
       "      <td>0.000000</td>\n",
       "      <td>0.000000</td>\n",
       "      <td>31.000000</td>\n",
       "      <td>0.000000</td>\n",
       "    </tr>\n",
       "    <tr>\n",
       "      <th>25%</th>\n",
       "      <td>2.000000</td>\n",
       "      <td>1982.000000</td>\n",
       "      <td>5.000000</td>\n",
       "      <td>2012.000000</td>\n",
       "      <td>0.000000</td>\n",
       "      <td>0.000000</td>\n",
       "      <td>43.000000</td>\n",
       "      <td>0.000000</td>\n",
       "    </tr>\n",
       "    <tr>\n",
       "      <th>50%</th>\n",
       "      <td>2.000000</td>\n",
       "      <td>1988.000000</td>\n",
       "      <td>7.500000</td>\n",
       "      <td>2014.000000</td>\n",
       "      <td>0.000000</td>\n",
       "      <td>0.000000</td>\n",
       "      <td>52.000000</td>\n",
       "      <td>0.000000</td>\n",
       "    </tr>\n",
       "    <tr>\n",
       "      <th>75%</th>\n",
       "      <td>2.000000</td>\n",
       "      <td>1992.000000</td>\n",
       "      <td>10.000000</td>\n",
       "      <td>2016.000000</td>\n",
       "      <td>1.000000</td>\n",
       "      <td>0.000000</td>\n",
       "      <td>68.000000</td>\n",
       "      <td>0.000000</td>\n",
       "    </tr>\n",
       "    <tr>\n",
       "      <th>max</th>\n",
       "      <td>11.000000</td>\n",
       "      <td>2001.000000</td>\n",
       "      <td>12.500000</td>\n",
       "      <td>2018.000000</td>\n",
       "      <td>1.000000</td>\n",
       "      <td>1.000000</td>\n",
       "      <td>91.000000</td>\n",
       "      <td>1.000000</td>\n",
       "    </tr>\n",
       "  </tbody>\n",
       "</table>\n",
       "</div>"
      ],
      "text/plain": [
       "       Trainings_Attended  Year_of_birth  Last_performance_score  \\\n",
       "count        38312.000000   38312.000000            38312.000000   \n",
       "mean             2.253680    1986.209334                7.698959   \n",
       "std              0.609443       7.646047                3.744135   \n",
       "min              2.000000    1950.000000                0.000000   \n",
       "25%              2.000000    1982.000000                5.000000   \n",
       "50%              2.000000    1988.000000                7.500000   \n",
       "75%              2.000000    1992.000000               10.000000   \n",
       "max             11.000000    2001.000000               12.500000   \n",
       "\n",
       "       Year_of_recruitment   Targets_met  Previous_Award  \\\n",
       "count         38312.000000  38312.000000    38312.000000   \n",
       "mean           2013.139695      0.352996        0.023152   \n",
       "std               4.261451      0.477908        0.150388   \n",
       "min            1982.000000      0.000000        0.000000   \n",
       "25%            2012.000000      0.000000        0.000000   \n",
       "50%            2014.000000      0.000000        0.000000   \n",
       "75%            2016.000000      1.000000        0.000000   \n",
       "max            2018.000000      1.000000        1.000000   \n",
       "\n",
       "       Training_score_average  Promoted_or_Not  \n",
       "count            38312.000000     38312.000000  \n",
       "mean                55.366465         0.084595  \n",
       "std                 13.362741         0.278282  \n",
       "min                 31.000000         0.000000  \n",
       "25%                 43.000000         0.000000  \n",
       "50%                 52.000000         0.000000  \n",
       "75%                 68.000000         0.000000  \n",
       "max                 91.000000         1.000000  "
      ]
     },
     "execution_count": 9,
     "metadata": {},
     "output_type": "execute_result"
    }
   ],
   "source": [
    "data.describe() # THE COUNT ROW gives us insight into the number of rows the numeric columns has and if thier are any missing values \n",
    "# the MEAN gives us the arithmeticc avearge of the data points, STD row shows us how disperse from the mean the data is etc"
   ]
  },
  {
   "cell_type": "code",
   "execution_count": 8,
   "metadata": {},
   "outputs": [
    {
     "data": {
      "image/png": "[encoded data removed]",
      "text/plain": [
       "<Figure size 1440x1080 with 9 Axes>"
      ]
     },
     "metadata": {
      "needs_background": "light"
     },
     "output_type": "display_data"
    }
   ],
   "source": [
    "import matplotlib.pyplot as plt\n",
    "data.hist(bins=50, figsize=(20,15)) \n",
    "viz = plt.show()\n",
    "viz"
   ]
  },
  {
   "cell_type": "code",
   "execution_count": 94,
   "metadata": {},
   "outputs": [
    {
     "data": {
      "image/png": "[encoded data removed]",
      "text/plain": [
       "<Figure size 1280x800 with 1 Axes>"
      ]
     },
     "metadata": {},
     "output_type": "display_data"
    }
   ],
   "source": [
    "# Prepare Data\n",
    "\n",
    "df = data[['Last_performance_score', 'Channel_of_Recruitment']].groupby('Channel_of_Recruitment').apply(lambda x: x.mean())\n",
    "df.sort_values('Last_performance_score', inplace=True)\n",
    "df.reset_index(inplace=True)\n",
    "\n",
    "# Draw plot\n",
    "import matplotlib.patches as patches\n",
    "\n",
    "fig, ax = plt.subplots(figsize=(16,10), facecolor='white', dpi= 80)\n",
    "ax.vlines(x=df.index, ymin=0, ymax=df.Last_performance_score, color='firebrick', alpha=0.7, linewidth=20)\n",
    "\n",
    "# Annotate Text\n",
    "for i, Last_performance_score in enumerate(df.Last_performance_score):\n",
    "    ax.text(i, Last_performance_score+0.5, round(Last_performance_score, 1), horizontalalignment='center')\n",
    "\n",
    "\n",
    "# Title, Label, Ticks and Ylim\n",
    "ax.set_title('Bar Chart for channel of recruitement', fontdict={'size':22})\n",
    "ax.set(ylabel='the last performance score', ylim=(0, 30))\n",
    "plt.xticks(df.index, df.Channel_of_Recruitment.str.upper(), rotation=60, horizontalalignment='right', fontsize=12)\n",
    "\n",
    "# Add patches to color the X axis labels\n",
    "p1 = patches.Rectangle((.57, -0.005), width=.33, height=.13, alpha=.1, facecolor='green', transform=fig.transFigure)\n",
    "p2 = patches.Rectangle((.124, -0.005), width=.446, height=.13, alpha=.1, facecolor='red', transform=fig.transFigure)\n",
    "fig.add_artist(p1)\n",
    "fig.add_artist(p2)\n",
    "plt.show()"
   ]
  },
  {
   "cell_type": "code",
   "execution_count": 96,
   "metadata": {},
   "outputs": [
    {
     "ename": "AttributeError",
     "evalue": "Can only use .str accessor with string values, which use np.object_ dtype in pandas",
     "output_type": "error",
     "traceback": [
      "\u001b[1;31m---------------------------------------------------------------------------\u001b[0m",
      "\u001b[1;31mAttributeError\u001b[0m                            Traceback (most recent call last)",
      "\u001b[1;32m<ipython-input-96-b23072f95ba6>\u001b[0m in \u001b[0;36m<module>\u001b[1;34m\u001b[0m\n\u001b[0;32m     17\u001b[0m \u001b[0max\u001b[0m\u001b[1;33m.\u001b[0m\u001b[0mset_title\u001b[0m\u001b[1;33m(\u001b[0m\u001b[1;34m'those who got promoted'\u001b[0m\u001b[1;33m,\u001b[0m \u001b[0mfontdict\u001b[0m\u001b[1;33m=\u001b[0m\u001b[1;33m{\u001b[0m\u001b[1;34m'size'\u001b[0m\u001b[1;33m:\u001b[0m\u001b[1;36m22\u001b[0m\u001b[1;33m}\u001b[0m\u001b[1;33m)\u001b[0m\u001b[1;33m\u001b[0m\u001b[1;33m\u001b[0m\u001b[0m\n\u001b[0;32m     18\u001b[0m \u001b[0max\u001b[0m\u001b[1;33m.\u001b[0m\u001b[0mset\u001b[0m\u001b[1;33m(\u001b[0m\u001b[0mylabel\u001b[0m\u001b[1;33m=\u001b[0m\u001b[1;34m'years of recruitment'\u001b[0m\u001b[1;33m,\u001b[0m \u001b[0mylim\u001b[0m\u001b[1;33m=\u001b[0m\u001b[1;33m(\u001b[0m\u001b[1;36m0\u001b[0m\u001b[1;33m,\u001b[0m \u001b[1;36m30\u001b[0m\u001b[1;33m)\u001b[0m\u001b[1;33m)\u001b[0m\u001b[1;33m\u001b[0m\u001b[1;33m\u001b[0m\u001b[0m\n\u001b[1;32m---> 19\u001b[1;33m \u001b[0mplt\u001b[0m\u001b[1;33m.\u001b[0m\u001b[0mxticks\u001b[0m\u001b[1;33m(\u001b[0m\u001b[0mdf\u001b[0m\u001b[1;33m.\u001b[0m\u001b[0mindex\u001b[0m\u001b[1;33m,\u001b[0m \u001b[0mdf\u001b[0m\u001b[1;33m.\u001b[0m\u001b[0mPromoted_or_Not\u001b[0m\u001b[1;33m.\u001b[0m\u001b[0mstr\u001b[0m\u001b[1;33m.\u001b[0m\u001b[0mupper\u001b[0m\u001b[1;33m(\u001b[0m\u001b[1;33m)\u001b[0m\u001b[1;33m,\u001b[0m \u001b[0mrotation\u001b[0m\u001b[1;33m=\u001b[0m\u001b[1;36m60\u001b[0m\u001b[1;33m,\u001b[0m \u001b[0mhorizontalalignment\u001b[0m\u001b[1;33m=\u001b[0m\u001b[1;34m'right'\u001b[0m\u001b[1;33m,\u001b[0m \u001b[0mfontsize\u001b[0m\u001b[1;33m=\u001b[0m\u001b[1;36m12\u001b[0m\u001b[1;33m)\u001b[0m\u001b[1;33m\u001b[0m\u001b[1;33m\u001b[0m\u001b[0m\n\u001b[0m\u001b[0;32m     20\u001b[0m \u001b[1;33m\u001b[0m\u001b[0m\n\u001b[0;32m     21\u001b[0m \u001b[1;31m# Add patches to color the X axis labels\u001b[0m\u001b[1;33m\u001b[0m\u001b[1;33m\u001b[0m\u001b[1;33m\u001b[0m\u001b[0m\n",
      "\u001b[1;32m~\\Anaconda3\\lib\\site-packages\\pandas\\core\\generic.py\u001b[0m in \u001b[0;36m__getattr__\u001b[1;34m(self, name)\u001b[0m\n\u001b[0;32m   4370\u001b[0m         if (name in self._internal_names_set or name in self._metadata or\n\u001b[0;32m   4371\u001b[0m                 name in self._accessors):\n\u001b[1;32m-> 4372\u001b[1;33m             \u001b[1;32mreturn\u001b[0m \u001b[0mobject\u001b[0m\u001b[1;33m.\u001b[0m\u001b[0m__getattribute__\u001b[0m\u001b[1;33m(\u001b[0m\u001b[0mself\u001b[0m\u001b[1;33m,\u001b[0m \u001b[0mname\u001b[0m\u001b[1;33m)\u001b[0m\u001b[1;33m\u001b[0m\u001b[1;33m\u001b[0m\u001b[0m\n\u001b[0m\u001b[0;32m   4373\u001b[0m         \u001b[1;32melse\u001b[0m\u001b[1;33m:\u001b[0m\u001b[1;33m\u001b[0m\u001b[1;33m\u001b[0m\u001b[0m\n\u001b[0;32m   4374\u001b[0m             \u001b[1;32mif\u001b[0m \u001b[0mself\u001b[0m\u001b[1;33m.\u001b[0m\u001b[0m_info_axis\u001b[0m\u001b[1;33m.\u001b[0m\u001b[0m_can_hold_identifiers_and_holds_name\u001b[0m\u001b[1;33m(\u001b[0m\u001b[0mname\u001b[0m\u001b[1;33m)\u001b[0m\u001b[1;33m:\u001b[0m\u001b[1;33m\u001b[0m\u001b[1;33m\u001b[0m\u001b[0m\n",
      "\u001b[1;32m~\\Anaconda3\\lib\\site-packages\\pandas\\core\\accessor.py\u001b[0m in \u001b[0;36m__get__\u001b[1;34m(self, obj, cls)\u001b[0m\n\u001b[0;32m    131\u001b[0m             \u001b[1;31m# we're accessing the attribute of the class, i.e., Dataset.geo\u001b[0m\u001b[1;33m\u001b[0m\u001b[1;33m\u001b[0m\u001b[1;33m\u001b[0m\u001b[0m\n\u001b[0;32m    132\u001b[0m             \u001b[1;32mreturn\u001b[0m \u001b[0mself\u001b[0m\u001b[1;33m.\u001b[0m\u001b[0m_accessor\u001b[0m\u001b[1;33m\u001b[0m\u001b[1;33m\u001b[0m\u001b[0m\n\u001b[1;32m--> 133\u001b[1;33m         \u001b[0maccessor_obj\u001b[0m \u001b[1;33m=\u001b[0m \u001b[0mself\u001b[0m\u001b[1;33m.\u001b[0m\u001b[0m_accessor\u001b[0m\u001b[1;33m(\u001b[0m\u001b[0mobj\u001b[0m\u001b[1;33m)\u001b[0m\u001b[1;33m\u001b[0m\u001b[1;33m\u001b[0m\u001b[0m\n\u001b[0m\u001b[0;32m    134\u001b[0m         \u001b[1;31m# Replace the property with the accessor object. Inspired by:\u001b[0m\u001b[1;33m\u001b[0m\u001b[1;33m\u001b[0m\u001b[1;33m\u001b[0m\u001b[0m\n\u001b[0;32m    135\u001b[0m         \u001b[1;31m# http://www.pydanny.com/cached-property.html\u001b[0m\u001b[1;33m\u001b[0m\u001b[1;33m\u001b[0m\u001b[1;33m\u001b[0m\u001b[0m\n",
      "\u001b[1;32m~\\Anaconda3\\lib\\site-packages\\pandas\\core\\strings.py\u001b[0m in \u001b[0;36m__init__\u001b[1;34m(self, data)\u001b[0m\n\u001b[0;32m   1893\u001b[0m \u001b[1;33m\u001b[0m\u001b[0m\n\u001b[0;32m   1894\u001b[0m     \u001b[1;32mdef\u001b[0m \u001b[0m__init__\u001b[0m\u001b[1;33m(\u001b[0m\u001b[0mself\u001b[0m\u001b[1;33m,\u001b[0m \u001b[0mdata\u001b[0m\u001b[1;33m)\u001b[0m\u001b[1;33m:\u001b[0m\u001b[1;33m\u001b[0m\u001b[1;33m\u001b[0m\u001b[0m\n\u001b[1;32m-> 1895\u001b[1;33m         \u001b[0mself\u001b[0m\u001b[1;33m.\u001b[0m\u001b[0m_validate\u001b[0m\u001b[1;33m(\u001b[0m\u001b[0mdata\u001b[0m\u001b[1;33m)\u001b[0m\u001b[1;33m\u001b[0m\u001b[1;33m\u001b[0m\u001b[0m\n\u001b[0m\u001b[0;32m   1896\u001b[0m         \u001b[0mself\u001b[0m\u001b[1;33m.\u001b[0m\u001b[0m_is_categorical\u001b[0m \u001b[1;33m=\u001b[0m \u001b[0mis_categorical_dtype\u001b[0m\u001b[1;33m(\u001b[0m\u001b[0mdata\u001b[0m\u001b[1;33m)\u001b[0m\u001b[1;33m\u001b[0m\u001b[1;33m\u001b[0m\u001b[0m\n\u001b[0;32m   1897\u001b[0m \u001b[1;33m\u001b[0m\u001b[0m\n",
      "\u001b[1;32m~\\Anaconda3\\lib\\site-packages\\pandas\\core\\strings.py\u001b[0m in \u001b[0;36m_validate\u001b[1;34m(data)\u001b[0m\n\u001b[0;32m   1915\u001b[0m             \u001b[1;31m# (instead of test for object dtype), but that isn't practical for\u001b[0m\u001b[1;33m\u001b[0m\u001b[1;33m\u001b[0m\u001b[1;33m\u001b[0m\u001b[0m\n\u001b[0;32m   1916\u001b[0m             \u001b[1;31m# performance reasons until we have a str dtype (GH 9343)\u001b[0m\u001b[1;33m\u001b[0m\u001b[1;33m\u001b[0m\u001b[1;33m\u001b[0m\u001b[0m\n\u001b[1;32m-> 1917\u001b[1;33m             raise AttributeError(\"Can only use .str accessor with string \"\n\u001b[0m\u001b[0;32m   1918\u001b[0m                                  \u001b[1;34m\"values, which use np.object_ dtype in \"\u001b[0m\u001b[1;33m\u001b[0m\u001b[1;33m\u001b[0m\u001b[0m\n\u001b[0;32m   1919\u001b[0m                                  \"pandas\")\n",
      "\u001b[1;31mAttributeError\u001b[0m: Can only use .str accessor with string values, which use np.object_ dtype in pandas"
     ]
    },
    {
     "data": {
      "image/png": "[encoded data removed]",
      "text/plain": [
       "<Figure size 1280x800 with 1 Axes>"
      ]
     },
     "metadata": {},
     "output_type": "display_data"
    }
   ],
   "source": [
    "df = data[['Year_of_recruitment', 'Promoted_or_Not']].groupby('Promoted_or_Not').apply(lambda x: x.mean())\n",
    "df.sort_values('Year_of_recruitment', inplace=True)\n",
    "df.reset_index(inplace=True)\n",
    "\n",
    "# Draw plot\n",
    "import matplotlib.patches as patches\n",
    "\n",
    "fig, ax = plt.subplots(figsize=(16,10), facecolor='white', dpi= 80)\n",
    "ax.vlines(x=df.index, ymin=0, ymax=df.Year_of_recruitment, color='firebrick', alpha=0.7, linewidth=20)\n",
    "\n",
    "# Annotate Text\n",
    "for i, Year_of_recruitment in enumerate(df.Year_of_recruitment):\n",
    "    ax.text(i, Last_performance_score+0.5, round(Year_of_recruitment, 1), horizontalalignment='center')\n",
    "\n",
    "\n",
    "# Title, Label, Ticks and Ylim\n",
    "ax.set_title('those who got promoted', fontdict={'size':22})\n",
    "ax.set(ylabel='years of recruitment', ylim=(0, 30))\n",
    "plt.xticks(df.index, df.Promoted_or_Not.str.upper(), rotation=60, horizontalalignment='right', fontsize=12)\n",
    "\n",
    "# Add patches to color the X axis labels\n",
    "p1 = patches.Rectangle((.57, -0.005), width=.33, height=.13, alpha=.1, facecolor='green', transform=fig.transFigure)\n",
    "p2 = patches.Rectangle((.124, -0.005), width=.446, height=.13, alpha=.1, facecolor='red', transform=fig.transFigure)\n",
    "fig.add_artist(p1)\n",
    "fig.add_artist(p2)\n",
    "plt.show()"
   ]
  },
  {
   "cell_type": "code",
   "execution_count": null,
   "metadata": {
    "scrolled": true
   },
   "outputs": [],
   "source": []
  },
  {
   "cell_type": "code",
   "execution_count": null,
   "metadata": {},
   "outputs": [],
   "source": []
  },
  {
   "cell_type": "code",
   "execution_count": null,
   "metadata": {},
   "outputs": [],
   "source": []
  },
  {
   "cell_type": "code",
   "execution_count": 9,
   "metadata": {},
   "outputs": [],
   "source": [
    "df = data.copy()"
   ]
  },
  {
   "cell_type": "code",
   "execution_count": 10,
   "metadata": {},
   "outputs": [],
   "source": [
    "del df['EmployeeNo']     \n",
    "del df['Trainings_Attended'] \n",
    "del df['Gender']                                 \n",
    "del df['State_Of_Origin']                        "
   ]
  },
  {
   "cell_type": "code",
   "execution_count": 11,
   "metadata": {},
   "outputs": [
    {
     "data": {
      "text/html": [
       "<div>\n",
       "<style scoped>\n",
       "    .dataframe tbody tr th:only-of-type {\n",
       "        vertical-align: middle;\n",
       "    }\n",
       "\n",
       "    .dataframe tbody tr th {\n",
       "        vertical-align: top;\n",
       "    }\n",
       "\n",
       "    .dataframe thead th {\n",
       "        text-align: right;\n",
       "    }\n",
       "</style>\n",
       "<table border=\"1\" class=\"dataframe\">\n",
       "  <thead>\n",
       "    <tr style=\"text-align: right;\">\n",
       "      <th></th>\n",
       "      <th>Division</th>\n",
       "      <th>Qualification</th>\n",
       "      <th>Channel_of_Recruitment</th>\n",
       "      <th>Year_of_birth</th>\n",
       "      <th>Last_performance_score</th>\n",
       "      <th>Year_of_recruitment</th>\n",
       "      <th>Targets_met</th>\n",
       "      <th>Previous_Award</th>\n",
       "      <th>Training_score_average</th>\n",
       "      <th>Foreign_schooled</th>\n",
       "      <th>Marital_Status</th>\n",
       "      <th>Past_Disciplinary_Action</th>\n",
       "      <th>Previous_IntraDepartmental_Movement</th>\n",
       "      <th>No_of_previous_employers</th>\n",
       "      <th>Promoted_or_Not</th>\n",
       "    </tr>\n",
       "  </thead>\n",
       "  <tbody>\n",
       "    <tr>\n",
       "      <th>0</th>\n",
       "      <td>Commercial Sales and Marketing</td>\n",
       "      <td>MSc, MBA and PhD</td>\n",
       "      <td>Direct Internal process</td>\n",
       "      <td>1986</td>\n",
       "      <td>12.5</td>\n",
       "      <td>2011</td>\n",
       "      <td>1</td>\n",
       "      <td>0</td>\n",
       "      <td>41</td>\n",
       "      <td>No</td>\n",
       "      <td>Married</td>\n",
       "      <td>No</td>\n",
       "      <td>No</td>\n",
       "      <td>0</td>\n",
       "      <td>0</td>\n",
       "    </tr>\n",
       "    <tr>\n",
       "      <th>1</th>\n",
       "      <td>Customer Support and Field Operations</td>\n",
       "      <td>First Degree or HND</td>\n",
       "      <td>Agency and others</td>\n",
       "      <td>1991</td>\n",
       "      <td>12.5</td>\n",
       "      <td>2015</td>\n",
       "      <td>0</td>\n",
       "      <td>0</td>\n",
       "      <td>52</td>\n",
       "      <td>Yes</td>\n",
       "      <td>Married</td>\n",
       "      <td>No</td>\n",
       "      <td>No</td>\n",
       "      <td>0</td>\n",
       "      <td>0</td>\n",
       "    </tr>\n",
       "    <tr>\n",
       "      <th>2</th>\n",
       "      <td>Commercial Sales and Marketing</td>\n",
       "      <td>First Degree or HND</td>\n",
       "      <td>Direct Internal process</td>\n",
       "      <td>1987</td>\n",
       "      <td>7.5</td>\n",
       "      <td>2012</td>\n",
       "      <td>0</td>\n",
       "      <td>0</td>\n",
       "      <td>42</td>\n",
       "      <td>Yes</td>\n",
       "      <td>Married</td>\n",
       "      <td>No</td>\n",
       "      <td>No</td>\n",
       "      <td>0</td>\n",
       "      <td>0</td>\n",
       "    </tr>\n",
       "    <tr>\n",
       "      <th>3</th>\n",
       "      <td>Commercial Sales and Marketing</td>\n",
       "      <td>First Degree or HND</td>\n",
       "      <td>Agency and others</td>\n",
       "      <td>1982</td>\n",
       "      <td>2.5</td>\n",
       "      <td>2009</td>\n",
       "      <td>0</td>\n",
       "      <td>0</td>\n",
       "      <td>42</td>\n",
       "      <td>Yes</td>\n",
       "      <td>Single</td>\n",
       "      <td>No</td>\n",
       "      <td>No</td>\n",
       "      <td>1</td>\n",
       "      <td>0</td>\n",
       "    </tr>\n",
       "    <tr>\n",
       "      <th>4</th>\n",
       "      <td>Information and Strategy</td>\n",
       "      <td>First Degree or HND</td>\n",
       "      <td>Direct Internal process</td>\n",
       "      <td>1990</td>\n",
       "      <td>7.5</td>\n",
       "      <td>2012</td>\n",
       "      <td>0</td>\n",
       "      <td>0</td>\n",
       "      <td>77</td>\n",
       "      <td>Yes</td>\n",
       "      <td>Married</td>\n",
       "      <td>No</td>\n",
       "      <td>No</td>\n",
       "      <td>1</td>\n",
       "      <td>0</td>\n",
       "    </tr>\n",
       "  </tbody>\n",
       "</table>\n",
       "</div>"
      ],
      "text/plain": [
       "                                Division        Qualification  \\\n",
       "0         Commercial Sales and Marketing     MSc, MBA and PhD   \n",
       "1  Customer Support and Field Operations  First Degree or HND   \n",
       "2         Commercial Sales and Marketing  First Degree or HND   \n",
       "3         Commercial Sales and Marketing  First Degree or HND   \n",
       "4               Information and Strategy  First Degree or HND   \n",
       "\n",
       "    Channel_of_Recruitment  Year_of_birth  Last_performance_score  \\\n",
       "0  Direct Internal process           1986                    12.5   \n",
       "1        Agency and others           1991                    12.5   \n",
       "2  Direct Internal process           1987                     7.5   \n",
       "3        Agency and others           1982                     2.5   \n",
       "4  Direct Internal process           1990                     7.5   \n",
       "\n",
       "   Year_of_recruitment  Targets_met  Previous_Award  Training_score_average  \\\n",
       "0                 2011            1               0                      41   \n",
       "1                 2015            0               0                      52   \n",
       "2                 2012            0               0                      42   \n",
       "3                 2009            0               0                      42   \n",
       "4                 2012            0               0                      77   \n",
       "\n",
       "  Foreign_schooled Marital_Status Past_Disciplinary_Action  \\\n",
       "0               No        Married                       No   \n",
       "1              Yes        Married                       No   \n",
       "2              Yes        Married                       No   \n",
       "3              Yes         Single                       No   \n",
       "4              Yes        Married                       No   \n",
       "\n",
       "  Previous_IntraDepartmental_Movement No_of_previous_employers  \\\n",
       "0                                  No                        0   \n",
       "1                                  No                        0   \n",
       "2                                  No                        0   \n",
       "3                                  No                        1   \n",
       "4                                  No                        1   \n",
       "\n",
       "   Promoted_or_Not  \n",
       "0                0  \n",
       "1                0  \n",
       "2                0  \n",
       "3                0  \n",
       "4                0  "
      ]
     },
     "execution_count": 11,
     "metadata": {},
     "output_type": "execute_result"
    }
   ],
   "source": [
    "df.head()"
   ]
  },
  {
   "cell_type": "code",
   "execution_count": 12,
   "metadata": {},
   "outputs": [],
   "source": [
    "df = pd.get_dummies(df)"
   ]
  },
  {
   "cell_type": "code",
   "execution_count": 13,
   "metadata": {},
   "outputs": [],
   "source": [
    "from sklearn.preprocessing import StandardScaler\n",
    "scaler = StandardScaler()"
   ]
  },
  {
   "cell_type": "code",
   "execution_count": 14,
   "metadata": {},
   "outputs": [
    {
     "name": "stderr",
     "output_type": "stream",
     "text": [
      "C:\\Users\\maximus\\Anaconda3\\lib\\site-packages\\sklearn\\preprocessing\\data.py:625: DataConversionWarning: Data with input dtype uint8, int64, float64 were all converted to float64 by StandardScaler.\n",
      "  return self.partial_fit(X, y)\n"
     ]
    },
    {
     "data": {
      "text/plain": [
       "StandardScaler(copy=True, with_mean=True, with_std=True)"
      ]
     },
     "execution_count": 14,
     "metadata": {},
     "output_type": "execute_result"
    }
   ],
   "source": [
    "scaler.fit(df)"
   ]
  },
  {
   "cell_type": "code",
   "execution_count": 18,
   "metadata": {},
   "outputs": [],
   "source": [
    "X = df.drop('Promoted_or_Not', axis= 1)\n",
    "y = df['Promoted_or_Not']"
   ]
  },
  {
   "cell_type": "code",
   "execution_count": 19,
   "metadata": {},
   "outputs": [
    {
     "name": "stderr",
     "output_type": "stream",
     "text": [
      "C:\\Users\\maximus\\Anaconda3\\lib\\site-packages\\sklearn\\model_selection\\_split.py:2179: FutureWarning: From version 0.21, test_size will always complement train_size unless both are specified.\n",
      "  FutureWarning)\n"
     ]
    }
   ],
   "source": [
    "from sklearn.model_selection import train_test_split\n",
    "x_train, x_test, y_train, y_test = train_test_split(X, y, train_size = 0.80)"
   ]
  },
  {
   "cell_type": "code",
   "execution_count": 20,
   "metadata": {},
   "outputs": [],
   "source": [
    "from xgboost.sklearn import XGBClassifier\n",
    "\n",
    "import xgboost as xgb\n",
    "from sklearn.metrics import f1_score\n",
    "from sklearn.metrics import roc_auc_score"
   ]
  },
  {
   "cell_type": "code",
   "execution_count": 14,
   "metadata": {},
   "outputs": [
    {
     "name": "stdout",
     "output_type": "stream",
     "text": [
      "[0]\tvalidation_0-auc:0.75449\tvalidation_1-auc:0.760479\n",
      "Multiple eval metrics have been passed: 'validation_1-auc' will be used for early stopping.\n",
      "\n",
      "Will train until validation_1-auc hasn't improved in 30 rounds.\n",
      "[1]\tvalidation_0-auc:0.761685\tvalidation_1-auc:0.767679\n",
      "[2]\tvalidation_0-auc:0.761577\tvalidation_1-auc:0.7674\n",
      "[3]\tvalidation_0-auc:0.767971\tvalidation_1-auc:0.769682\n",
      "[4]\tvalidation_0-auc:0.767775\tvalidation_1-auc:0.769505\n",
      "[5]\tvalidation_0-auc:0.768202\tvalidation_1-auc:0.769746\n",
      "[6]\tvalidation_0-auc:0.794111\tvalidation_1-auc:0.795547\n",
      "[7]\tvalidation_0-auc:0.812636\tvalidation_1-auc:0.810957\n",
      "[8]\tvalidation_0-auc:0.8164\tvalidation_1-auc:0.813688\n",
      "[9]\tvalidation_0-auc:0.817637\tvalidation_1-auc:0.815461\n",
      "[10]\tvalidation_0-auc:0.830884\tvalidation_1-auc:0.826295\n",
      "[11]\tvalidation_0-auc:0.830602\tvalidation_1-auc:0.82656\n",
      "[12]\tvalidation_0-auc:0.837091\tvalidation_1-auc:0.831173\n",
      "[13]\tvalidation_0-auc:0.837816\tvalidation_1-auc:0.832902\n",
      "[14]\tvalidation_0-auc:0.837542\tvalidation_1-auc:0.832938\n",
      "[15]\tvalidation_0-auc:0.840666\tvalidation_1-auc:0.833575\n",
      "[16]\tvalidation_0-auc:0.841154\tvalidation_1-auc:0.834569\n",
      "[17]\tvalidation_0-auc:0.848736\tvalidation_1-auc:0.840611\n",
      "[18]\tvalidation_0-auc:0.852772\tvalidation_1-auc:0.843675\n",
      "[19]\tvalidation_0-auc:0.856851\tvalidation_1-auc:0.848517\n",
      "[20]\tvalidation_0-auc:0.86029\tvalidation_1-auc:0.85076\n",
      "[21]\tvalidation_0-auc:0.860039\tvalidation_1-auc:0.850915\n",
      "[22]\tvalidation_0-auc:0.863378\tvalidation_1-auc:0.852166\n",
      "[23]\tvalidation_0-auc:0.862944\tvalidation_1-auc:0.851596\n",
      "[24]\tvalidation_0-auc:0.863941\tvalidation_1-auc:0.853018\n",
      "[25]\tvalidation_0-auc:0.866279\tvalidation_1-auc:0.854261\n",
      "[26]\tvalidation_0-auc:0.869549\tvalidation_1-auc:0.856056\n",
      "[27]\tvalidation_0-auc:0.871863\tvalidation_1-auc:0.857603\n",
      "[28]\tvalidation_0-auc:0.877019\tvalidation_1-auc:0.861712\n",
      "[29]\tvalidation_0-auc:0.876922\tvalidation_1-auc:0.861482\n",
      "[30]\tvalidation_0-auc:0.877958\tvalidation_1-auc:0.862638\n",
      "[31]\tvalidation_0-auc:0.878376\tvalidation_1-auc:0.862883\n",
      "[32]\tvalidation_0-auc:0.877883\tvalidation_1-auc:0.861757\n",
      "[33]\tvalidation_0-auc:0.879502\tvalidation_1-auc:0.863301\n",
      "[34]\tvalidation_0-auc:0.880174\tvalidation_1-auc:0.86433\n",
      "[35]\tvalidation_0-auc:0.879856\tvalidation_1-auc:0.864139\n",
      "[36]\tvalidation_0-auc:0.881018\tvalidation_1-auc:0.865334\n",
      "[37]\tvalidation_0-auc:0.880984\tvalidation_1-auc:0.865625\n",
      "[38]\tvalidation_0-auc:0.881054\tvalidation_1-auc:0.865481\n",
      "[39]\tvalidation_0-auc:0.882911\tvalidation_1-auc:0.866176\n",
      "[40]\tvalidation_0-auc:0.882933\tvalidation_1-auc:0.866182\n",
      "[41]\tvalidation_0-auc:0.882695\tvalidation_1-auc:0.866224\n",
      "[42]\tvalidation_0-auc:0.8832\tvalidation_1-auc:0.866731\n",
      "[43]\tvalidation_0-auc:0.884684\tvalidation_1-auc:0.867713\n",
      "[44]\tvalidation_0-auc:0.887464\tvalidation_1-auc:0.871063\n",
      "[45]\tvalidation_0-auc:0.88827\tvalidation_1-auc:0.871492\n",
      "[46]\tvalidation_0-auc:0.889504\tvalidation_1-auc:0.872456\n",
      "[47]\tvalidation_0-auc:0.890024\tvalidation_1-auc:0.87269\n",
      "[48]\tvalidation_0-auc:0.892607\tvalidation_1-auc:0.876092\n",
      "[49]\tvalidation_0-auc:0.892556\tvalidation_1-auc:0.875972\n",
      "[50]\tvalidation_0-auc:0.893079\tvalidation_1-auc:0.876442\n",
      "[51]\tvalidation_0-auc:0.893286\tvalidation_1-auc:0.876487\n",
      "[52]\tvalidation_0-auc:0.893558\tvalidation_1-auc:0.876476\n",
      "[53]\tvalidation_0-auc:0.894028\tvalidation_1-auc:0.876387\n",
      "[54]\tvalidation_0-auc:0.894493\tvalidation_1-auc:0.877053\n",
      "[55]\tvalidation_0-auc:0.894925\tvalidation_1-auc:0.877608\n",
      "[56]\tvalidation_0-auc:0.895018\tvalidation_1-auc:0.877782\n",
      "[57]\tvalidation_0-auc:0.896144\tvalidation_1-auc:0.87861\n",
      "[58]\tvalidation_0-auc:0.896228\tvalidation_1-auc:0.878872\n",
      "[59]\tvalidation_0-auc:0.897639\tvalidation_1-auc:0.880772\n",
      "[60]\tvalidation_0-auc:0.897979\tvalidation_1-auc:0.880819\n",
      "[61]\tvalidation_0-auc:0.898262\tvalidation_1-auc:0.881178\n",
      "[62]\tvalidation_0-auc:0.898593\tvalidation_1-auc:0.881727\n",
      "[63]\tvalidation_0-auc:0.900042\tvalidation_1-auc:0.883772\n",
      "[64]\tvalidation_0-auc:0.900692\tvalidation_1-auc:0.884671\n",
      "[65]\tvalidation_0-auc:0.900578\tvalidation_1-auc:0.885027\n",
      "[66]\tvalidation_0-auc:0.900855\tvalidation_1-auc:0.885156\n",
      "[67]\tvalidation_0-auc:0.901125\tvalidation_1-auc:0.885303\n",
      "[68]\tvalidation_0-auc:0.901363\tvalidation_1-auc:0.886056\n",
      "[69]\tvalidation_0-auc:0.901642\tvalidation_1-auc:0.886105\n",
      "[70]\tvalidation_0-auc:0.902032\tvalidation_1-auc:0.886675\n",
      "[71]\tvalidation_0-auc:0.902095\tvalidation_1-auc:0.886843\n",
      "[72]\tvalidation_0-auc:0.902352\tvalidation_1-auc:0.886596\n",
      "[73]\tvalidation_0-auc:0.902266\tvalidation_1-auc:0.88659\n",
      "[74]\tvalidation_0-auc:0.902592\tvalidation_1-auc:0.886554\n",
      "[75]\tvalidation_0-auc:0.902791\tvalidation_1-auc:0.886668\n",
      "[76]\tvalidation_0-auc:0.902934\tvalidation_1-auc:0.8868\n",
      "[77]\tvalidation_0-auc:0.902911\tvalidation_1-auc:0.886774\n",
      "[78]\tvalidation_0-auc:0.903328\tvalidation_1-auc:0.88719\n",
      "[79]\tvalidation_0-auc:0.903413\tvalidation_1-auc:0.887279\n",
      "[80]\tvalidation_0-auc:0.903413\tvalidation_1-auc:0.88728\n",
      "[81]\tvalidation_0-auc:0.904073\tvalidation_1-auc:0.887832\n",
      "[82]\tvalidation_0-auc:0.904378\tvalidation_1-auc:0.888557\n",
      "[83]\tvalidation_0-auc:0.904576\tvalidation_1-auc:0.888786\n",
      "[84]\tvalidation_0-auc:0.904989\tvalidation_1-auc:0.889219\n",
      "[85]\tvalidation_0-auc:0.905163\tvalidation_1-auc:0.889378\n",
      "[86]\tvalidation_0-auc:0.905275\tvalidation_1-auc:0.889567\n",
      "[87]\tvalidation_0-auc:0.905579\tvalidation_1-auc:0.889856\n",
      "[88]\tvalidation_0-auc:0.90602\tvalidation_1-auc:0.890452\n",
      "[89]\tvalidation_0-auc:0.906078\tvalidation_1-auc:0.890556\n",
      "[90]\tvalidation_0-auc:0.906182\tvalidation_1-auc:0.890551\n",
      "[91]\tvalidation_0-auc:0.906541\tvalidation_1-auc:0.890921\n",
      "[92]\tvalidation_0-auc:0.906567\tvalidation_1-auc:0.891091\n",
      "[93]\tvalidation_0-auc:0.90711\tvalidation_1-auc:0.891629\n",
      "[94]\tvalidation_0-auc:0.907324\tvalidation_1-auc:0.891561\n",
      "[95]\tvalidation_0-auc:0.907362\tvalidation_1-auc:0.891613\n",
      "[96]\tvalidation_0-auc:0.907601\tvalidation_1-auc:0.891517\n",
      "[97]\tvalidation_0-auc:0.907651\tvalidation_1-auc:0.891458\n",
      "[98]\tvalidation_0-auc:0.907991\tvalidation_1-auc:0.891845\n",
      "[99]\tvalidation_0-auc:0.908072\tvalidation_1-auc:0.891908\n",
      "[100]\tvalidation_0-auc:0.908344\tvalidation_1-auc:0.892427\n",
      "[101]\tvalidation_0-auc:0.908381\tvalidation_1-auc:0.892493\n",
      "[102]\tvalidation_0-auc:0.90843\tvalidation_1-auc:0.892563\n",
      "[103]\tvalidation_0-auc:0.908666\tvalidation_1-auc:0.892552\n",
      "[104]\tvalidation_0-auc:0.908856\tvalidation_1-auc:0.892665\n",
      "[105]\tvalidation_0-auc:0.908889\tvalidation_1-auc:0.892494\n",
      "[106]\tvalidation_0-auc:0.90891\tvalidation_1-auc:0.892585\n",
      "[107]\tvalidation_0-auc:0.90885\tvalidation_1-auc:0.892594\n",
      "[108]\tvalidation_0-auc:0.90902\tvalidation_1-auc:0.892633\n",
      "[109]\tvalidation_0-auc:0.909637\tvalidation_1-auc:0.893095\n",
      "[110]\tvalidation_0-auc:0.909831\tvalidation_1-auc:0.892996\n",
      "[111]\tvalidation_0-auc:0.90991\tvalidation_1-auc:0.892999\n",
      "[112]\tvalidation_0-auc:0.909976\tvalidation_1-auc:0.892995\n",
      "[113]\tvalidation_0-auc:0.909979\tvalidation_1-auc:0.892939\n",
      "[114]\tvalidation_0-auc:0.909967\tvalidation_1-auc:0.893123\n",
      "[115]\tvalidation_0-auc:0.910108\tvalidation_1-auc:0.893221\n",
      "[116]\tvalidation_0-auc:0.910248\tvalidation_1-auc:0.893202\n",
      "[117]\tvalidation_0-auc:0.910443\tvalidation_1-auc:0.893397\n",
      "[118]\tvalidation_0-auc:0.910555\tvalidation_1-auc:0.893332\n",
      "[119]\tvalidation_0-auc:0.91075\tvalidation_1-auc:0.89355\n",
      "[120]\tvalidation_0-auc:0.910782\tvalidation_1-auc:0.893547\n",
      "[121]\tvalidation_0-auc:0.91077\tvalidation_1-auc:0.893559\n",
      "[122]\tvalidation_0-auc:0.910887\tvalidation_1-auc:0.893628\n",
      "[123]\tvalidation_0-auc:0.910983\tvalidation_1-auc:0.893665\n",
      "[124]\tvalidation_0-auc:0.911049\tvalidation_1-auc:0.893624\n",
      "[125]\tvalidation_0-auc:0.911091\tvalidation_1-auc:0.893542\n",
      "[126]\tvalidation_0-auc:0.911178\tvalidation_1-auc:0.893514\n",
      "[127]\tvalidation_0-auc:0.911537\tvalidation_1-auc:0.893643\n",
      "[128]\tvalidation_0-auc:0.911625\tvalidation_1-auc:0.893617\n",
      "[129]\tvalidation_0-auc:0.911724\tvalidation_1-auc:0.893602\n",
      "[130]\tvalidation_0-auc:0.911772\tvalidation_1-auc:0.893724\n",
      "[131]\tvalidation_0-auc:0.911962\tvalidation_1-auc:0.893911\n",
      "[132]\tvalidation_0-auc:0.912095\tvalidation_1-auc:0.893892\n",
      "[133]\tvalidation_0-auc:0.912105\tvalidation_1-auc:0.893878\n",
      "[134]\tvalidation_0-auc:0.91216\tvalidation_1-auc:0.894086\n",
      "[135]\tvalidation_0-auc:0.912346\tvalidation_1-auc:0.893824\n",
      "[136]\tvalidation_0-auc:0.912431\tvalidation_1-auc:0.89382\n",
      "[137]\tvalidation_0-auc:0.912448\tvalidation_1-auc:0.893814\n",
      "[138]\tvalidation_0-auc:0.912553\tvalidation_1-auc:0.893762\n",
      "[139]\tvalidation_0-auc:0.912686\tvalidation_1-auc:0.893725\n",
      "[140]\tvalidation_0-auc:0.912771\tvalidation_1-auc:0.893609\n"
     ]
    },
    {
     "name": "stdout",
     "output_type": "stream",
     "text": [
      "[141]\tvalidation_0-auc:0.913003\tvalidation_1-auc:0.893762\n",
      "[142]\tvalidation_0-auc:0.912955\tvalidation_1-auc:0.893595\n",
      "[143]\tvalidation_0-auc:0.912953\tvalidation_1-auc:0.893599\n",
      "[144]\tvalidation_0-auc:0.913002\tvalidation_1-auc:0.893514\n",
      "[145]\tvalidation_0-auc:0.913547\tvalidation_1-auc:0.893967\n",
      "[146]\tvalidation_0-auc:0.913951\tvalidation_1-auc:0.894534\n",
      "[147]\tvalidation_0-auc:0.913985\tvalidation_1-auc:0.894489\n",
      "[148]\tvalidation_0-auc:0.914053\tvalidation_1-auc:0.894634\n",
      "[149]\tvalidation_0-auc:0.914146\tvalidation_1-auc:0.894862\n",
      "[150]\tvalidation_0-auc:0.914184\tvalidation_1-auc:0.894775\n",
      "[151]\tvalidation_0-auc:0.914287\tvalidation_1-auc:0.894722\n",
      "[152]\tvalidation_0-auc:0.91432\tvalidation_1-auc:0.894719\n",
      "[153]\tvalidation_0-auc:0.914394\tvalidation_1-auc:0.894738\n",
      "[154]\tvalidation_0-auc:0.914517\tvalidation_1-auc:0.89468\n",
      "[155]\tvalidation_0-auc:0.914622\tvalidation_1-auc:0.894606\n",
      "[156]\tvalidation_0-auc:0.914761\tvalidation_1-auc:0.894753\n",
      "[157]\tvalidation_0-auc:0.914782\tvalidation_1-auc:0.894746\n",
      "[158]\tvalidation_0-auc:0.91487\tvalidation_1-auc:0.894701\n",
      "[159]\tvalidation_0-auc:0.914927\tvalidation_1-auc:0.894786\n",
      "[160]\tvalidation_0-auc:0.915028\tvalidation_1-auc:0.894946\n",
      "[161]\tvalidation_0-auc:0.915508\tvalidation_1-auc:0.895535\n",
      "[162]\tvalidation_0-auc:0.91551\tvalidation_1-auc:0.895687\n",
      "[163]\tvalidation_0-auc:0.915736\tvalidation_1-auc:0.896069\n",
      "[164]\tvalidation_0-auc:0.915738\tvalidation_1-auc:0.896066\n",
      "[165]\tvalidation_0-auc:0.915808\tvalidation_1-auc:0.895928\n",
      "[166]\tvalidation_0-auc:0.915922\tvalidation_1-auc:0.89601\n",
      "[167]\tvalidation_0-auc:0.915998\tvalidation_1-auc:0.896165\n",
      "[168]\tvalidation_0-auc:0.91612\tvalidation_1-auc:0.896035\n",
      "[169]\tvalidation_0-auc:0.916223\tvalidation_1-auc:0.896251\n",
      "[170]\tvalidation_0-auc:0.916252\tvalidation_1-auc:0.896214\n",
      "[171]\tvalidation_0-auc:0.916295\tvalidation_1-auc:0.896088\n",
      "[172]\tvalidation_0-auc:0.916324\tvalidation_1-auc:0.896132\n",
      "[173]\tvalidation_0-auc:0.916423\tvalidation_1-auc:0.896166\n",
      "[174]\tvalidation_0-auc:0.916459\tvalidation_1-auc:0.896238\n",
      "[175]\tvalidation_0-auc:0.91653\tvalidation_1-auc:0.89642\n",
      "[176]\tvalidation_0-auc:0.916558\tvalidation_1-auc:0.896422\n",
      "[177]\tvalidation_0-auc:0.916624\tvalidation_1-auc:0.896441\n",
      "[178]\tvalidation_0-auc:0.916699\tvalidation_1-auc:0.896521\n",
      "[179]\tvalidation_0-auc:0.91677\tvalidation_1-auc:0.896547\n",
      "[180]\tvalidation_0-auc:0.916894\tvalidation_1-auc:0.896626\n",
      "[181]\tvalidation_0-auc:0.916946\tvalidation_1-auc:0.896735\n",
      "[182]\tvalidation_0-auc:0.916949\tvalidation_1-auc:0.89677\n",
      "[183]\tvalidation_0-auc:0.917025\tvalidation_1-auc:0.896745\n",
      "[184]\tvalidation_0-auc:0.917023\tvalidation_1-auc:0.89684\n",
      "[185]\tvalidation_0-auc:0.917101\tvalidation_1-auc:0.896767\n",
      "[186]\tvalidation_0-auc:0.917133\tvalidation_1-auc:0.89676\n",
      "[187]\tvalidation_0-auc:0.917198\tvalidation_1-auc:0.896805\n",
      "[188]\tvalidation_0-auc:0.917224\tvalidation_1-auc:0.896869\n",
      "[189]\tvalidation_0-auc:0.91734\tvalidation_1-auc:0.89697\n",
      "[190]\tvalidation_0-auc:0.917375\tvalidation_1-auc:0.896994\n",
      "[191]\tvalidation_0-auc:0.917488\tvalidation_1-auc:0.897163\n",
      "[192]\tvalidation_0-auc:0.917604\tvalidation_1-auc:0.897241\n",
      "[193]\tvalidation_0-auc:0.917717\tvalidation_1-auc:0.897306\n",
      "[194]\tvalidation_0-auc:0.917757\tvalidation_1-auc:0.89734\n",
      "[195]\tvalidation_0-auc:0.917796\tvalidation_1-auc:0.897392\n",
      "[196]\tvalidation_0-auc:0.917803\tvalidation_1-auc:0.897322\n",
      "[197]\tvalidation_0-auc:0.917807\tvalidation_1-auc:0.897357\n",
      "[198]\tvalidation_0-auc:0.917834\tvalidation_1-auc:0.897269\n",
      "[199]\tvalidation_0-auc:0.917931\tvalidation_1-auc:0.897317\n",
      "[200]\tvalidation_0-auc:0.917983\tvalidation_1-auc:0.897354\n",
      "[201]\tvalidation_0-auc:0.918157\tvalidation_1-auc:0.897704\n",
      "[202]\tvalidation_0-auc:0.918215\tvalidation_1-auc:0.897554\n",
      "[203]\tvalidation_0-auc:0.918309\tvalidation_1-auc:0.897576\n",
      "[204]\tvalidation_0-auc:0.91834\tvalidation_1-auc:0.897586\n",
      "[205]\tvalidation_0-auc:0.918396\tvalidation_1-auc:0.897578\n",
      "[206]\tvalidation_0-auc:0.918406\tvalidation_1-auc:0.897568\n",
      "[207]\tvalidation_0-auc:0.918481\tvalidation_1-auc:0.897593\n",
      "[208]\tvalidation_0-auc:0.918532\tvalidation_1-auc:0.897693\n",
      "[209]\tvalidation_0-auc:0.918618\tvalidation_1-auc:0.897569\n",
      "[210]\tvalidation_0-auc:0.918714\tvalidation_1-auc:0.897583\n",
      "[211]\tvalidation_0-auc:0.918835\tvalidation_1-auc:0.897817\n",
      "[212]\tvalidation_0-auc:0.918964\tvalidation_1-auc:0.897799\n",
      "[213]\tvalidation_0-auc:0.918984\tvalidation_1-auc:0.897886\n",
      "[214]\tvalidation_0-auc:0.919126\tvalidation_1-auc:0.897936\n",
      "[215]\tvalidation_0-auc:0.91914\tvalidation_1-auc:0.897927\n",
      "[216]\tvalidation_0-auc:0.919224\tvalidation_1-auc:0.897959\n",
      "[217]\tvalidation_0-auc:0.919268\tvalidation_1-auc:0.897969\n",
      "[218]\tvalidation_0-auc:0.919357\tvalidation_1-auc:0.897997\n",
      "[219]\tvalidation_0-auc:0.919377\tvalidation_1-auc:0.898026\n",
      "[220]\tvalidation_0-auc:0.919501\tvalidation_1-auc:0.898228\n",
      "[221]\tvalidation_0-auc:0.919559\tvalidation_1-auc:0.898256\n",
      "[222]\tvalidation_0-auc:0.9197\tvalidation_1-auc:0.898339\n",
      "[223]\tvalidation_0-auc:0.919902\tvalidation_1-auc:0.898423\n",
      "[224]\tvalidation_0-auc:0.919942\tvalidation_1-auc:0.898399\n",
      "[225]\tvalidation_0-auc:0.920006\tvalidation_1-auc:0.898298\n",
      "[226]\tvalidation_0-auc:0.920065\tvalidation_1-auc:0.898367\n",
      "[227]\tvalidation_0-auc:0.920209\tvalidation_1-auc:0.898453\n",
      "[228]\tvalidation_0-auc:0.920397\tvalidation_1-auc:0.898413\n",
      "[229]\tvalidation_0-auc:0.920496\tvalidation_1-auc:0.89854\n",
      "[230]\tvalidation_0-auc:0.920602\tvalidation_1-auc:0.89857\n",
      "[231]\tvalidation_0-auc:0.920734\tvalidation_1-auc:0.89866\n",
      "[232]\tvalidation_0-auc:0.92073\tvalidation_1-auc:0.898668\n",
      "[233]\tvalidation_0-auc:0.920781\tvalidation_1-auc:0.898558\n",
      "[234]\tvalidation_0-auc:0.920825\tvalidation_1-auc:0.898579\n",
      "[235]\tvalidation_0-auc:0.920897\tvalidation_1-auc:0.898597\n",
      "[236]\tvalidation_0-auc:0.92092\tvalidation_1-auc:0.898608\n",
      "[237]\tvalidation_0-auc:0.921007\tvalidation_1-auc:0.898724\n",
      "[238]\tvalidation_0-auc:0.92106\tvalidation_1-auc:0.898771\n",
      "[239]\tvalidation_0-auc:0.921099\tvalidation_1-auc:0.898869\n",
      "[240]\tvalidation_0-auc:0.9211\tvalidation_1-auc:0.898861\n",
      "[241]\tvalidation_0-auc:0.921153\tvalidation_1-auc:0.898832\n",
      "[242]\tvalidation_0-auc:0.92117\tvalidation_1-auc:0.898807\n",
      "[243]\tvalidation_0-auc:0.921209\tvalidation_1-auc:0.898796\n",
      "[244]\tvalidation_0-auc:0.921226\tvalidation_1-auc:0.898764\n",
      "[245]\tvalidation_0-auc:0.921324\tvalidation_1-auc:0.898729\n",
      "[246]\tvalidation_0-auc:0.921311\tvalidation_1-auc:0.898728\n",
      "[247]\tvalidation_0-auc:0.921346\tvalidation_1-auc:0.898759\n",
      "[248]\tvalidation_0-auc:0.921413\tvalidation_1-auc:0.898799\n",
      "[249]\tvalidation_0-auc:0.921418\tvalidation_1-auc:0.898807\n",
      "[250]\tvalidation_0-auc:0.921451\tvalidation_1-auc:0.89886\n",
      "[251]\tvalidation_0-auc:0.921454\tvalidation_1-auc:0.898852\n",
      "[252]\tvalidation_0-auc:0.921554\tvalidation_1-auc:0.898776\n",
      "[253]\tvalidation_0-auc:0.921733\tvalidation_1-auc:0.898914\n",
      "[254]\tvalidation_0-auc:0.921855\tvalidation_1-auc:0.89892\n",
      "[255]\tvalidation_0-auc:0.921908\tvalidation_1-auc:0.898833\n",
      "[256]\tvalidation_0-auc:0.921942\tvalidation_1-auc:0.898842\n",
      "[257]\tvalidation_0-auc:0.922094\tvalidation_1-auc:0.89888\n",
      "[258]\tvalidation_0-auc:0.922131\tvalidation_1-auc:0.898935\n",
      "[259]\tvalidation_0-auc:0.922136\tvalidation_1-auc:0.898877\n",
      "[260]\tvalidation_0-auc:0.922217\tvalidation_1-auc:0.898843\n",
      "[261]\tvalidation_0-auc:0.922224\tvalidation_1-auc:0.89886\n",
      "[262]\tvalidation_0-auc:0.922275\tvalidation_1-auc:0.898925\n",
      "[263]\tvalidation_0-auc:0.922278\tvalidation_1-auc:0.898879\n",
      "[264]\tvalidation_0-auc:0.922313\tvalidation_1-auc:0.898888\n",
      "[265]\tvalidation_0-auc:0.922374\tvalidation_1-auc:0.898925\n",
      "[266]\tvalidation_0-auc:0.922421\tvalidation_1-auc:0.898964\n",
      "[267]\tvalidation_0-auc:0.922473\tvalidation_1-auc:0.898967\n",
      "[268]\tvalidation_0-auc:0.922579\tvalidation_1-auc:0.898996\n",
      "[269]\tvalidation_0-auc:0.922587\tvalidation_1-auc:0.899\n",
      "[270]\tvalidation_0-auc:0.922632\tvalidation_1-auc:0.898963\n",
      "[271]\tvalidation_0-auc:0.922661\tvalidation_1-auc:0.898977\n",
      "[272]\tvalidation_0-auc:0.922669\tvalidation_1-auc:0.898993\n",
      "[273]\tvalidation_0-auc:0.922746\tvalidation_1-auc:0.898919\n",
      "[274]\tvalidation_0-auc:0.922884\tvalidation_1-auc:0.899032\n",
      "[275]\tvalidation_0-auc:0.922929\tvalidation_1-auc:0.899012\n",
      "[276]\tvalidation_0-auc:0.922952\tvalidation_1-auc:0.89904\n",
      "[277]\tvalidation_0-auc:0.923025\tvalidation_1-auc:0.898972\n",
      "[278]\tvalidation_0-auc:0.923072\tvalidation_1-auc:0.899066\n",
      "[279]\tvalidation_0-auc:0.923109\tvalidation_1-auc:0.898981\n",
      "[280]\tvalidation_0-auc:0.92311\tvalidation_1-auc:0.898954\n",
      "[281]\tvalidation_0-auc:0.923128\tvalidation_1-auc:0.898917\n",
      "[282]\tvalidation_0-auc:0.923132\tvalidation_1-auc:0.898904\n"
     ]
    },
    {
     "name": "stdout",
     "output_type": "stream",
     "text": [
      "[283]\tvalidation_0-auc:0.92318\tvalidation_1-auc:0.898888\n",
      "[284]\tvalidation_0-auc:0.923229\tvalidation_1-auc:0.898892\n",
      "[285]\tvalidation_0-auc:0.923235\tvalidation_1-auc:0.898877\n",
      "[286]\tvalidation_0-auc:0.923271\tvalidation_1-auc:0.898837\n",
      "[287]\tvalidation_0-auc:0.923288\tvalidation_1-auc:0.89883\n",
      "[288]\tvalidation_0-auc:0.923418\tvalidation_1-auc:0.898789\n",
      "[289]\tvalidation_0-auc:0.92342\tvalidation_1-auc:0.898791\n",
      "[290]\tvalidation_0-auc:0.923427\tvalidation_1-auc:0.898731\n",
      "[291]\tvalidation_0-auc:0.923484\tvalidation_1-auc:0.898762\n",
      "[292]\tvalidation_0-auc:0.923499\tvalidation_1-auc:0.898777\n",
      "[293]\tvalidation_0-auc:0.923531\tvalidation_1-auc:0.898747\n",
      "[294]\tvalidation_0-auc:0.923588\tvalidation_1-auc:0.898715\n",
      "[295]\tvalidation_0-auc:0.923591\tvalidation_1-auc:0.898708\n",
      "[296]\tvalidation_0-auc:0.923649\tvalidation_1-auc:0.898748\n",
      "[297]\tvalidation_0-auc:0.923654\tvalidation_1-auc:0.898719\n",
      "[298]\tvalidation_0-auc:0.923731\tvalidation_1-auc:0.898706\n",
      "[299]\tvalidation_0-auc:0.92378\tvalidation_1-auc:0.898682\n",
      "[300]\tvalidation_0-auc:0.923805\tvalidation_1-auc:0.898682\n",
      "[301]\tvalidation_0-auc:0.923875\tvalidation_1-auc:0.898644\n",
      "[302]\tvalidation_0-auc:0.923974\tvalidation_1-auc:0.898616\n",
      "[303]\tvalidation_0-auc:0.924029\tvalidation_1-auc:0.898683\n",
      "[304]\tvalidation_0-auc:0.924026\tvalidation_1-auc:0.898706\n",
      "[305]\tvalidation_0-auc:0.924059\tvalidation_1-auc:0.898665\n",
      "[306]\tvalidation_0-auc:0.924081\tvalidation_1-auc:0.898676\n",
      "[307]\tvalidation_0-auc:0.924143\tvalidation_1-auc:0.898576\n",
      "[308]\tvalidation_0-auc:0.924214\tvalidation_1-auc:0.898645\n",
      "Stopping. Best iteration:\n",
      "[278]\tvalidation_0-auc:0.923072\tvalidation_1-auc:0.899066\n",
      "\n"
     ]
    },
    {
     "data": {
      "text/plain": [
       "XGBClassifier(base_score=0.5, booster='gbtree', colsample_bylevel=1,\n",
       "       colsample_bynode=1, colsample_bytree=1, gamma=0, learning_rate=0.1,\n",
       "       max_delta_step=0, max_depth=3, min_child_weight=1, missing=None,\n",
       "       n_estimators=10000, n_jobs=1, nthread=None,\n",
       "       objective='binary:logistic', random_state=0, reg_alpha=0,\n",
       "       reg_lambda=1, scale_pos_weight=1, seed=None, silent=None,\n",
       "       subsample=1, verbosity=1)"
      ]
     },
     "execution_count": 14,
     "metadata": {},
     "output_type": "execute_result"
    }
   ],
   "source": [
    "clf = xgb.XGBClassifier(n_estimators=10000)\n",
    "eval_set = [(x_train, y_train), (x_test, y_test)]\n",
    "clf.fit(x_train, y_train, eval_set=eval_set,\n",
    "       eval_metric=\"auc\", early_stopping_rounds=30)"
   ]
  },
  {
   "cell_type": "code",
   "execution_count": null,
   "metadata": {},
   "outputs": [],
   "source": []
  },
  {
   "cell_type": "code",
   "execution_count": 39,
   "metadata": {
    "collapsed": true
   },
   "outputs": [
    {
     "ename": "TypeError",
     "evalue": "can only concatenate str (not \"type\") to str",
     "output_type": "error",
     "traceback": [
      "\u001b[1;31m---------------------------------------------------------------------------\u001b[0m",
      "\u001b[1;31mTypeError\u001b[0m                                 Traceback (most recent call last)",
      "\u001b[1;32m<ipython-input-39-4b7a17a533eb>\u001b[0m in \u001b[0;36m<module>\u001b[1;34m\u001b[0m\n\u001b[0;32m      1\u001b[0m \u001b[0mfeatures\u001b[0m \u001b[1;33m=\u001b[0m \u001b[1;33m[\u001b[0m\u001b[1;34m\"your list of features..\"\u001b[0m\u001b[1;33m]\u001b[0m\u001b[1;33m\u001b[0m\u001b[1;33m\u001b[0m\u001b[0m\n\u001b[1;32m----> 2\u001b[1;33m \u001b[0mmapFeat\u001b[0m \u001b[1;33m=\u001b[0m \u001b[0mdict\u001b[0m\u001b[1;33m(\u001b[0m\u001b[0mzip\u001b[0m\u001b[1;33m(\u001b[0m\u001b[1;33m[\u001b[0m\u001b[1;34m\"f\"\u001b[0m\u001b[1;33m+\u001b[0m\u001b[0mstr\u001b[0m \u001b[1;32mfor\u001b[0m \u001b[0mi\u001b[0m \u001b[1;32min\u001b[0m \u001b[0mrange\u001b[0m\u001b[1;33m(\u001b[0m\u001b[0mlen\u001b[0m\u001b[1;33m(\u001b[0m\u001b[0mfeatures\u001b[0m\u001b[1;33m)\u001b[0m\u001b[1;33m)\u001b[0m\u001b[1;33m]\u001b[0m\u001b[1;33m,\u001b[0m \u001b[0mfeatures\u001b[0m\u001b[1;33m)\u001b[0m\u001b[1;33m)\u001b[0m\u001b[1;33m\u001b[0m\u001b[1;33m\u001b[0m\u001b[0m\n\u001b[0m\u001b[0;32m      3\u001b[0m \u001b[0mts\u001b[0m \u001b[1;33m=\u001b[0m \u001b[0mpd\u001b[0m\u001b[1;33m.\u001b[0m\u001b[0mSeries\u001b[0m\u001b[1;33m(\u001b[0m\u001b[0mclf\u001b[0m\u001b[1;33m.\u001b[0m\u001b[0mbooster\u001b[0m\u001b[1;33m(\u001b[0m\u001b[1;33m)\u001b[0m\u001b[1;33m.\u001b[0m\u001b[0mget_fscore\u001b[0m\u001b[1;33m(\u001b[0m\u001b[1;33m)\u001b[0m\u001b[1;33m)\u001b[0m\u001b[1;33m\u001b[0m\u001b[1;33m\u001b[0m\u001b[0m\n\u001b[0;32m      4\u001b[0m \u001b[0mts\u001b[0m\u001b[1;33m.\u001b[0m\u001b[0mindex\u001b[0m \u001b[1;33m=\u001b[0m \u001b[0mts\u001b[0m\u001b[1;33m.\u001b[0m\u001b[0mreset_index\u001b[0m\u001b[1;33m(\u001b[0m\u001b[1;33m)\u001b[0m\u001b[1;33m[\u001b[0m\u001b[1;34m'index'\u001b[0m\u001b[1;33m]\u001b[0m\u001b[1;33m.\u001b[0m\u001b[0mmap\u001b[0m\u001b[1;33m(\u001b[0m\u001b[0mmapFeat\u001b[0m\u001b[1;33m)\u001b[0m\u001b[1;33m\u001b[0m\u001b[1;33m\u001b[0m\u001b[0m\n\u001b[0;32m      5\u001b[0m \u001b[0mts\u001b[0m\u001b[1;33m.\u001b[0m\u001b[0morder\u001b[0m\u001b[1;33m(\u001b[0m\u001b[1;33m)\u001b[0m\u001b[1;33m[\u001b[0m\u001b[1;33m-\u001b[0m\u001b[1;36m15\u001b[0m\u001b[1;33m:\u001b[0m\u001b[1;33m]\u001b[0m\u001b[1;33m.\u001b[0m\u001b[0mplot\u001b[0m\u001b[1;33m(\u001b[0m\u001b[0mkind\u001b[0m\u001b[1;33m=\u001b[0m\u001b[1;34m\"barh\"\u001b[0m\u001b[1;33m,\u001b[0m \u001b[0mtittle\u001b[0m\u001b[1;33m=\u001b[0m\u001b[1;33m(\u001b[0m\u001b[1;34m\"features importance\"\u001b[0m\u001b[1;33m)\u001b[0m\u001b[1;33m)\u001b[0m\u001b[1;33m\u001b[0m\u001b[1;33m\u001b[0m\u001b[0m\n",
      "\u001b[1;32m<ipython-input-39-4b7a17a533eb>\u001b[0m in \u001b[0;36m<listcomp>\u001b[1;34m(.0)\u001b[0m\n\u001b[0;32m      1\u001b[0m \u001b[0mfeatures\u001b[0m \u001b[1;33m=\u001b[0m \u001b[1;33m[\u001b[0m\u001b[1;34m\"your list of features..\"\u001b[0m\u001b[1;33m]\u001b[0m\u001b[1;33m\u001b[0m\u001b[1;33m\u001b[0m\u001b[0m\n\u001b[1;32m----> 2\u001b[1;33m \u001b[0mmapFeat\u001b[0m \u001b[1;33m=\u001b[0m \u001b[0mdict\u001b[0m\u001b[1;33m(\u001b[0m\u001b[0mzip\u001b[0m\u001b[1;33m(\u001b[0m\u001b[1;33m[\u001b[0m\u001b[1;34m\"f\"\u001b[0m\u001b[1;33m+\u001b[0m\u001b[0mstr\u001b[0m \u001b[1;32mfor\u001b[0m \u001b[0mi\u001b[0m \u001b[1;32min\u001b[0m \u001b[0mrange\u001b[0m\u001b[1;33m(\u001b[0m\u001b[0mlen\u001b[0m\u001b[1;33m(\u001b[0m\u001b[0mfeatures\u001b[0m\u001b[1;33m)\u001b[0m\u001b[1;33m)\u001b[0m\u001b[1;33m]\u001b[0m\u001b[1;33m,\u001b[0m \u001b[0mfeatures\u001b[0m\u001b[1;33m)\u001b[0m\u001b[1;33m)\u001b[0m\u001b[1;33m\u001b[0m\u001b[1;33m\u001b[0m\u001b[0m\n\u001b[0m\u001b[0;32m      3\u001b[0m \u001b[0mts\u001b[0m \u001b[1;33m=\u001b[0m \u001b[0mpd\u001b[0m\u001b[1;33m.\u001b[0m\u001b[0mSeries\u001b[0m\u001b[1;33m(\u001b[0m\u001b[0mclf\u001b[0m\u001b[1;33m.\u001b[0m\u001b[0mbooster\u001b[0m\u001b[1;33m(\u001b[0m\u001b[1;33m)\u001b[0m\u001b[1;33m.\u001b[0m\u001b[0mget_fscore\u001b[0m\u001b[1;33m(\u001b[0m\u001b[1;33m)\u001b[0m\u001b[1;33m)\u001b[0m\u001b[1;33m\u001b[0m\u001b[1;33m\u001b[0m\u001b[0m\n\u001b[0;32m      4\u001b[0m \u001b[0mts\u001b[0m\u001b[1;33m.\u001b[0m\u001b[0mindex\u001b[0m \u001b[1;33m=\u001b[0m \u001b[0mts\u001b[0m\u001b[1;33m.\u001b[0m\u001b[0mreset_index\u001b[0m\u001b[1;33m(\u001b[0m\u001b[1;33m)\u001b[0m\u001b[1;33m[\u001b[0m\u001b[1;34m'index'\u001b[0m\u001b[1;33m]\u001b[0m\u001b[1;33m.\u001b[0m\u001b[0mmap\u001b[0m\u001b[1;33m(\u001b[0m\u001b[0mmapFeat\u001b[0m\u001b[1;33m)\u001b[0m\u001b[1;33m\u001b[0m\u001b[1;33m\u001b[0m\u001b[0m\n\u001b[0;32m      5\u001b[0m \u001b[0mts\u001b[0m\u001b[1;33m.\u001b[0m\u001b[0morder\u001b[0m\u001b[1;33m(\u001b[0m\u001b[1;33m)\u001b[0m\u001b[1;33m[\u001b[0m\u001b[1;33m-\u001b[0m\u001b[1;36m15\u001b[0m\u001b[1;33m:\u001b[0m\u001b[1;33m]\u001b[0m\u001b[1;33m.\u001b[0m\u001b[0mplot\u001b[0m\u001b[1;33m(\u001b[0m\u001b[0mkind\u001b[0m\u001b[1;33m=\u001b[0m\u001b[1;34m\"barh\"\u001b[0m\u001b[1;33m,\u001b[0m \u001b[0mtittle\u001b[0m\u001b[1;33m=\u001b[0m\u001b[1;33m(\u001b[0m\u001b[1;34m\"features importance\"\u001b[0m\u001b[1;33m)\u001b[0m\u001b[1;33m)\u001b[0m\u001b[1;33m\u001b[0m\u001b[1;33m\u001b[0m\u001b[0m\n",
      "\u001b[1;31mTypeError\u001b[0m: can only concatenate str (not \"type\") to str"
     ]
    }
   ],
   "source": [
    "features = [\"your list of features..\"]\n",
    "mapFeat = dict(zip([\"f\"+str for i in range(len(features))], features))\n",
    "ts = pd.Series(clf.booster().get_fscore())\n",
    "ts.index = ts.reset_index()['index'].map(mapFeat)\n",
    "ts.order()[-15:].plot(kind=\"barh\", tittle=(\"features importance\"))"
   ]
  },
  {
   "cell_type": "code",
   "execution_count": 21,
   "metadata": {},
   "outputs": [],
   "source": [
    "#import dataiku\n",
    "import pandas as pd, numpy as np\n",
    "#from dataiku import pandasutils as pdu\n",
    "from sklearn.metrics import roc_auc_score\n",
    "import xgboost as xgb \n",
    "from hyperopt import hp, fmin, tpe,STATUS_OK"
   ]
  },
  {
   "cell_type": "code",
   "execution_count": 58,
   "metadata": {},
   "outputs": [],
   "source": [
    "testd = pd.read_csv(r'C:\\Users\\maximus\\Videos\\data analyses\\intercampusai2019\\test.csv')\n",
    "sample = pd.read_csv(r'C:\\Users\\maximus\\Videos\\data analyses\\intercampusai2019\\sample_submission2.csv')"
   ]
  },
  {
   "cell_type": "code",
   "execution_count": 57,
   "metadata": {
    "collapsed": true
   },
   "outputs": [
    {
     "data": {
      "text/html": [
       "<div>\n",
       "<style scoped>\n",
       "    .dataframe tbody tr th:only-of-type {\n",
       "        vertical-align: middle;\n",
       "    }\n",
       "\n",
       "    .dataframe tbody tr th {\n",
       "        vertical-align: top;\n",
       "    }\n",
       "\n",
       "    .dataframe thead th {\n",
       "        text-align: right;\n",
       "    }\n",
       "</style>\n",
       "<table border=\"1\" class=\"dataframe\">\n",
       "  <thead>\n",
       "    <tr style=\"text-align: right;\">\n",
       "      <th></th>\n",
       "      <th>EmployeeNo</th>\n",
       "      <th>Division</th>\n",
       "      <th>Qualification</th>\n",
       "      <th>Gender</th>\n",
       "      <th>Channel_of_Recruitment</th>\n",
       "      <th>Trainings_Attended</th>\n",
       "      <th>Year_of_birth</th>\n",
       "      <th>Last_performance_score</th>\n",
       "      <th>Year_of_recruitment</th>\n",
       "      <th>Targets_met</th>\n",
       "      <th>Previous_Award</th>\n",
       "      <th>Training_score_average</th>\n",
       "      <th>State_Of_Origin</th>\n",
       "      <th>Foreign_schooled</th>\n",
       "      <th>Marital_Status</th>\n",
       "      <th>Past_Disciplinary_Action</th>\n",
       "      <th>Previous_IntraDepartmental_Movement</th>\n",
       "      <th>No_of_previous_employers</th>\n",
       "    </tr>\n",
       "  </thead>\n",
       "  <tbody>\n",
       "    <tr>\n",
       "      <th>0</th>\n",
       "      <td>YAK/S/00005</td>\n",
       "      <td>Information Technology and Solution Support</td>\n",
       "      <td>First Degree or HND</td>\n",
       "      <td>Male</td>\n",
       "      <td>Agency and others</td>\n",
       "      <td>2</td>\n",
       "      <td>1976</td>\n",
       "      <td>7.5</td>\n",
       "      <td>2017</td>\n",
       "      <td>0</td>\n",
       "      <td>0</td>\n",
       "      <td>65</td>\n",
       "      <td>FCT</td>\n",
       "      <td>Yes</td>\n",
       "      <td>Married</td>\n",
       "      <td>No</td>\n",
       "      <td>No</td>\n",
       "      <td>1</td>\n",
       "    </tr>\n",
       "    <tr>\n",
       "      <th>1</th>\n",
       "      <td>YAK/S/00011</td>\n",
       "      <td>Information Technology and Solution Support</td>\n",
       "      <td>NaN</td>\n",
       "      <td>Male</td>\n",
       "      <td>Direct Internal process</td>\n",
       "      <td>2</td>\n",
       "      <td>1991</td>\n",
       "      <td>0.0</td>\n",
       "      <td>2018</td>\n",
       "      <td>0</td>\n",
       "      <td>0</td>\n",
       "      <td>69</td>\n",
       "      <td>OGUN</td>\n",
       "      <td>Yes</td>\n",
       "      <td>Married</td>\n",
       "      <td>No</td>\n",
       "      <td>No</td>\n",
       "      <td>1</td>\n",
       "    </tr>\n",
       "    <tr>\n",
       "      <th>2</th>\n",
       "      <td>YAK/S/00015</td>\n",
       "      <td>Research and Innovation</td>\n",
       "      <td>MSc, MBA and PhD</td>\n",
       "      <td>Male</td>\n",
       "      <td>Direct Internal process</td>\n",
       "      <td>2</td>\n",
       "      <td>1984</td>\n",
       "      <td>7.5</td>\n",
       "      <td>2012</td>\n",
       "      <td>0</td>\n",
       "      <td>0</td>\n",
       "      <td>76</td>\n",
       "      <td>KANO</td>\n",
       "      <td>Yes</td>\n",
       "      <td>Married</td>\n",
       "      <td>No</td>\n",
       "      <td>No</td>\n",
       "      <td>1</td>\n",
       "    </tr>\n",
       "    <tr>\n",
       "      <th>3</th>\n",
       "      <td>YAK/S/00016</td>\n",
       "      <td>Customer Support and Field Operations</td>\n",
       "      <td>First Degree or HND</td>\n",
       "      <td>Male</td>\n",
       "      <td>Agency and others</td>\n",
       "      <td>2</td>\n",
       "      <td>1984</td>\n",
       "      <td>2.5</td>\n",
       "      <td>2009</td>\n",
       "      <td>0</td>\n",
       "      <td>0</td>\n",
       "      <td>52</td>\n",
       "      <td>RIVERS</td>\n",
       "      <td>No</td>\n",
       "      <td>Single</td>\n",
       "      <td>No</td>\n",
       "      <td>No</td>\n",
       "      <td>1</td>\n",
       "    </tr>\n",
       "    <tr>\n",
       "      <th>4</th>\n",
       "      <td>YAK/S/00017</td>\n",
       "      <td>Information Technology and Solution Support</td>\n",
       "      <td>First Degree or HND</td>\n",
       "      <td>Male</td>\n",
       "      <td>Agency and others</td>\n",
       "      <td>2</td>\n",
       "      <td>1983</td>\n",
       "      <td>7.5</td>\n",
       "      <td>2014</td>\n",
       "      <td>1</td>\n",
       "      <td>0</td>\n",
       "      <td>69</td>\n",
       "      <td>FCT</td>\n",
       "      <td>Yes</td>\n",
       "      <td>Married</td>\n",
       "      <td>No</td>\n",
       "      <td>No</td>\n",
       "      <td>0</td>\n",
       "    </tr>\n",
       "  </tbody>\n",
       "</table>\n",
       "</div>"
      ],
      "text/plain": [
       "    EmployeeNo                                     Division  \\\n",
       "0  YAK/S/00005  Information Technology and Solution Support   \n",
       "1  YAK/S/00011  Information Technology and Solution Support   \n",
       "2  YAK/S/00015                      Research and Innovation   \n",
       "3  YAK/S/00016        Customer Support and Field Operations   \n",
       "4  YAK/S/00017  Information Technology and Solution Support   \n",
       "\n",
       "         Qualification Gender   Channel_of_Recruitment  Trainings_Attended  \\\n",
       "0  First Degree or HND   Male        Agency and others                   2   \n",
       "1                  NaN   Male  Direct Internal process                   2   \n",
       "2     MSc, MBA and PhD   Male  Direct Internal process                   2   \n",
       "3  First Degree or HND   Male        Agency and others                   2   \n",
       "4  First Degree or HND   Male        Agency and others                   2   \n",
       "\n",
       "   Year_of_birth  Last_performance_score  Year_of_recruitment  Targets_met  \\\n",
       "0           1976                     7.5                 2017            0   \n",
       "1           1991                     0.0                 2018            0   \n",
       "2           1984                     7.5                 2012            0   \n",
       "3           1984                     2.5                 2009            0   \n",
       "4           1983                     7.5                 2014            1   \n",
       "\n",
       "   Previous_Award  Training_score_average State_Of_Origin Foreign_schooled  \\\n",
       "0               0                      65             FCT              Yes   \n",
       "1               0                      69            OGUN              Yes   \n",
       "2               0                      76            KANO              Yes   \n",
       "3               0                      52          RIVERS               No   \n",
       "4               0                      69             FCT              Yes   \n",
       "\n",
       "  Marital_Status Past_Disciplinary_Action Previous_IntraDepartmental_Movement  \\\n",
       "0        Married                       No                                  No   \n",
       "1        Married                       No                                  No   \n",
       "2        Married                       No                                  No   \n",
       "3         Single                       No                                  No   \n",
       "4        Married                       No                                  No   \n",
       "\n",
       "  No_of_previous_employers  \n",
       "0                        1  \n",
       "1                        1  \n",
       "2                        1  \n",
       "3                        1  \n",
       "4                        0  "
      ]
     },
     "execution_count": 57,
     "metadata": {},
     "output_type": "execute_result"
    }
   ],
   "source": []
  },
  {
   "cell_type": "code",
   "execution_count": 59,
   "metadata": {},
   "outputs": [],
   "source": [
    "testn = testd.copy()"
   ]
  },
  {
   "cell_type": "code",
   "execution_count": 60,
   "metadata": {},
   "outputs": [],
   "source": [
    "del testn['EmployeeNo']\n",
    "del testn['Gender']\n",
    "del testn['State_Of_Origin']\n",
    "del testn['Trainings_Attended']\n"
   ]
  },
  {
   "cell_type": "code",
   "execution_count": 61,
   "metadata": {},
   "outputs": [],
   "source": [
    "test = pd.get_dummies(testn)"
   ]
  },
  {
   "cell_type": "code",
   "execution_count": 62,
   "metadata": {},
   "outputs": [],
   "source": [
    "del test['Past_Disciplinary_Action_No']\n",
    "del test['No_of_previous_employers_3'] \n",
    "del test['Channel_of_Recruitment_Agency and others'] \n",
    "del test['Foreign_schooled_Yes'] \n",
    "del test['Year_of_recruitment'] \n",
    "del test['Marital_Status_Married'] \n",
    "del test['Qualification_Non-University Education'] "
   ]
  },
  {
   "cell_type": "code",
   "execution_count": 63,
   "metadata": {},
   "outputs": [
    {
     "name": "stderr",
     "output_type": "stream",
     "text": [
      "C:\\Users\\maximus\\Anaconda3\\lib\\site-packages\\sklearn\\preprocessing\\data.py:625: DataConversionWarning: Data with input dtype uint8, int64, float64 were all converted to float64 by StandardScaler.\n",
      "  return self.partial_fit(X, y)\n"
     ]
    },
    {
     "data": {
      "text/plain": [
       "StandardScaler(copy=True, with_mean=True, with_std=True)"
      ]
     },
     "execution_count": 63,
     "metadata": {},
     "output_type": "execute_result"
    }
   ],
   "source": [
    "scaler.fit(test)"
   ]
  },
  {
   "cell_type": "code",
   "execution_count": 30,
   "metadata": {
    "collapsed": true
   },
   "outputs": [
    {
     "ename": "NameError",
     "evalue": "name 'clf' is not defined",
     "output_type": "error",
     "traceback": [
      "\u001b[1;31m---------------------------------------------------------------------------\u001b[0m",
      "\u001b[1;31mNameError\u001b[0m                                 Traceback (most recent call last)",
      "\u001b[1;32m<ipython-input-30-c538f009399f>\u001b[0m in \u001b[0;36m<module>\u001b[1;34m\u001b[0m\n\u001b[1;32m----> 1\u001b[1;33m \u001b[0my_pred\u001b[0m \u001b[1;33m=\u001b[0m \u001b[0mclf\u001b[0m\u001b[1;33m.\u001b[0m\u001b[0mpredict\u001b[0m\u001b[1;33m(\u001b[0m\u001b[0mtest\u001b[0m\u001b[1;33m)\u001b[0m\u001b[1;33m.\u001b[0m\u001b[0mastype\u001b[0m\u001b[1;33m(\u001b[0m\u001b[0mint\u001b[0m\u001b[1;33m)\u001b[0m\u001b[1;33m\u001b[0m\u001b[1;33m\u001b[0m\u001b[0m\n\u001b[0m\u001b[0;32m      2\u001b[0m \u001b[0msample\u001b[0m\u001b[1;33m.\u001b[0m\u001b[0mPromoted_or_Not\u001b[0m \u001b[1;33m=\u001b[0m \u001b[0my_pred\u001b[0m\u001b[1;33m\u001b[0m\u001b[1;33m\u001b[0m\u001b[0m\n\u001b[0;32m      3\u001b[0m \u001b[0msample\u001b[0m\u001b[1;33m.\u001b[0m\u001b[0mto_csv\u001b[0m\u001b[1;33m(\u001b[0m\u001b[1;34m'intercampus11.csv'\u001b[0m\u001b[1;33m,\u001b[0m\u001b[0mindex\u001b[0m \u001b[1;33m=\u001b[0m\u001b[1;32mFalse\u001b[0m\u001b[1;33m)\u001b[0m\u001b[1;33m\u001b[0m\u001b[1;33m\u001b[0m\u001b[0m\n",
      "\u001b[1;31mNameError\u001b[0m: name 'clf' is not defined"
     ]
    }
   ],
   "source": [
    "y_pred = clf.predict(test).astype(int)\n",
    "sample.Promoted_or_Not = y_pred\n",
    "sample.to_csv('intercampus11.csv',index =False)"
   ]
  },
  {
   "cell_type": "code",
   "execution_count": 68,
   "metadata": {},
   "outputs": [],
   "source": [
    "sample.EmployeeNo = testd.EmployeeNo"
   ]
  },
  {
   "cell_type": "code",
   "execution_count": 69,
   "metadata": {},
   "outputs": [
    {
     "data": {
      "text/html": [
       "<div>\n",
       "<style scoped>\n",
       "    .dataframe tbody tr th:only-of-type {\n",
       "        vertical-align: middle;\n",
       "    }\n",
       "\n",
       "    .dataframe tbody tr th {\n",
       "        vertical-align: top;\n",
       "    }\n",
       "\n",
       "    .dataframe thead th {\n",
       "        text-align: right;\n",
       "    }\n",
       "</style>\n",
       "<table border=\"1\" class=\"dataframe\">\n",
       "  <thead>\n",
       "    <tr style=\"text-align: right;\">\n",
       "      <th></th>\n",
       "      <th>EmployeeNo</th>\n",
       "      <th>Promoted_or_Not</th>\n",
       "    </tr>\n",
       "  </thead>\n",
       "  <tbody>\n",
       "    <tr>\n",
       "      <th>0</th>\n",
       "      <td>YAK/S/00005</td>\n",
       "      <td>0</td>\n",
       "    </tr>\n",
       "    <tr>\n",
       "      <th>1</th>\n",
       "      <td>YAK/S/00011</td>\n",
       "      <td>0</td>\n",
       "    </tr>\n",
       "    <tr>\n",
       "      <th>2</th>\n",
       "      <td>YAK/S/00015</td>\n",
       "      <td>0</td>\n",
       "    </tr>\n",
       "    <tr>\n",
       "      <th>3</th>\n",
       "      <td>YAK/S/00016</td>\n",
       "      <td>0</td>\n",
       "    </tr>\n",
       "    <tr>\n",
       "      <th>4</th>\n",
       "      <td>YAK/S/00017</td>\n",
       "      <td>0</td>\n",
       "    </tr>\n",
       "  </tbody>\n",
       "</table>\n",
       "</div>"
      ],
      "text/plain": [
       "    EmployeeNo  Promoted_or_Not\n",
       "0  YAK/S/00005                0\n",
       "1  YAK/S/00011                0\n",
       "2  YAK/S/00015                0\n",
       "3  YAK/S/00016                0\n",
       "4  YAK/S/00017                0"
      ]
     },
     "execution_count": 69,
     "metadata": {},
     "output_type": "execute_result"
    }
   ],
   "source": [
    "sample.head()"
   ]
  },
  {
   "cell_type": "code",
   "execution_count": 32,
   "metadata": {},
   "outputs": [],
   "source": [
    "sample.Promoted_or_Not = y_pred"
   ]
  },
  {
   "cell_type": "code",
   "execution_count": 33,
   "metadata": {},
   "outputs": [],
   "source": [
    "sample.to_csv('intercampus11.csv',index =False)"
   ]
  },
  {
   "cell_type": "code",
   "execution_count": 44,
   "metadata": {},
   "outputs": [],
   "source": [
    "xgb1 = XGBClassifier(learning_rate =0.1, n_estimators=10000, max_depth=5, min_child_weight = 1, gamma=0, subsample=0.8, colsample_bytree=0.8, objective='binary:logistic', nthread=4, scale_pos_weight=1, seed=27)"
   ]
  },
  {
   "cell_type": "code",
   "execution_count": 72,
   "metadata": {},
   "outputs": [
    {
     "name": "stdout",
     "output_type": "stream",
     "text": [
      "[0]\tvalidation_0-auc:0.834723\tvalidation_1-auc:0.827786\n",
      "Multiple eval metrics have been passed: 'validation_1-auc' will be used for early stopping.\n",
      "\n",
      "Will train until validation_1-auc hasn't improved in 30 rounds.\n",
      "[1]\tvalidation_0-auc:0.856259\tvalidation_1-auc:0.85053\n",
      "[2]\tvalidation_0-auc:0.868814\tvalidation_1-auc:0.860867\n",
      "[3]\tvalidation_0-auc:0.871213\tvalidation_1-auc:0.866082\n",
      "[4]\tvalidation_0-auc:0.875336\tvalidation_1-auc:0.869241\n",
      "[5]\tvalidation_0-auc:0.877125\tvalidation_1-auc:0.87302\n",
      "[6]\tvalidation_0-auc:0.878407\tvalidation_1-auc:0.870216\n",
      "[7]\tvalidation_0-auc:0.878546\tvalidation_1-auc:0.8695\n",
      "[8]\tvalidation_0-auc:0.877051\tvalidation_1-auc:0.870067\n",
      "[9]\tvalidation_0-auc:0.878067\tvalidation_1-auc:0.870473\n",
      "[10]\tvalidation_0-auc:0.877061\tvalidation_1-auc:0.867441\n",
      "[11]\tvalidation_0-auc:0.877455\tvalidation_1-auc:0.866889\n",
      "[12]\tvalidation_0-auc:0.883285\tvalidation_1-auc:0.874577\n",
      "[13]\tvalidation_0-auc:0.882286\tvalidation_1-auc:0.87359\n",
      "[14]\tvalidation_0-auc:0.883098\tvalidation_1-auc:0.872653\n",
      "[15]\tvalidation_0-auc:0.883622\tvalidation_1-auc:0.872713\n",
      "[16]\tvalidation_0-auc:0.887558\tvalidation_1-auc:0.874816\n",
      "[17]\tvalidation_0-auc:0.889255\tvalidation_1-auc:0.875749\n",
      "[18]\tvalidation_0-auc:0.891434\tvalidation_1-auc:0.877197\n",
      "[19]\tvalidation_0-auc:0.892262\tvalidation_1-auc:0.879227\n",
      "[20]\tvalidation_0-auc:0.89254\tvalidation_1-auc:0.879839\n",
      "[21]\tvalidation_0-auc:0.893219\tvalidation_1-auc:0.880564\n",
      "[22]\tvalidation_0-auc:0.89511\tvalidation_1-auc:0.883322\n",
      "[23]\tvalidation_0-auc:0.89595\tvalidation_1-auc:0.883882\n",
      "[24]\tvalidation_0-auc:0.897281\tvalidation_1-auc:0.884062\n",
      "[25]\tvalidation_0-auc:0.897933\tvalidation_1-auc:0.884323\n",
      "[26]\tvalidation_0-auc:0.898427\tvalidation_1-auc:0.884632\n",
      "[27]\tvalidation_0-auc:0.8989\tvalidation_1-auc:0.884415\n",
      "[28]\tvalidation_0-auc:0.899447\tvalidation_1-auc:0.884193\n",
      "[29]\tvalidation_0-auc:0.899911\tvalidation_1-auc:0.884119\n",
      "[30]\tvalidation_0-auc:0.901652\tvalidation_1-auc:0.885589\n",
      "[31]\tvalidation_0-auc:0.901953\tvalidation_1-auc:0.885328\n",
      "[32]\tvalidation_0-auc:0.902507\tvalidation_1-auc:0.885955\n",
      "[33]\tvalidation_0-auc:0.905008\tvalidation_1-auc:0.887456\n",
      "[34]\tvalidation_0-auc:0.905597\tvalidation_1-auc:0.887056\n",
      "[35]\tvalidation_0-auc:0.907091\tvalidation_1-auc:0.888291\n",
      "[36]\tvalidation_0-auc:0.90761\tvalidation_1-auc:0.888274\n",
      "[37]\tvalidation_0-auc:0.910042\tvalidation_1-auc:0.890009\n",
      "[38]\tvalidation_0-auc:0.910335\tvalidation_1-auc:0.890536\n",
      "[39]\tvalidation_0-auc:0.910584\tvalidation_1-auc:0.890388\n",
      "[40]\tvalidation_0-auc:0.911196\tvalidation_1-auc:0.890875\n",
      "[41]\tvalidation_0-auc:0.911574\tvalidation_1-auc:0.890975\n",
      "[42]\tvalidation_0-auc:0.913222\tvalidation_1-auc:0.89296\n",
      "[43]\tvalidation_0-auc:0.913743\tvalidation_1-auc:0.893442\n",
      "[44]\tvalidation_0-auc:0.913918\tvalidation_1-auc:0.892913\n",
      "[45]\tvalidation_0-auc:0.914143\tvalidation_1-auc:0.893108\n",
      "[46]\tvalidation_0-auc:0.914561\tvalidation_1-auc:0.893485\n",
      "[47]\tvalidation_0-auc:0.914517\tvalidation_1-auc:0.893265\n",
      "[48]\tvalidation_0-auc:0.915743\tvalidation_1-auc:0.89467\n",
      "[49]\tvalidation_0-auc:0.916055\tvalidation_1-auc:0.894676\n",
      "[50]\tvalidation_0-auc:0.916414\tvalidation_1-auc:0.894911\n",
      "[51]\tvalidation_0-auc:0.916714\tvalidation_1-auc:0.89527\n",
      "[52]\tvalidation_0-auc:0.917164\tvalidation_1-auc:0.895464\n",
      "[53]\tvalidation_0-auc:0.917927\tvalidation_1-auc:0.896007\n",
      "[54]\tvalidation_0-auc:0.918182\tvalidation_1-auc:0.896223\n",
      "[55]\tvalidation_0-auc:0.918442\tvalidation_1-auc:0.896065\n",
      "[56]\tvalidation_0-auc:0.91861\tvalidation_1-auc:0.89628\n",
      "[57]\tvalidation_0-auc:0.9197\tvalidation_1-auc:0.897432\n",
      "[58]\tvalidation_0-auc:0.9198\tvalidation_1-auc:0.897283\n",
      "[59]\tvalidation_0-auc:0.920128\tvalidation_1-auc:0.897556\n",
      "[60]\tvalidation_0-auc:0.920667\tvalidation_1-auc:0.897794\n",
      "[61]\tvalidation_0-auc:0.921546\tvalidation_1-auc:0.897897\n",
      "[62]\tvalidation_0-auc:0.922\tvalidation_1-auc:0.898338\n",
      "[63]\tvalidation_0-auc:0.922448\tvalidation_1-auc:0.898431\n",
      "[64]\tvalidation_0-auc:0.922782\tvalidation_1-auc:0.898567\n",
      "[65]\tvalidation_0-auc:0.922993\tvalidation_1-auc:0.898685\n",
      "[66]\tvalidation_0-auc:0.923357\tvalidation_1-auc:0.898607\n",
      "[67]\tvalidation_0-auc:0.923527\tvalidation_1-auc:0.898394\n",
      "[68]\tvalidation_0-auc:0.923745\tvalidation_1-auc:0.898834\n",
      "[69]\tvalidation_0-auc:0.923951\tvalidation_1-auc:0.89852\n",
      "[70]\tvalidation_0-auc:0.924143\tvalidation_1-auc:0.898699\n",
      "[71]\tvalidation_0-auc:0.924419\tvalidation_1-auc:0.898507\n",
      "[72]\tvalidation_0-auc:0.924632\tvalidation_1-auc:0.898497\n",
      "[73]\tvalidation_0-auc:0.924612\tvalidation_1-auc:0.898823\n",
      "[74]\tvalidation_0-auc:0.924795\tvalidation_1-auc:0.898757\n",
      "[75]\tvalidation_0-auc:0.924997\tvalidation_1-auc:0.898759\n",
      "[76]\tvalidation_0-auc:0.925568\tvalidation_1-auc:0.898512\n",
      "[77]\tvalidation_0-auc:0.925802\tvalidation_1-auc:0.898316\n",
      "[78]\tvalidation_0-auc:0.925908\tvalidation_1-auc:0.898308\n",
      "[79]\tvalidation_0-auc:0.926091\tvalidation_1-auc:0.89818\n",
      "[80]\tvalidation_0-auc:0.926131\tvalidation_1-auc:0.898261\n",
      "[81]\tvalidation_0-auc:0.926424\tvalidation_1-auc:0.898177\n",
      "[82]\tvalidation_0-auc:0.926734\tvalidation_1-auc:0.898003\n",
      "[83]\tvalidation_0-auc:0.927031\tvalidation_1-auc:0.897787\n",
      "[84]\tvalidation_0-auc:0.92707\tvalidation_1-auc:0.897782\n",
      "[85]\tvalidation_0-auc:0.927396\tvalidation_1-auc:0.897763\n",
      "[86]\tvalidation_0-auc:0.927705\tvalidation_1-auc:0.898002\n",
      "[87]\tvalidation_0-auc:0.927878\tvalidation_1-auc:0.897899\n",
      "[88]\tvalidation_0-auc:0.928047\tvalidation_1-auc:0.897983\n",
      "[89]\tvalidation_0-auc:0.928265\tvalidation_1-auc:0.897827\n",
      "[90]\tvalidation_0-auc:0.928622\tvalidation_1-auc:0.897792\n",
      "[91]\tvalidation_0-auc:0.928801\tvalidation_1-auc:0.897922\n",
      "[92]\tvalidation_0-auc:0.928908\tvalidation_1-auc:0.898012\n",
      "[93]\tvalidation_0-auc:0.929391\tvalidation_1-auc:0.897868\n",
      "[94]\tvalidation_0-auc:0.929817\tvalidation_1-auc:0.898043\n",
      "[95]\tvalidation_0-auc:0.929959\tvalidation_1-auc:0.897965\n",
      "[96]\tvalidation_0-auc:0.930148\tvalidation_1-auc:0.898022\n",
      "[97]\tvalidation_0-auc:0.93058\tvalidation_1-auc:0.898057\n",
      "[98]\tvalidation_0-auc:0.930727\tvalidation_1-auc:0.898082\n",
      "Stopping. Best iteration:\n",
      "[68]\tvalidation_0-auc:0.923745\tvalidation_1-auc:0.898834\n",
      "\n"
     ]
    },
    {
     "data": {
      "text/plain": [
       "XGBClassifier(base_score=0.5, booster='gbtree', colsample_bylevel=1,\n",
       "       colsample_bynode=1, colsample_bytree=0.8, gamma=0,\n",
       "       learning_rate=0.1, max_delta_step=0, max_depth=5,\n",
       "       min_child_weight=1, missing=None, n_estimators=10000, n_jobs=1,\n",
       "       nthread=4, objective='binary:logistic', random_state=0, reg_alpha=0,\n",
       "       reg_lambda=1, scale_pos_weight=1, seed=27, silent=None,\n",
       "       subsample=0.8, verbosity=1)"
      ]
     },
     "execution_count": 72,
     "metadata": {},
     "output_type": "execute_result"
    }
   ],
   "source": [
    "clfr = xgb.XGBClassifier(learning_rate =0.1, n_estimators=10000, max_depth=5, min_child_weight = 1, gamma=0, subsample=0.8, colsample_bytree=0.8, objective='binary:logistic', nthread=4, scale_pos_weight=1, seed=27)\n",
    "eval_set = [(x_train, y_train), (x_test, y_test)]\n",
    "clfr.fit(x_train, y_train, eval_set=eval_set,\n",
    "       eval_metric=\"auc\", early_stopping_rounds=30)"
   ]
  },
  {
   "cell_type": "code",
   "execution_count": 68,
   "metadata": {},
   "outputs": [],
   "source": [
    "y_pred1 = clfr.predict(test).astype(int)\n"
   ]
  },
  {
   "cell_type": "code",
   "execution_count": 69,
   "metadata": {},
   "outputs": [],
   "source": [
    "sample.Promoted_or_Not = y_pred1"
   ]
  },
  {
   "cell_type": "code",
   "execution_count": 70,
   "metadata": {},
   "outputs": [],
   "source": [
    "sample.to_csv('intercampus8.csv',index =False)"
   ]
  },
  {
   "cell_type": "code",
   "execution_count": 71,
   "metadata": {
    "collapsed": true
   },
   "outputs": [
    {
     "data": {
      "text/html": [
       "<div>\n",
       "<style scoped>\n",
       "    .dataframe tbody tr th:only-of-type {\n",
       "        vertical-align: middle;\n",
       "    }\n",
       "\n",
       "    .dataframe tbody tr th {\n",
       "        vertical-align: top;\n",
       "    }\n",
       "\n",
       "    .dataframe thead th {\n",
       "        text-align: right;\n",
       "    }\n",
       "</style>\n",
       "<table border=\"1\" class=\"dataframe\">\n",
       "  <thead>\n",
       "    <tr style=\"text-align: right;\">\n",
       "      <th></th>\n",
       "      <th>EmployeeNo</th>\n",
       "      <th>Promoted_or_Not</th>\n",
       "    </tr>\n",
       "  </thead>\n",
       "  <tbody>\n",
       "    <tr>\n",
       "      <th>0</th>\n",
       "      <td>YAK/S/00005</td>\n",
       "      <td>0</td>\n",
       "    </tr>\n",
       "    <tr>\n",
       "      <th>1</th>\n",
       "      <td>YAK/S/00011</td>\n",
       "      <td>0</td>\n",
       "    </tr>\n",
       "    <tr>\n",
       "      <th>2</th>\n",
       "      <td>YAK/S/00015</td>\n",
       "      <td>0</td>\n",
       "    </tr>\n",
       "    <tr>\n",
       "      <th>3</th>\n",
       "      <td>YAK/S/00016</td>\n",
       "      <td>0</td>\n",
       "    </tr>\n",
       "    <tr>\n",
       "      <th>4</th>\n",
       "      <td>YAK/S/00017</td>\n",
       "      <td>0</td>\n",
       "    </tr>\n",
       "    <tr>\n",
       "      <th>5</th>\n",
       "      <td>YAK/S/00019</td>\n",
       "      <td>0</td>\n",
       "    </tr>\n",
       "    <tr>\n",
       "      <th>6</th>\n",
       "      <td>YAK/S/00027</td>\n",
       "      <td>0</td>\n",
       "    </tr>\n",
       "    <tr>\n",
       "      <th>7</th>\n",
       "      <td>YAK/S/00028</td>\n",
       "      <td>0</td>\n",
       "    </tr>\n",
       "    <tr>\n",
       "      <th>8</th>\n",
       "      <td>YAK/S/00031</td>\n",
       "      <td>0</td>\n",
       "    </tr>\n",
       "    <tr>\n",
       "      <th>9</th>\n",
       "      <td>YAK/S/00032</td>\n",
       "      <td>0</td>\n",
       "    </tr>\n",
       "    <tr>\n",
       "      <th>10</th>\n",
       "      <td>YAK/S/00034</td>\n",
       "      <td>0</td>\n",
       "    </tr>\n",
       "    <tr>\n",
       "      <th>11</th>\n",
       "      <td>YAK/S/00038</td>\n",
       "      <td>0</td>\n",
       "    </tr>\n",
       "    <tr>\n",
       "      <th>12</th>\n",
       "      <td>YAK/S/00040</td>\n",
       "      <td>0</td>\n",
       "    </tr>\n",
       "    <tr>\n",
       "      <th>13</th>\n",
       "      <td>YAK/S/00041</td>\n",
       "      <td>0</td>\n",
       "    </tr>\n",
       "    <tr>\n",
       "      <th>14</th>\n",
       "      <td>YAK/S/00043</td>\n",
       "      <td>0</td>\n",
       "    </tr>\n",
       "    <tr>\n",
       "      <th>15</th>\n",
       "      <td>YAK/S/00045</td>\n",
       "      <td>0</td>\n",
       "    </tr>\n",
       "    <tr>\n",
       "      <th>16</th>\n",
       "      <td>YAK/S/00047</td>\n",
       "      <td>0</td>\n",
       "    </tr>\n",
       "    <tr>\n",
       "      <th>17</th>\n",
       "      <td>YAK/S/00049</td>\n",
       "      <td>0</td>\n",
       "    </tr>\n",
       "    <tr>\n",
       "      <th>18</th>\n",
       "      <td>YAK/S/00050</td>\n",
       "      <td>0</td>\n",
       "    </tr>\n",
       "    <tr>\n",
       "      <th>19</th>\n",
       "      <td>YAK/S/00051</td>\n",
       "      <td>0</td>\n",
       "    </tr>\n",
       "    <tr>\n",
       "      <th>20</th>\n",
       "      <td>YAK/S/00058</td>\n",
       "      <td>0</td>\n",
       "    </tr>\n",
       "    <tr>\n",
       "      <th>21</th>\n",
       "      <td>YAK/S/00060</td>\n",
       "      <td>0</td>\n",
       "    </tr>\n",
       "    <tr>\n",
       "      <th>22</th>\n",
       "      <td>YAK/S/00063</td>\n",
       "      <td>0</td>\n",
       "    </tr>\n",
       "    <tr>\n",
       "      <th>23</th>\n",
       "      <td>YAK/S/00067</td>\n",
       "      <td>0</td>\n",
       "    </tr>\n",
       "    <tr>\n",
       "      <th>24</th>\n",
       "      <td>YAK/S/00069</td>\n",
       "      <td>0</td>\n",
       "    </tr>\n",
       "    <tr>\n",
       "      <th>25</th>\n",
       "      <td>YAK/S/00072</td>\n",
       "      <td>0</td>\n",
       "    </tr>\n",
       "    <tr>\n",
       "      <th>26</th>\n",
       "      <td>YAK/S/00080</td>\n",
       "      <td>0</td>\n",
       "    </tr>\n",
       "    <tr>\n",
       "      <th>27</th>\n",
       "      <td>YAK/S/00083</td>\n",
       "      <td>0</td>\n",
       "    </tr>\n",
       "    <tr>\n",
       "      <th>28</th>\n",
       "      <td>YAK/S/00084</td>\n",
       "      <td>0</td>\n",
       "    </tr>\n",
       "    <tr>\n",
       "      <th>29</th>\n",
       "      <td>YAK/S/00088</td>\n",
       "      <td>0</td>\n",
       "    </tr>\n",
       "    <tr>\n",
       "      <th>...</th>\n",
       "      <td>...</td>\n",
       "      <td>...</td>\n",
       "    </tr>\n",
       "    <tr>\n",
       "      <th>16466</th>\n",
       "      <td>YAK/S/54726</td>\n",
       "      <td>0</td>\n",
       "    </tr>\n",
       "    <tr>\n",
       "      <th>16467</th>\n",
       "      <td>YAK/S/54738</td>\n",
       "      <td>0</td>\n",
       "    </tr>\n",
       "    <tr>\n",
       "      <th>16468</th>\n",
       "      <td>YAK/S/54742</td>\n",
       "      <td>0</td>\n",
       "    </tr>\n",
       "    <tr>\n",
       "      <th>16469</th>\n",
       "      <td>YAK/S/54743</td>\n",
       "      <td>0</td>\n",
       "    </tr>\n",
       "    <tr>\n",
       "      <th>16470</th>\n",
       "      <td>YAK/S/54744</td>\n",
       "      <td>0</td>\n",
       "    </tr>\n",
       "    <tr>\n",
       "      <th>16471</th>\n",
       "      <td>YAK/S/54748</td>\n",
       "      <td>0</td>\n",
       "    </tr>\n",
       "    <tr>\n",
       "      <th>16472</th>\n",
       "      <td>YAK/S/54752</td>\n",
       "      <td>0</td>\n",
       "    </tr>\n",
       "    <tr>\n",
       "      <th>16473</th>\n",
       "      <td>YAK/S/54754</td>\n",
       "      <td>0</td>\n",
       "    </tr>\n",
       "    <tr>\n",
       "      <th>16474</th>\n",
       "      <td>YAK/S/54755</td>\n",
       "      <td>0</td>\n",
       "    </tr>\n",
       "    <tr>\n",
       "      <th>16475</th>\n",
       "      <td>YAK/S/54757</td>\n",
       "      <td>0</td>\n",
       "    </tr>\n",
       "    <tr>\n",
       "      <th>16476</th>\n",
       "      <td>YAK/S/54758</td>\n",
       "      <td>0</td>\n",
       "    </tr>\n",
       "    <tr>\n",
       "      <th>16477</th>\n",
       "      <td>YAK/S/54760</td>\n",
       "      <td>0</td>\n",
       "    </tr>\n",
       "    <tr>\n",
       "      <th>16478</th>\n",
       "      <td>YAK/S/54762</td>\n",
       "      <td>1</td>\n",
       "    </tr>\n",
       "    <tr>\n",
       "      <th>16479</th>\n",
       "      <td>YAK/S/54767</td>\n",
       "      <td>0</td>\n",
       "    </tr>\n",
       "    <tr>\n",
       "      <th>16480</th>\n",
       "      <td>YAK/S/54768</td>\n",
       "      <td>0</td>\n",
       "    </tr>\n",
       "    <tr>\n",
       "      <th>16481</th>\n",
       "      <td>YAK/S/54773</td>\n",
       "      <td>0</td>\n",
       "    </tr>\n",
       "    <tr>\n",
       "      <th>16482</th>\n",
       "      <td>YAK/S/54776</td>\n",
       "      <td>0</td>\n",
       "    </tr>\n",
       "    <tr>\n",
       "      <th>16483</th>\n",
       "      <td>YAK/S/54778</td>\n",
       "      <td>0</td>\n",
       "    </tr>\n",
       "    <tr>\n",
       "      <th>16484</th>\n",
       "      <td>YAK/S/54780</td>\n",
       "      <td>0</td>\n",
       "    </tr>\n",
       "    <tr>\n",
       "      <th>16485</th>\n",
       "      <td>YAK/S/54782</td>\n",
       "      <td>0</td>\n",
       "    </tr>\n",
       "    <tr>\n",
       "      <th>16486</th>\n",
       "      <td>YAK/S/54784</td>\n",
       "      <td>0</td>\n",
       "    </tr>\n",
       "    <tr>\n",
       "      <th>16487</th>\n",
       "      <td>YAK/S/54785</td>\n",
       "      <td>0</td>\n",
       "    </tr>\n",
       "    <tr>\n",
       "      <th>16488</th>\n",
       "      <td>YAK/S/54787</td>\n",
       "      <td>0</td>\n",
       "    </tr>\n",
       "    <tr>\n",
       "      <th>16489</th>\n",
       "      <td>YAK/S/54792</td>\n",
       "      <td>0</td>\n",
       "    </tr>\n",
       "    <tr>\n",
       "      <th>16490</th>\n",
       "      <td>YAK/S/54795</td>\n",
       "      <td>0</td>\n",
       "    </tr>\n",
       "    <tr>\n",
       "      <th>16491</th>\n",
       "      <td>YAK/S/54797</td>\n",
       "      <td>1</td>\n",
       "    </tr>\n",
       "    <tr>\n",
       "      <th>16492</th>\n",
       "      <td>YAK/S/54798</td>\n",
       "      <td>0</td>\n",
       "    </tr>\n",
       "    <tr>\n",
       "      <th>16493</th>\n",
       "      <td>YAK/S/54800</td>\n",
       "      <td>0</td>\n",
       "    </tr>\n",
       "    <tr>\n",
       "      <th>16494</th>\n",
       "      <td>YAK/S/54803</td>\n",
       "      <td>0</td>\n",
       "    </tr>\n",
       "    <tr>\n",
       "      <th>16495</th>\n",
       "      <td>YAK/S/54804</td>\n",
       "      <td>0</td>\n",
       "    </tr>\n",
       "  </tbody>\n",
       "</table>\n",
       "<p>16496 rows × 2 columns</p>\n",
       "</div>"
      ],
      "text/plain": [
       "        EmployeeNo  Promoted_or_Not\n",
       "0      YAK/S/00005                0\n",
       "1      YAK/S/00011                0\n",
       "2      YAK/S/00015                0\n",
       "3      YAK/S/00016                0\n",
       "4      YAK/S/00017                0\n",
       "5      YAK/S/00019                0\n",
       "6      YAK/S/00027                0\n",
       "7      YAK/S/00028                0\n",
       "8      YAK/S/00031                0\n",
       "9      YAK/S/00032                0\n",
       "10     YAK/S/00034                0\n",
       "11     YAK/S/00038                0\n",
       "12     YAK/S/00040                0\n",
       "13     YAK/S/00041                0\n",
       "14     YAK/S/00043                0\n",
       "15     YAK/S/00045                0\n",
       "16     YAK/S/00047                0\n",
       "17     YAK/S/00049                0\n",
       "18     YAK/S/00050                0\n",
       "19     YAK/S/00051                0\n",
       "20     YAK/S/00058                0\n",
       "21     YAK/S/00060                0\n",
       "22     YAK/S/00063                0\n",
       "23     YAK/S/00067                0\n",
       "24     YAK/S/00069                0\n",
       "25     YAK/S/00072                0\n",
       "26     YAK/S/00080                0\n",
       "27     YAK/S/00083                0\n",
       "28     YAK/S/00084                0\n",
       "29     YAK/S/00088                0\n",
       "...            ...              ...\n",
       "16466  YAK/S/54726                0\n",
       "16467  YAK/S/54738                0\n",
       "16468  YAK/S/54742                0\n",
       "16469  YAK/S/54743                0\n",
       "16470  YAK/S/54744                0\n",
       "16471  YAK/S/54748                0\n",
       "16472  YAK/S/54752                0\n",
       "16473  YAK/S/54754                0\n",
       "16474  YAK/S/54755                0\n",
       "16475  YAK/S/54757                0\n",
       "16476  YAK/S/54758                0\n",
       "16477  YAK/S/54760                0\n",
       "16478  YAK/S/54762                1\n",
       "16479  YAK/S/54767                0\n",
       "16480  YAK/S/54768                0\n",
       "16481  YAK/S/54773                0\n",
       "16482  YAK/S/54776                0\n",
       "16483  YAK/S/54778                0\n",
       "16484  YAK/S/54780                0\n",
       "16485  YAK/S/54782                0\n",
       "16486  YAK/S/54784                0\n",
       "16487  YAK/S/54785                0\n",
       "16488  YAK/S/54787                0\n",
       "16489  YAK/S/54792                0\n",
       "16490  YAK/S/54795                0\n",
       "16491  YAK/S/54797                1\n",
       "16492  YAK/S/54798                0\n",
       "16493  YAK/S/54800                0\n",
       "16494  YAK/S/54803                0\n",
       "16495  YAK/S/54804                0\n",
       "\n",
       "[16496 rows x 2 columns]"
      ]
     },
     "execution_count": 71,
     "metadata": {},
     "output_type": "execute_result"
    }
   ],
   "source": []
  },
  {
   "cell_type": "markdown",
   "metadata": {},
   "source": [
    "# LETS TRY BAGGING "
   ]
  },
  {
   "cell_type": "code",
   "execution_count": 34,
   "metadata": {},
   "outputs": [],
   "source": [
    "from sklearn.ensemble import BaggingClassifier, ExtraTreesClassifier, RandomForestClassifier\n",
    "from sklearn.neighbors import KNeighborsClassifier \n",
    "from sklearn.linear_model import RidgeClassifier \n",
    "from sklearn.svm import SVC\n",
    "from sklearn.model_selection import cross_val_score"
   ]
  },
  {
   "cell_type": "code",
   "execution_count": 35,
   "metadata": {},
   "outputs": [],
   "source": [
    "import numpy as np\n",
    "seed = 1075\n",
    "np.random.seed(seed)"
   ]
  },
  {
   "cell_type": "code",
   "execution_count": 49,
   "metadata": {},
   "outputs": [],
   "source": [
    "etc= RandomForestClassifier()\n",
    "knn = KNeighborsClassifier()\n",
    "svc = SVC()\n",
    "rg = RidgeClassifier()\n",
    "xgb = XGBClassifier()\n"
   ]
  },
  {
   "cell_type": "code",
   "execution_count": 78,
   "metadata": {},
   "outputs": [],
   "source": [
    "clf_array = [etc, knn, svc, rg, xgb]"
   ]
  },
  {
   "cell_type": "code",
   "execution_count": 84,
   "metadata": {},
   "outputs": [],
   "source": [
    "for clf in clf_array: scores = cross_val_score(clf, X, y, cv=10, n_jobs=-1)\n",
    "bagging_clf = BaggingClassifier(clf, max_samples=0.4, max_features=10 , random_state=seed)\n",
    "bagging_scores = cross_val_score(bagging_clf, X, y, cv=10, n_jobs=-1)"
   ]
  },
  {
   "cell_type": "code",
   "execution_count": 86,
   "metadata": {},
   "outputs": [
    {
     "data": {
      "text/plain": [
       "BaggingClassifier(base_estimator=XGBClassifier(base_score=0.5, booster='gbtree', colsample_bylevel=1,\n",
       "       colsample_bynode=1, colsample_bytree=1, gamma=0, learning_rate=0.1,\n",
       "       max_delta_step=0, max_depth=3, min_child_weight=1, missing=None,\n",
       "       n_estimators=100, n_jobs=1, nthread=None,\n",
       "       objective='binary:logistic', random_state=0, reg_alpha=0,\n",
       "       reg_lambda=1, scale_pos_weight=1, seed=None, silent=None,\n",
       "       subsample=1, verbosity=1),\n",
       "         bootstrap=True, bootstrap_features=False, max_features=10,\n",
       "         max_samples=0.4, n_estimators=10, n_jobs=None, oob_score=False,\n",
       "         random_state=1075, verbose=0, warm_start=False)"
      ]
     },
     "execution_count": 86,
     "metadata": {},
     "output_type": "execute_result"
    }
   ],
   "source": [
    "bagging_clf.fit(x_train, y_train)\n"
   ]
  },
  {
   "cell_type": "code",
   "execution_count": 87,
   "metadata": {},
   "outputs": [],
   "source": [
    "y_pred2 = bagging_clf.predict(test).astype(int)\n"
   ]
  },
  {
   "cell_type": "code",
   "execution_count": 127,
   "metadata": {},
   "outputs": [
    {
     "name": "stdout",
     "output_type": "stream",
     "text": [
      "0.0436046511627907\n"
     ]
    }
   ],
   "source": [
    "y_pred= bagging_clf.predict(x_test)\n",
    "score = f1_score(y_test, y_pred)\n",
    "print(score)"
   ]
  },
  {
   "cell_type": "code",
   "execution_count": null,
   "metadata": {},
   "outputs": [],
   "source": [
    "# OUR F1_SCORE FOR THE ABOVE BAGGING CLASSIFIER IS VERY LOW COMPARED TO THE OTHER ALGORITHMS WITH OUT BAGGING"
   ]
  },
  {
   "cell_type": "code",
   "execution_count": 128,
   "metadata": {
    "collapsed": true
   },
   "outputs": [
    {
     "ename": "NameError",
     "evalue": "name 'confusion_matrix' is not defined",
     "output_type": "error",
     "traceback": [
      "\u001b[1;31m---------------------------------------------------------------------------\u001b[0m",
      "\u001b[1;31mNameError\u001b[0m                                 Traceback (most recent call last)",
      "\u001b[1;32m<ipython-input-128-430e012b2078>\u001b[0m in \u001b[0;36m<module>\u001b[1;34m\u001b[0m\n\u001b[1;32m----> 1\u001b[1;33m \u001b[0mconfusion_matrix\u001b[0m\u001b[1;33m(\u001b[0m\u001b[0my_test\u001b[0m\u001b[1;33m,\u001b[0m \u001b[0my_pred\u001b[0m\u001b[1;33m)\u001b[0m\u001b[1;33m\u001b[0m\u001b[1;33m\u001b[0m\u001b[0m\n\u001b[0m",
      "\u001b[1;31mNameError\u001b[0m: name 'confusion_matrix' is not defined"
     ]
    }
   ],
   "source": [
    "\n",
    "confusion_matrix(y_test, y_pred)"
   ]
  },
  {
   "cell_type": "code",
   "execution_count": 67,
   "metadata": {
    "collapsed": true
   },
   "outputs": [
    {
     "ename": "NameError",
     "evalue": "name 'y_pred2' is not defined",
     "output_type": "error",
     "traceback": [
      "\u001b[1;31m---------------------------------------------------------------------------\u001b[0m",
      "\u001b[1;31mNameError\u001b[0m                                 Traceback (most recent call last)",
      "\u001b[1;32m<ipython-input-67-1efd59195e32>\u001b[0m in \u001b[0;36m<module>\u001b[1;34m\u001b[0m\n\u001b[1;32m----> 1\u001b[1;33m \u001b[0msample\u001b[0m\u001b[1;33m.\u001b[0m\u001b[0mPromoted_or_Not\u001b[0m \u001b[1;33m=\u001b[0m \u001b[0my_pred2\u001b[0m\u001b[1;33m\u001b[0m\u001b[1;33m\u001b[0m\u001b[0m\n\u001b[0m",
      "\u001b[1;31mNameError\u001b[0m: name 'y_pred2' is not defined"
     ]
    }
   ],
   "source": [
    "sample.Promoted_or_Not = y_pred2\n"
   ]
  },
  {
   "cell_type": "code",
   "execution_count": 90,
   "metadata": {},
   "outputs": [],
   "source": [
    "sample.to_csv('intercampus9.csv',index =False)"
   ]
  },
  {
   "cell_type": "code",
   "execution_count": 18,
   "metadata": {},
   "outputs": [],
   "source": [
    "from sklearn.ensemble import AdaBoostClassifier\n",
    "from sklearn.ensemble import GradientBoostingClassifier"
   ]
  },
  {
   "cell_type": "code",
   "execution_count": 98,
   "metadata": {},
   "outputs": [],
   "source": [
    "ada_clf = AdaBoostClassifier()\n",
    "gbc_clf = GradientBoostingClassifier()\n",
    "xgb_clf = XGBClassifier()"
   ]
  },
  {
   "cell_type": "code",
   "execution_count": 102,
   "metadata": {},
   "outputs": [],
   "source": [
    "boost_array = [ada_clf, gbc_clf, xgb_clf]"
   ]
  },
  {
   "cell_type": "code",
   "execution_count": 107,
   "metadata": {},
   "outputs": [],
   "source": [
    "from sklearn.ensemble import VotingClassifier"
   ]
  },
  {
   "cell_type": "code",
   "execution_count": 109,
   "metadata": {},
   "outputs": [],
   "source": [
    "All_clf = VotingClassifier(boost_array, voting='hard')"
   ]
  },
  {
   "cell_type": "code",
   "execution_count": 111,
   "metadata": {},
   "outputs": [],
   "source": [
    "from sklearn.metrics import f1_score"
   ]
  },
  {
   "cell_type": "code",
   "execution_count": 113,
   "metadata": {
    "collapsed": true
   },
   "outputs": [
    {
     "name": "stderr",
     "output_type": "stream",
     "text": [
      "C:\\Users\\maximus\\Anaconda3\\lib\\site-packages\\sklearn\\model_selection\\_validation.py:542: FutureWarning: From version 0.22, errors during fit will result in a cross validation score of NaN by default. Use error_score='raise' if you want an exception raised or error_score=np.nan to adopt the behavior from version 0.22.\n",
      "  FutureWarning)\n"
     ]
    },
    {
     "ename": "AttributeError",
     "evalue": "'AdaBoostClassifier' object has no attribute 'estimators_'",
     "output_type": "error",
     "traceback": [
      "\u001b[1;31m---------------------------------------------------------------------------\u001b[0m",
      "\u001b[1;31mAttributeError\u001b[0m                            Traceback (most recent call last)",
      "\u001b[1;32m<ipython-input-113-d867a8af7fa8>\u001b[0m in \u001b[0;36m<module>\u001b[1;34m\u001b[0m\n\u001b[1;32m----> 1\u001b[1;33m \u001b[0mscores\u001b[0m \u001b[1;33m=\u001b[0m \u001b[0mcross_val_score\u001b[0m\u001b[1;33m(\u001b[0m\u001b[0mAll_clf\u001b[0m\u001b[1;33m,\u001b[0m \u001b[0mX\u001b[0m\u001b[1;33m,\u001b[0m \u001b[0my\u001b[0m\u001b[1;33m,\u001b[0m \u001b[0mcv\u001b[0m\u001b[1;33m=\u001b[0m\u001b[1;36m10\u001b[0m\u001b[1;33m,\u001b[0m \u001b[0mscoring\u001b[0m\u001b[1;33m=\u001b[0m\u001b[1;34m'accuracy'\u001b[0m\u001b[1;33m)\u001b[0m\u001b[1;33m\u001b[0m\u001b[1;33m\u001b[0m\u001b[0m\n\u001b[0m",
      "\u001b[1;32m~\\Anaconda3\\lib\\site-packages\\sklearn\\model_selection\\_validation.py\u001b[0m in \u001b[0;36mcross_val_score\u001b[1;34m(estimator, X, y, groups, scoring, cv, n_jobs, verbose, fit_params, pre_dispatch, error_score)\u001b[0m\n\u001b[0;32m    400\u001b[0m                                 \u001b[0mfit_params\u001b[0m\u001b[1;33m=\u001b[0m\u001b[0mfit_params\u001b[0m\u001b[1;33m,\u001b[0m\u001b[1;33m\u001b[0m\u001b[1;33m\u001b[0m\u001b[0m\n\u001b[0;32m    401\u001b[0m                                 \u001b[0mpre_dispatch\u001b[0m\u001b[1;33m=\u001b[0m\u001b[0mpre_dispatch\u001b[0m\u001b[1;33m,\u001b[0m\u001b[1;33m\u001b[0m\u001b[1;33m\u001b[0m\u001b[0m\n\u001b[1;32m--> 402\u001b[1;33m                                 error_score=error_score)\n\u001b[0m\u001b[0;32m    403\u001b[0m     \u001b[1;32mreturn\u001b[0m \u001b[0mcv_results\u001b[0m\u001b[1;33m[\u001b[0m\u001b[1;34m'test_score'\u001b[0m\u001b[1;33m]\u001b[0m\u001b[1;33m\u001b[0m\u001b[1;33m\u001b[0m\u001b[0m\n\u001b[0;32m    404\u001b[0m \u001b[1;33m\u001b[0m\u001b[0m\n",
      "\u001b[1;32m~\\Anaconda3\\lib\\site-packages\\sklearn\\model_selection\\_validation.py\u001b[0m in \u001b[0;36mcross_validate\u001b[1;34m(estimator, X, y, groups, scoring, cv, n_jobs, verbose, fit_params, pre_dispatch, return_train_score, return_estimator, error_score)\u001b[0m\n\u001b[0;32m    238\u001b[0m             \u001b[0mreturn_times\u001b[0m\u001b[1;33m=\u001b[0m\u001b[1;32mTrue\u001b[0m\u001b[1;33m,\u001b[0m \u001b[0mreturn_estimator\u001b[0m\u001b[1;33m=\u001b[0m\u001b[0mreturn_estimator\u001b[0m\u001b[1;33m,\u001b[0m\u001b[1;33m\u001b[0m\u001b[1;33m\u001b[0m\u001b[0m\n\u001b[0;32m    239\u001b[0m             error_score=error_score)\n\u001b[1;32m--> 240\u001b[1;33m         for train, test in cv.split(X, y, groups))\n\u001b[0m\u001b[0;32m    241\u001b[0m \u001b[1;33m\u001b[0m\u001b[0m\n\u001b[0;32m    242\u001b[0m     \u001b[0mzipped_scores\u001b[0m \u001b[1;33m=\u001b[0m \u001b[0mlist\u001b[0m\u001b[1;33m(\u001b[0m\u001b[0mzip\u001b[0m\u001b[1;33m(\u001b[0m\u001b[1;33m*\u001b[0m\u001b[0mscores\u001b[0m\u001b[1;33m)\u001b[0m\u001b[1;33m)\u001b[0m\u001b[1;33m\u001b[0m\u001b[1;33m\u001b[0m\u001b[0m\n",
      "\u001b[1;32m~\\Anaconda3\\lib\\site-packages\\sklearn\\externals\\joblib\\parallel.py\u001b[0m in \u001b[0;36m__call__\u001b[1;34m(self, iterable)\u001b[0m\n\u001b[0;32m    915\u001b[0m             \u001b[1;31m# remaining jobs.\u001b[0m\u001b[1;33m\u001b[0m\u001b[1;33m\u001b[0m\u001b[1;33m\u001b[0m\u001b[0m\n\u001b[0;32m    916\u001b[0m             \u001b[0mself\u001b[0m\u001b[1;33m.\u001b[0m\u001b[0m_iterating\u001b[0m \u001b[1;33m=\u001b[0m \u001b[1;32mFalse\u001b[0m\u001b[1;33m\u001b[0m\u001b[1;33m\u001b[0m\u001b[0m\n\u001b[1;32m--> 917\u001b[1;33m             \u001b[1;32mif\u001b[0m \u001b[0mself\u001b[0m\u001b[1;33m.\u001b[0m\u001b[0mdispatch_one_batch\u001b[0m\u001b[1;33m(\u001b[0m\u001b[0miterator\u001b[0m\u001b[1;33m)\u001b[0m\u001b[1;33m:\u001b[0m\u001b[1;33m\u001b[0m\u001b[1;33m\u001b[0m\u001b[0m\n\u001b[0m\u001b[0;32m    918\u001b[0m                 \u001b[0mself\u001b[0m\u001b[1;33m.\u001b[0m\u001b[0m_iterating\u001b[0m \u001b[1;33m=\u001b[0m \u001b[0mself\u001b[0m\u001b[1;33m.\u001b[0m\u001b[0m_original_iterator\u001b[0m \u001b[1;32mis\u001b[0m \u001b[1;32mnot\u001b[0m \u001b[1;32mNone\u001b[0m\u001b[1;33m\u001b[0m\u001b[1;33m\u001b[0m\u001b[0m\n\u001b[0;32m    919\u001b[0m \u001b[1;33m\u001b[0m\u001b[0m\n",
      "\u001b[1;32m~\\Anaconda3\\lib\\site-packages\\sklearn\\externals\\joblib\\parallel.py\u001b[0m in \u001b[0;36mdispatch_one_batch\u001b[1;34m(self, iterator)\u001b[0m\n\u001b[0;32m    757\u001b[0m                 \u001b[1;32mreturn\u001b[0m \u001b[1;32mFalse\u001b[0m\u001b[1;33m\u001b[0m\u001b[1;33m\u001b[0m\u001b[0m\n\u001b[0;32m    758\u001b[0m             \u001b[1;32melse\u001b[0m\u001b[1;33m:\u001b[0m\u001b[1;33m\u001b[0m\u001b[1;33m\u001b[0m\u001b[0m\n\u001b[1;32m--> 759\u001b[1;33m                 \u001b[0mself\u001b[0m\u001b[1;33m.\u001b[0m\u001b[0m_dispatch\u001b[0m\u001b[1;33m(\u001b[0m\u001b[0mtasks\u001b[0m\u001b[1;33m)\u001b[0m\u001b[1;33m\u001b[0m\u001b[1;33m\u001b[0m\u001b[0m\n\u001b[0m\u001b[0;32m    760\u001b[0m                 \u001b[1;32mreturn\u001b[0m \u001b[1;32mTrue\u001b[0m\u001b[1;33m\u001b[0m\u001b[1;33m\u001b[0m\u001b[0m\n\u001b[0;32m    761\u001b[0m \u001b[1;33m\u001b[0m\u001b[0m\n",
      "\u001b[1;32m~\\Anaconda3\\lib\\site-packages\\sklearn\\externals\\joblib\\parallel.py\u001b[0m in \u001b[0;36m_dispatch\u001b[1;34m(self, batch)\u001b[0m\n\u001b[0;32m    714\u001b[0m         \u001b[1;32mwith\u001b[0m \u001b[0mself\u001b[0m\u001b[1;33m.\u001b[0m\u001b[0m_lock\u001b[0m\u001b[1;33m:\u001b[0m\u001b[1;33m\u001b[0m\u001b[1;33m\u001b[0m\u001b[0m\n\u001b[0;32m    715\u001b[0m             \u001b[0mjob_idx\u001b[0m \u001b[1;33m=\u001b[0m \u001b[0mlen\u001b[0m\u001b[1;33m(\u001b[0m\u001b[0mself\u001b[0m\u001b[1;33m.\u001b[0m\u001b[0m_jobs\u001b[0m\u001b[1;33m)\u001b[0m\u001b[1;33m\u001b[0m\u001b[1;33m\u001b[0m\u001b[0m\n\u001b[1;32m--> 716\u001b[1;33m             \u001b[0mjob\u001b[0m \u001b[1;33m=\u001b[0m \u001b[0mself\u001b[0m\u001b[1;33m.\u001b[0m\u001b[0m_backend\u001b[0m\u001b[1;33m.\u001b[0m\u001b[0mapply_async\u001b[0m\u001b[1;33m(\u001b[0m\u001b[0mbatch\u001b[0m\u001b[1;33m,\u001b[0m \u001b[0mcallback\u001b[0m\u001b[1;33m=\u001b[0m\u001b[0mcb\u001b[0m\u001b[1;33m)\u001b[0m\u001b[1;33m\u001b[0m\u001b[1;33m\u001b[0m\u001b[0m\n\u001b[0m\u001b[0;32m    717\u001b[0m             \u001b[1;31m# A job can complete so quickly than its callback is\u001b[0m\u001b[1;33m\u001b[0m\u001b[1;33m\u001b[0m\u001b[1;33m\u001b[0m\u001b[0m\n\u001b[0;32m    718\u001b[0m             \u001b[1;31m# called before we get here, causing self._jobs to\u001b[0m\u001b[1;33m\u001b[0m\u001b[1;33m\u001b[0m\u001b[1;33m\u001b[0m\u001b[0m\n",
      "\u001b[1;32m~\\Anaconda3\\lib\\site-packages\\sklearn\\externals\\joblib\\_parallel_backends.py\u001b[0m in \u001b[0;36mapply_async\u001b[1;34m(self, func, callback)\u001b[0m\n\u001b[0;32m    180\u001b[0m     \u001b[1;32mdef\u001b[0m \u001b[0mapply_async\u001b[0m\u001b[1;33m(\u001b[0m\u001b[0mself\u001b[0m\u001b[1;33m,\u001b[0m \u001b[0mfunc\u001b[0m\u001b[1;33m,\u001b[0m \u001b[0mcallback\u001b[0m\u001b[1;33m=\u001b[0m\u001b[1;32mNone\u001b[0m\u001b[1;33m)\u001b[0m\u001b[1;33m:\u001b[0m\u001b[1;33m\u001b[0m\u001b[1;33m\u001b[0m\u001b[0m\n\u001b[0;32m    181\u001b[0m         \u001b[1;34m\"\"\"Schedule a func to be run\"\"\"\u001b[0m\u001b[1;33m\u001b[0m\u001b[1;33m\u001b[0m\u001b[0m\n\u001b[1;32m--> 182\u001b[1;33m         \u001b[0mresult\u001b[0m \u001b[1;33m=\u001b[0m \u001b[0mImmediateResult\u001b[0m\u001b[1;33m(\u001b[0m\u001b[0mfunc\u001b[0m\u001b[1;33m)\u001b[0m\u001b[1;33m\u001b[0m\u001b[1;33m\u001b[0m\u001b[0m\n\u001b[0m\u001b[0;32m    183\u001b[0m         \u001b[1;32mif\u001b[0m \u001b[0mcallback\u001b[0m\u001b[1;33m:\u001b[0m\u001b[1;33m\u001b[0m\u001b[1;33m\u001b[0m\u001b[0m\n\u001b[0;32m    184\u001b[0m             \u001b[0mcallback\u001b[0m\u001b[1;33m(\u001b[0m\u001b[0mresult\u001b[0m\u001b[1;33m)\u001b[0m\u001b[1;33m\u001b[0m\u001b[1;33m\u001b[0m\u001b[0m\n",
      "\u001b[1;32m~\\Anaconda3\\lib\\site-packages\\sklearn\\externals\\joblib\\_parallel_backends.py\u001b[0m in \u001b[0;36m__init__\u001b[1;34m(self, batch)\u001b[0m\n\u001b[0;32m    547\u001b[0m         \u001b[1;31m# Don't delay the application, to avoid keeping the input\u001b[0m\u001b[1;33m\u001b[0m\u001b[1;33m\u001b[0m\u001b[1;33m\u001b[0m\u001b[0m\n\u001b[0;32m    548\u001b[0m         \u001b[1;31m# arguments in memory\u001b[0m\u001b[1;33m\u001b[0m\u001b[1;33m\u001b[0m\u001b[1;33m\u001b[0m\u001b[0m\n\u001b[1;32m--> 549\u001b[1;33m         \u001b[0mself\u001b[0m\u001b[1;33m.\u001b[0m\u001b[0mresults\u001b[0m \u001b[1;33m=\u001b[0m \u001b[0mbatch\u001b[0m\u001b[1;33m(\u001b[0m\u001b[1;33m)\u001b[0m\u001b[1;33m\u001b[0m\u001b[1;33m\u001b[0m\u001b[0m\n\u001b[0m\u001b[0;32m    550\u001b[0m \u001b[1;33m\u001b[0m\u001b[0m\n\u001b[0;32m    551\u001b[0m     \u001b[1;32mdef\u001b[0m \u001b[0mget\u001b[0m\u001b[1;33m(\u001b[0m\u001b[0mself\u001b[0m\u001b[1;33m)\u001b[0m\u001b[1;33m:\u001b[0m\u001b[1;33m\u001b[0m\u001b[1;33m\u001b[0m\u001b[0m\n",
      "\u001b[1;32m~\\Anaconda3\\lib\\site-packages\\sklearn\\externals\\joblib\\parallel.py\u001b[0m in \u001b[0;36m__call__\u001b[1;34m(self)\u001b[0m\n\u001b[0;32m    223\u001b[0m         \u001b[1;32mwith\u001b[0m \u001b[0mparallel_backend\u001b[0m\u001b[1;33m(\u001b[0m\u001b[0mself\u001b[0m\u001b[1;33m.\u001b[0m\u001b[0m_backend\u001b[0m\u001b[1;33m,\u001b[0m \u001b[0mn_jobs\u001b[0m\u001b[1;33m=\u001b[0m\u001b[0mself\u001b[0m\u001b[1;33m.\u001b[0m\u001b[0m_n_jobs\u001b[0m\u001b[1;33m)\u001b[0m\u001b[1;33m:\u001b[0m\u001b[1;33m\u001b[0m\u001b[1;33m\u001b[0m\u001b[0m\n\u001b[0;32m    224\u001b[0m             return [func(*args, **kwargs)\n\u001b[1;32m--> 225\u001b[1;33m                     for func, args, kwargs in self.items]\n\u001b[0m\u001b[0;32m    226\u001b[0m \u001b[1;33m\u001b[0m\u001b[0m\n\u001b[0;32m    227\u001b[0m     \u001b[1;32mdef\u001b[0m \u001b[0m__len__\u001b[0m\u001b[1;33m(\u001b[0m\u001b[0mself\u001b[0m\u001b[1;33m)\u001b[0m\u001b[1;33m:\u001b[0m\u001b[1;33m\u001b[0m\u001b[1;33m\u001b[0m\u001b[0m\n",
      "\u001b[1;32m~\\Anaconda3\\lib\\site-packages\\sklearn\\externals\\joblib\\parallel.py\u001b[0m in \u001b[0;36m<listcomp>\u001b[1;34m(.0)\u001b[0m\n\u001b[0;32m    223\u001b[0m         \u001b[1;32mwith\u001b[0m \u001b[0mparallel_backend\u001b[0m\u001b[1;33m(\u001b[0m\u001b[0mself\u001b[0m\u001b[1;33m.\u001b[0m\u001b[0m_backend\u001b[0m\u001b[1;33m,\u001b[0m \u001b[0mn_jobs\u001b[0m\u001b[1;33m=\u001b[0m\u001b[0mself\u001b[0m\u001b[1;33m.\u001b[0m\u001b[0m_n_jobs\u001b[0m\u001b[1;33m)\u001b[0m\u001b[1;33m:\u001b[0m\u001b[1;33m\u001b[0m\u001b[1;33m\u001b[0m\u001b[0m\n\u001b[0;32m    224\u001b[0m             return [func(*args, **kwargs)\n\u001b[1;32m--> 225\u001b[1;33m                     for func, args, kwargs in self.items]\n\u001b[0m\u001b[0;32m    226\u001b[0m \u001b[1;33m\u001b[0m\u001b[0m\n\u001b[0;32m    227\u001b[0m     \u001b[1;32mdef\u001b[0m \u001b[0m__len__\u001b[0m\u001b[1;33m(\u001b[0m\u001b[0mself\u001b[0m\u001b[1;33m)\u001b[0m\u001b[1;33m:\u001b[0m\u001b[1;33m\u001b[0m\u001b[1;33m\u001b[0m\u001b[0m\n",
      "\u001b[1;32m~\\Anaconda3\\lib\\site-packages\\sklearn\\model_selection\\_validation.py\u001b[0m in \u001b[0;36m_fit_and_score\u001b[1;34m(estimator, X, y, scorer, train, test, verbose, parameters, fit_params, return_train_score, return_parameters, return_n_test_samples, return_times, return_estimator, error_score)\u001b[0m\n\u001b[0;32m    526\u001b[0m             \u001b[0mestimator\u001b[0m\u001b[1;33m.\u001b[0m\u001b[0mfit\u001b[0m\u001b[1;33m(\u001b[0m\u001b[0mX_train\u001b[0m\u001b[1;33m,\u001b[0m \u001b[1;33m**\u001b[0m\u001b[0mfit_params\u001b[0m\u001b[1;33m)\u001b[0m\u001b[1;33m\u001b[0m\u001b[1;33m\u001b[0m\u001b[0m\n\u001b[0;32m    527\u001b[0m         \u001b[1;32melse\u001b[0m\u001b[1;33m:\u001b[0m\u001b[1;33m\u001b[0m\u001b[1;33m\u001b[0m\u001b[0m\n\u001b[1;32m--> 528\u001b[1;33m             \u001b[0mestimator\u001b[0m\u001b[1;33m.\u001b[0m\u001b[0mfit\u001b[0m\u001b[1;33m(\u001b[0m\u001b[0mX_train\u001b[0m\u001b[1;33m,\u001b[0m \u001b[0my_train\u001b[0m\u001b[1;33m,\u001b[0m \u001b[1;33m**\u001b[0m\u001b[0mfit_params\u001b[0m\u001b[1;33m)\u001b[0m\u001b[1;33m\u001b[0m\u001b[1;33m\u001b[0m\u001b[0m\n\u001b[0m\u001b[0;32m    529\u001b[0m \u001b[1;33m\u001b[0m\u001b[0m\n\u001b[0;32m    530\u001b[0m     \u001b[1;32mexcept\u001b[0m \u001b[0mException\u001b[0m \u001b[1;32mas\u001b[0m \u001b[0me\u001b[0m\u001b[1;33m:\u001b[0m\u001b[1;33m\u001b[0m\u001b[1;33m\u001b[0m\u001b[0m\n",
      "\u001b[1;32m~\\Anaconda3\\lib\\site-packages\\sklearn\\ensemble\\voting_classifier.py\u001b[0m in \u001b[0;36mfit\u001b[1;34m(self, X, y, sample_weight)\u001b[0m\n\u001b[0;32m    181\u001b[0m                     raise ValueError('Underlying estimator \\'%s\\' does not'\n\u001b[0;32m    182\u001b[0m                                      ' support sample weights.' % name)\n\u001b[1;32m--> 183\u001b[1;33m         \u001b[0mnames\u001b[0m\u001b[1;33m,\u001b[0m \u001b[0mclfs\u001b[0m \u001b[1;33m=\u001b[0m \u001b[0mzip\u001b[0m\u001b[1;33m(\u001b[0m\u001b[1;33m*\u001b[0m\u001b[0mself\u001b[0m\u001b[1;33m.\u001b[0m\u001b[0mestimators\u001b[0m\u001b[1;33m)\u001b[0m\u001b[1;33m\u001b[0m\u001b[1;33m\u001b[0m\u001b[0m\n\u001b[0m\u001b[0;32m    184\u001b[0m         \u001b[0mself\u001b[0m\u001b[1;33m.\u001b[0m\u001b[0m_validate_names\u001b[0m\u001b[1;33m(\u001b[0m\u001b[0mnames\u001b[0m\u001b[1;33m)\u001b[0m\u001b[1;33m\u001b[0m\u001b[1;33m\u001b[0m\u001b[0m\n\u001b[0;32m    185\u001b[0m \u001b[1;33m\u001b[0m\u001b[0m\n",
      "\u001b[1;32m~\\Anaconda3\\lib\\site-packages\\sklearn\\ensemble\\base.py\u001b[0m in \u001b[0;36m__iter__\u001b[1;34m(self)\u001b[0m\n\u001b[0;32m    146\u001b[0m     \u001b[1;32mdef\u001b[0m \u001b[0m__iter__\u001b[0m\u001b[1;33m(\u001b[0m\u001b[0mself\u001b[0m\u001b[1;33m)\u001b[0m\u001b[1;33m:\u001b[0m\u001b[1;33m\u001b[0m\u001b[1;33m\u001b[0m\u001b[0m\n\u001b[0;32m    147\u001b[0m         \u001b[1;34m\"\"\"Returns iterator over estimators in the ensemble.\"\"\"\u001b[0m\u001b[1;33m\u001b[0m\u001b[1;33m\u001b[0m\u001b[0m\n\u001b[1;32m--> 148\u001b[1;33m         \u001b[1;32mreturn\u001b[0m \u001b[0miter\u001b[0m\u001b[1;33m(\u001b[0m\u001b[0mself\u001b[0m\u001b[1;33m.\u001b[0m\u001b[0mestimators_\u001b[0m\u001b[1;33m)\u001b[0m\u001b[1;33m\u001b[0m\u001b[1;33m\u001b[0m\u001b[0m\n\u001b[0m\u001b[0;32m    149\u001b[0m \u001b[1;33m\u001b[0m\u001b[0m\n\u001b[0;32m    150\u001b[0m \u001b[1;33m\u001b[0m\u001b[0m\n",
      "\u001b[1;31mAttributeError\u001b[0m: 'AdaBoostClassifier' object has no attribute 'estimators_'"
     ]
    }
   ],
   "source": [
    "scores = cross_val_score(All_clf, X, y, cv=10, scoring='accuracy')"
   ]
  },
  {
   "cell_type": "markdown",
   "metadata": {},
   "source": [
    "# BAGGING with only XGBOOST"
   ]
  },
  {
   "cell_type": "code",
   "execution_count": 24,
   "metadata": {},
   "outputs": [],
   "source": [
    "from sklearn.ensemble import AdaBoostClassifier"
   ]
  },
  {
   "cell_type": "code",
   "execution_count": 25,
   "metadata": {},
   "outputs": [],
   "source": [
    "clfr = xgb.XGBClassifier(learning_rate =0.1, n_estimators=10000, max_depth=5, min_child_weight = 1, gamma=0, subsample=0.8, colsample_bytree=0.8, objective='binary:logistic', nthread=4, scale_pos_weight=1, seed=27)\n",
    "xgb_clf = XGBClassifier(learning_rate =0.1, n_estimators=10000, max_depth=5, min_child_weight = 1, gamma=0, subsample=0.8, colsample_bytree=0.8, objective='binary:logistic', nthread=4, scale_pos_weight=1, seed=27)\n",
    "ada = AdaBoostClassifier()"
   ]
  },
  {
   "cell_type": "code",
   "execution_count": 26,
   "metadata": {
    "collapsed": true
   },
   "outputs": [
    {
     "ename": "AttributeError",
     "evalue": "'AdaBoostClassifier' object has no attribute 'estimators_'",
     "output_type": "error",
     "traceback": [
      "\u001b[1;31m---------------------------------------------------------------------------\u001b[0m",
      "\u001b[1;31mAttributeError\u001b[0m                            Traceback (most recent call last)",
      "\u001b[1;32m<ipython-input-26-09ab212ab0be>\u001b[0m in \u001b[0;36m<module>\u001b[1;34m\u001b[0m\n\u001b[1;32m----> 1\u001b[1;33m \u001b[1;32mfor\u001b[0m \u001b[0mclf\u001b[0m \u001b[1;32min\u001b[0m \u001b[0mada\u001b[0m\u001b[1;33m:\u001b[0m \u001b[0mscores\u001b[0m \u001b[1;33m=\u001b[0m \u001b[0mcross_val_score\u001b[0m\u001b[1;33m(\u001b[0m\u001b[0mclf\u001b[0m\u001b[1;33m,\u001b[0m \u001b[0mX\u001b[0m\u001b[1;33m,\u001b[0m \u001b[0my\u001b[0m\u001b[1;33m,\u001b[0m \u001b[0mcv\u001b[0m\u001b[1;33m=\u001b[0m\u001b[1;36m10\u001b[0m\u001b[1;33m,\u001b[0m \u001b[0mn_jobs\u001b[0m\u001b[1;33m=\u001b[0m\u001b[1;33m-\u001b[0m\u001b[1;36m1\u001b[0m\u001b[1;33m)\u001b[0m\u001b[1;33m\u001b[0m\u001b[1;33m\u001b[0m\u001b[0m\n\u001b[0m\u001b[0;32m      2\u001b[0m \u001b[0mbagging_clf2\u001b[0m \u001b[1;33m=\u001b[0m \u001b[0mBaggingClassifier\u001b[0m\u001b[1;33m(\u001b[0m\u001b[0mclf\u001b[0m\u001b[1;33m,\u001b[0m \u001b[0mmax_samples\u001b[0m\u001b[1;33m=\u001b[0m\u001b[1;36m0.4\u001b[0m\u001b[1;33m,\u001b[0m \u001b[0mmax_features\u001b[0m\u001b[1;33m=\u001b[0m\u001b[1;36m10\u001b[0m \u001b[1;33m,\u001b[0m \u001b[0mrandom_state\u001b[0m\u001b[1;33m=\u001b[0m\u001b[0mseed\u001b[0m\u001b[1;33m)\u001b[0m\u001b[1;33m\u001b[0m\u001b[1;33m\u001b[0m\u001b[0m\n\u001b[0;32m      3\u001b[0m \u001b[0mbagging_scores\u001b[0m \u001b[1;33m=\u001b[0m \u001b[0mcross_val_score\u001b[0m\u001b[1;33m(\u001b[0m\u001b[0mbagging_clf2\u001b[0m\u001b[1;33m,\u001b[0m \u001b[0mX\u001b[0m\u001b[1;33m,\u001b[0m \u001b[0my\u001b[0m\u001b[1;33m,\u001b[0m \u001b[0mcv\u001b[0m\u001b[1;33m=\u001b[0m\u001b[1;36m10\u001b[0m\u001b[1;33m,\u001b[0m \u001b[0mn_jobs\u001b[0m\u001b[1;33m=\u001b[0m\u001b[1;33m-\u001b[0m\u001b[1;36m1\u001b[0m\u001b[1;33m)\u001b[0m\u001b[1;33m\u001b[0m\u001b[1;33m\u001b[0m\u001b[0m\n",
      "\u001b[1;32m~\\Anaconda3\\lib\\site-packages\\sklearn\\ensemble\\base.py\u001b[0m in \u001b[0;36m__iter__\u001b[1;34m(self)\u001b[0m\n\u001b[0;32m    146\u001b[0m     \u001b[1;32mdef\u001b[0m \u001b[0m__iter__\u001b[0m\u001b[1;33m(\u001b[0m\u001b[0mself\u001b[0m\u001b[1;33m)\u001b[0m\u001b[1;33m:\u001b[0m\u001b[1;33m\u001b[0m\u001b[1;33m\u001b[0m\u001b[0m\n\u001b[0;32m    147\u001b[0m         \u001b[1;34m\"\"\"Returns iterator over estimators in the ensemble.\"\"\"\u001b[0m\u001b[1;33m\u001b[0m\u001b[1;33m\u001b[0m\u001b[0m\n\u001b[1;32m--> 148\u001b[1;33m         \u001b[1;32mreturn\u001b[0m \u001b[0miter\u001b[0m\u001b[1;33m(\u001b[0m\u001b[0mself\u001b[0m\u001b[1;33m.\u001b[0m\u001b[0mestimators_\u001b[0m\u001b[1;33m)\u001b[0m\u001b[1;33m\u001b[0m\u001b[1;33m\u001b[0m\u001b[0m\n\u001b[0m\u001b[0;32m    149\u001b[0m \u001b[1;33m\u001b[0m\u001b[0m\n\u001b[0;32m    150\u001b[0m \u001b[1;33m\u001b[0m\u001b[0m\n",
      "\u001b[1;31mAttributeError\u001b[0m: 'AdaBoostClassifier' object has no attribute 'estimators_'"
     ]
    }
   ],
   "source": [
    "for clf in ada: scores = cross_val_score(clf, X, y, cv=10, n_jobs=-1)\n",
    "bagging_clf2 = BaggingClassifier(clf, max_samples=0.4, max_features=10 , random_state=seed)\n",
    "bagging_scores = cross_val_score(bagging_clf2, X, y, cv=10, n_jobs=-1)"
   ]
  },
  {
   "cell_type": "code",
   "execution_count": null,
   "metadata": {},
   "outputs": [],
   "source": []
  },
  {
   "cell_type": "code",
   "execution_count": 29,
   "metadata": {},
   "outputs": [],
   "source": [
    "from sklearn.ensemble import GradientBoostingClassifier"
   ]
  },
  {
   "cell_type": "code",
   "execution_count": 33,
   "metadata": {},
   "outputs": [],
   "source": [
    "from mlxtend.classifier import EnsembleVoteClassifier"
   ]
  },
  {
   "cell_type": "code",
   "execution_count": 41,
   "metadata": {},
   "outputs": [],
   "source": [
    "from sklearn.model_selection import cross_val_score\n",
    "from sklearn.metrics import f1_score"
   ]
  },
  {
   "cell_type": "markdown",
   "metadata": {},
   "source": [
    "# lets try boosting "
   ]
  },
  {
   "cell_type": "code",
   "execution_count": 30,
   "metadata": {},
   "outputs": [],
   "source": [
    "ada_boost = AdaBoostClassifier()\n",
    "grad_boost = GradientBoostingClassifier()\n",
    "xgb_boost = XGBClassifier()"
   ]
  },
  {
   "cell_type": "code",
   "execution_count": 31,
   "metadata": {},
   "outputs": [],
   "source": [
    "boost_array = [ada_boost, grad_boost, xgb_boost]"
   ]
  },
  {
   "cell_type": "code",
   "execution_count": 34,
   "metadata": {},
   "outputs": [],
   "source": [
    "eclf = EnsembleVoteClassifier(clfs=[ada_boost, grad_boost, xgb_boost], voting='hard')"
   ]
  },
  {
   "cell_type": "code",
   "execution_count": 35,
   "metadata": {},
   "outputs": [],
   "source": [
    "labels = ['Ada Boost', 'Grad Boost', 'XG Boost', 'Ensemble']"
   ]
  },
  {
   "cell_type": "code",
   "execution_count": 43,
   "metadata": {},
   "outputs": [],
   "source": [
    "for clf, label in zip([ada_boost, grad_boost, xgb_boost, eclf], labels):\n",
    "    scores = cross_val_score(clf, X, y, cv=10, scoring='accuracy')"
   ]
  },
  {
   "cell_type": "code",
   "execution_count": 44,
   "metadata": {},
   "outputs": [
    {
     "name": "stdout",
     "output_type": "stream",
     "text": [
      "[0.939473   0.93918037 0.9339598  0.93918037 0.93787523 0.94048551\n",
      " 0.93552597 0.94231271 0.94022448 0.93891934]\n"
     ]
    }
   ],
   "source": [
    "print(scores)"
   ]
  },
  {
   "cell_type": "code",
   "execution_count": 57,
   "metadata": {},
   "outputs": [
    {
     "name": "stdout",
     "output_type": "stream",
     "text": [
      "0.43329253365973075\n"
     ]
    }
   ],
   "source": [
    "eclf.fit(x_train, y_train)\n",
    "y_pred = eclf.predict(x_test)\n",
    "score = f1_score(y_test, y_pred)\n",
    "print(score)"
   ]
  },
  {
   "cell_type": "code",
   "execution_count": 52,
   "metadata": {},
   "outputs": [],
   "source": [
    "y_pred = eclf.predict(test).astype(int)"
   ]
  },
  {
   "cell_type": "code",
   "execution_count": 54,
   "metadata": {},
   "outputs": [],
   "source": [
    "sample.Promoted_or_Not = y_pred\n",
    "sample.to_csv('intercampus12.csv',index =False)"
   ]
  },
  {
   "cell_type": "code",
   "execution_count": null,
   "metadata": {},
   "outputs": [],
   "source": []
  },
  {
   "cell_type": "markdown",
   "metadata": {},
   "source": [
    "# stratified k fold with xgboost"
   ]
  },
  {
   "cell_type": "code",
   "execution_count": 114,
   "metadata": {},
   "outputs": [],
   "source": [
    "from sklearn.model_selection import StratifiedKFold"
   ]
  },
  {
   "cell_type": "code",
   "execution_count": 115,
   "metadata": {},
   "outputs": [],
   "source": [
    "kfold = 5\n",
    "skf = StratifiedKFold(n_splits=kfold, random_state=42)"
   ]
  },
  {
   "cell_type": "code",
   "execution_count": 116,
   "metadata": {},
   "outputs": [],
   "source": [
    "params = {'min_child_weight': 10.0, 'objective': 'binary:logistic', 'max_depth': 7, 'max_delta_step': 1.8, 'colsample_bytree': 0.4, 'subsample': 0.8, 'eta': 0.025, 'gamma': 0.65, 'num_boost_round': 700}"
   ]
  },
  {
   "cell_type": "code",
   "execution_count": 118,
   "metadata": {},
   "outputs": [
    {
     "name": "stdout",
     "output_type": "stream",
     "text": [
      "[Fold 1/5]\n",
      "[Fold 2/5]\n",
      "[Fold 3/5]\n",
      "[Fold 4/5]\n",
      "[Fold 5/5]\n"
     ]
    }
   ],
   "source": [
    "for i, (train_index, test_index) in enumerate(skf.split(X, y)): print('[Fold %d/%d]' % (i + 1, kfold))"
   ]
  },
  {
   "cell_type": "code",
   "execution_count": 122,
   "metadata": {},
   "outputs": [],
   "source": [
    "X_train, X_valid = X.iloc[train_index], X.iloc[test_index]\n",
    "y_train, y_valid= y.iloc[train_index], y.iloc[test_index]"
   ]
  },
  {
   "cell_type": "code",
   "execution_count": 123,
   "metadata": {
    "collapsed": true
   },
   "outputs": [
    {
     "ename": "AttributeError",
     "evalue": "'XGBClassifier' object has no attribute 'DMatrix'",
     "output_type": "error",
     "traceback": [
      "\u001b[1;31m---------------------------------------------------------------------------\u001b[0m",
      "\u001b[1;31mAttributeError\u001b[0m                            Traceback (most recent call last)",
      "\u001b[1;32m<ipython-input-123-dea092972584>\u001b[0m in \u001b[0;36m<module>\u001b[1;34m\u001b[0m\n\u001b[0;32m      1\u001b[0m \u001b[1;31m#converting the data to xgboost format\u001b[0m\u001b[1;33m\u001b[0m\u001b[1;33m\u001b[0m\u001b[1;33m\u001b[0m\u001b[0m\n\u001b[1;32m----> 2\u001b[1;33m \u001b[0md_train\u001b[0m \u001b[1;33m=\u001b[0m \u001b[0mxgb\u001b[0m\u001b[1;33m.\u001b[0m\u001b[0mDMatrix\u001b[0m\u001b[1;33m(\u001b[0m\u001b[0mX_train\u001b[0m\u001b[1;33m,\u001b[0m \u001b[0my_train\u001b[0m\u001b[1;33m)\u001b[0m\u001b[1;33m\u001b[0m\u001b[1;33m\u001b[0m\u001b[0m\n\u001b[0m\u001b[0;32m      3\u001b[0m \u001b[0md_valid\u001b[0m \u001b[1;33m=\u001b[0m \u001b[0mxgb\u001b[0m\u001b[1;33m.\u001b[0m\u001b[0mDMatrix\u001b[0m\u001b[1;33m(\u001b[0m\u001b[0my_train\u001b[0m\u001b[1;33m,\u001b[0m \u001b[0my_valid\u001b[0m\u001b[1;33m)\u001b[0m\u001b[1;33m\u001b[0m\u001b[1;33m\u001b[0m\u001b[0m\n\u001b[0;32m      4\u001b[0m \u001b[0md_test\u001b[0m \u001b[1;33m=\u001b[0m \u001b[0mxgb\u001b[0m\u001b[1;33m.\u001b[0m\u001b[0mDMatrix\u001b[0m\u001b[1;33m(\u001b[0m\u001b[0mtest\u001b[0m\u001b[1;33m.\u001b[0m\u001b[0mvalues\u001b[0m\u001b[1;33m)\u001b[0m\u001b[1;33m\u001b[0m\u001b[1;33m\u001b[0m\u001b[0m\n\u001b[0;32m      5\u001b[0m \u001b[0mwatchlist\u001b[0m \u001b[1;33m=\u001b[0m \u001b[1;33m[\u001b[0m\u001b[1;33m(\u001b[0m\u001b[0md_train\u001b[0m\u001b[1;33m,\u001b[0m \u001b[1;34m'train'\u001b[0m\u001b[1;33m)\u001b[0m\u001b[1;33m,\u001b[0m \u001b[1;33m(\u001b[0m\u001b[0md_valid\u001b[0m\u001b[1;33m,\u001b[0m \u001b[1;34m'valid'\u001b[0m\u001b[1;33m)\u001b[0m\u001b[1;33m]\u001b[0m\u001b[1;33m\u001b[0m\u001b[1;33m\u001b[0m\u001b[0m\n",
      "\u001b[1;31mAttributeError\u001b[0m: 'XGBClassifier' object has no attribute 'DMatrix'"
     ]
    }
   ],
   "source": [
    "#converting the data to xgboost format\n",
    "d_train = xgb.DMatrix(X_train, y_train)\n",
    "d_valid = xgb.DMatrix(y_train, y_valid)\n",
    "d_test = xgb.DMatrix(test.values)\n",
    "watchlist = [(d_train, 'train'), (d_valid, 'valid')]"
   ]
  },
  {
   "cell_type": "code",
   "execution_count": 79,
   "metadata": {},
   "outputs": [],
   "source": [
    "clf_try = XGBClassifier(base_score=0.5, booster='gbtree', colsample_bylevel=1,\n",
    "       colsample_bynode=1, colsample_bytree=1, gamma=0, learning_rate=0.1,\n",
    "       max_delta_step=0, max_depth=3, min_child_weight=1, missing=None,\n",
    "       n_estimators=10000, n_jobs=1, nthread=None,\n",
    "       objective='binary:logistic', random_state=0, reg_alpha=0,\n",
    "       reg_lambda=1, scale_pos_weight=1, seed=None, silent=None,\n",
    "       subsample=1, verbosity=1)"
   ]
  },
  {
   "cell_type": "code",
   "execution_count": 140,
   "metadata": {},
   "outputs": [
    {
     "data": {
      "text/plain": [
       "XGBClassifier(base_score=0.5, booster='gbtree', colsample_bylevel=1,\n",
       "       colsample_bynode=1, colsample_bytree=1, gamma=0, learning_rate=0.1,\n",
       "       max_delta_step=0, max_depth=3, min_child_weight=1, missing=None,\n",
       "       n_estimators=10000, n_jobs=1, nthread=None,\n",
       "       objective='binary:logistic', random_state=0, reg_alpha=0,\n",
       "       reg_lambda=1, scale_pos_weight=1, seed=None, silent=None,\n",
       "       subsample=1, verbosity=1)"
      ]
     },
     "execution_count": 140,
     "metadata": {},
     "output_type": "execute_result"
    }
   ],
   "source": [
    "clf_try.fit(X_train, y_train)"
   ]
  },
  {
   "cell_type": "code",
   "execution_count": 142,
   "metadata": {},
   "outputs": [
    {
     "name": "stdout",
     "output_type": "stream",
     "text": [
      "0.48879837067209775\n"
     ]
    }
   ],
   "source": [
    "y_pred = clf_try.predict(X_valid)\n",
    "score = f1_score(y_valid, y_pred)\n",
    "print(score)"
   ]
  },
  {
   "cell_type": "code",
   "execution_count": 144,
   "metadata": {},
   "outputs": [],
   "source": [
    "y_pred = clf_try.predict(test).astype(int)\n"
   ]
  },
  {
   "cell_type": "code",
   "execution_count": 145,
   "metadata": {},
   "outputs": [],
   "source": [
    "sample.Promoted_or_Not = y_pred\n",
    "sample.to_csv('intercampus10.csv',index =False)"
   ]
  },
  {
   "cell_type": "markdown",
   "metadata": {},
   "source": [
    "# lets check the feature importance of our models"
   ]
  },
  {
   "cell_type": "code",
   "execution_count": 67,
   "metadata": {},
   "outputs": [],
   "source": [
    "def important_features(x_train, y_train, clf):\n",
    "    \"\"\"x_train: train data\n",
    "     y_train : train target data\n",
    "     clf : algorithm\n",
    "     \"\"\"\n",
    "    \n",
    "    clf.fit(x_train, y_train)\n",
    "    return sorted([(i, j) for i, j in zip(x_train.columns, clf.feature_importances_)], reverse=True, key=lambda x: x[1])"
   ]
  },
  {
   "cell_type": "code",
   "execution_count": 58,
   "metadata": {},
   "outputs": [],
   "source": [
    "import pandas as pd\n",
    "import numpy as np\n",
    "from sklearn.feature_selection import SelectKBest\n",
    "from sklearn.feature_selection import chi2"
   ]
  },
  {
   "cell_type": "code",
   "execution_count": 59,
   "metadata": {},
   "outputs": [],
   "source": [
    "bestfeatures = SelectKBest(score_func=chi2, k=10)\n",
    "fit = bestfeatures.fit(X,y)"
   ]
  },
  {
   "cell_type": "code",
   "execution_count": null,
   "metadata": {},
   "outputs": [],
   "source": []
  },
  {
   "cell_type": "code",
   "execution_count": 66,
   "metadata": {},
   "outputs": [
    {
     "name": "stdout",
     "output_type": "stream",
     "text": [
      "                                                Specs        Score\n",
      "5                              Training_score_average  3934.505005\n",
      "4                                      Previous_Award  1518.545947\n",
      "3                                         Targets_met  1249.518420\n",
      "1                              Last_performance_score   999.330013\n",
      "9   Division_Information Technology and Solution S...    33.348765\n",
      "7             Division_Commercial Sales and Marketing    24.296496\n",
      "16                     Qualification_MSc, MBA and PhD    19.699993\n",
      "11                      Division_People/HR Management    16.847330\n",
      "20  Channel_of_Recruitment_Referral and Special ca...    14.047592\n",
      "14                   Division_Sourcing and Purchasing     9.707663\n",
      "12             Division_Regulatory and Legal services     7.775183\n",
      "13                   Division_Research and Innovation     4.677651\n",
      "10                  Division_Information and Strategy     3.830396\n",
      "24                            Marital_Status_Not_Sure     2.446018\n",
      "15                  Qualification_First Degree or HND     2.387562\n",
      "29            Previous_IntraDepartmental_Movement_Yes     2.384867\n",
      "8      Division_Customer Support and Field Operations     1.411872\n",
      "32                         No_of_previous_employers_2     1.272354\n",
      "35                         No_of_previous_employers_5     1.053966\n",
      "27                       Past_Disciplinary_Action_Yes     0.890102\n",
      "30                         No_of_previous_employers_0     0.860781\n",
      "34                         No_of_previous_employers_4     0.789381\n",
      "25                              Marital_Status_Single     0.744861\n",
      "19     Channel_of_Recruitment_Direct Internal process     0.419269\n",
      "0                                       Year_of_birth     0.364986\n",
      "21                                Foreign_schooled_No     0.358886\n",
      "36               No_of_previous_employers_More than 5     0.275058\n",
      "28             Previous_IntraDepartmental_Movement_No     0.247563\n",
      "31                         No_of_previous_employers_1     0.220480\n",
      "6                Division_Business Finance Operations     0.187068\n",
      "17             Qualification_Non-University Education     0.129844\n",
      "23                             Marital_Status_Married     0.056952\n",
      "2                                 Year_of_recruitment     0.052178\n",
      "22                               Foreign_schooled_Yes     0.034017\n",
      "18           Channel_of_Recruitment_Agency and others     0.027344\n",
      "33                         No_of_previous_employers_3     0.004551\n",
      "26                        Past_Disciplinary_Action_No     0.003522\n"
     ]
    }
   ],
   "source": [
    "#apply SelectKBest class to extract top 10 best features\n",
    "bestfeatures = SelectKBest(score_func=chi2, k=10)\n",
    "fit = bestfeatures.fit(X,y)\n",
    "dfscores = pd.DataFrame(fit.scores_)\n",
    "dfcolumns = pd.DataFrame(X.columns)\n",
    "#concat two dataframes for better visualization \n",
    "featureScores = pd.concat([dfcolumns,dfscores],axis=1)\n",
    "featureScores.columns = ['Specs','Score']  #naming the dataframe columns\n",
    "print(featureScores.nlargest(38,'Score'))  #print 10 best features"
   ]
  },
  {
   "cell_type": "code",
   "execution_count": null,
   "metadata": {},
   "outputs": [],
   "source": []
  },
  {
   "cell_type": "code",
   "execution_count": 55,
   "metadata": {},
   "outputs": [],
   "source": [
    "df_imp = df.copy()"
   ]
  },
  {
   "cell_type": "code",
   "execution_count": 16,
   "metadata": {},
   "outputs": [],
   "source": [
    "del df_imp['Past_Disciplinary_Action_No']\n",
    "del df_imp['No_of_previous_employers_3'] \n",
    "del df_imp['Channel_of_Recruitment_Agency and others'] \n",
    "del df_imp['Foreign_schooled_Yes'] \n",
    "del df_imp['Year_of_recruitment'] \n",
    "del df_imp['Marital_Status_Married'] \n",
    "del df_imp['Qualification_Non-University Education'] "
   ]
  },
  {
   "cell_type": "code",
   "execution_count": 36,
   "metadata": {},
   "outputs": [
    {
     "name": "stderr",
     "output_type": "stream",
     "text": [
      "C:\\Users\\maximus\\Anaconda3\\lib\\site-packages\\sklearn\\model_selection\\_split.py:2179: FutureWarning: From version 0.21, test_size will always complement train_size unless both are specified.\n",
      "  FutureWarning)\n"
     ]
    }
   ],
   "source": [
    "x_importance = df_imp.drop('Promoted_or_Not', axis= 1)\n",
    "y_importance = df_imp['Promoted_or_Not']\n",
    "X_train, X_test, Y_train, Y_test = train_test_split(x_importance, y_importance, train_size = 0.80)"
   ]
  },
  {
   "cell_type": "code",
   "execution_count": 80,
   "metadata": {},
   "outputs": [
    {
     "name": "stdout",
     "output_type": "stream",
     "text": [
      "[0]\tvalidation_0-auc:0.752056\tvalidation_1-auc:0.769893\n",
      "Multiple eval metrics have been passed: 'validation_1-auc' will be used for early stopping.\n",
      "\n",
      "Will train until validation_1-auc hasn't improved in 30 rounds.\n",
      "[1]\tvalidation_0-auc:0.75879\tvalidation_1-auc:0.778814\n",
      "[2]\tvalidation_0-auc:0.758672\tvalidation_1-auc:0.778696\n",
      "[3]\tvalidation_0-auc:0.758272\tvalidation_1-auc:0.778142\n",
      "[4]\tvalidation_0-auc:0.759905\tvalidation_1-auc:0.778535\n",
      "[5]\tvalidation_0-auc:0.788888\tvalidation_1-auc:0.797083\n",
      "[6]\tvalidation_0-auc:0.788649\tvalidation_1-auc:0.79674\n",
      "[7]\tvalidation_0-auc:0.808772\tvalidation_1-auc:0.81249\n",
      "[8]\tvalidation_0-auc:0.80911\tvalidation_1-auc:0.812686\n",
      "[9]\tvalidation_0-auc:0.828498\tvalidation_1-auc:0.829125\n",
      "[10]\tvalidation_0-auc:0.827854\tvalidation_1-auc:0.829211\n",
      "[11]\tvalidation_0-auc:0.830118\tvalidation_1-auc:0.830682\n",
      "[12]\tvalidation_0-auc:0.839084\tvalidation_1-auc:0.833426\n",
      "[13]\tvalidation_0-auc:0.830512\tvalidation_1-auc:0.831153\n",
      "[14]\tvalidation_0-auc:0.841814\tvalidation_1-auc:0.834394\n",
      "[15]\tvalidation_0-auc:0.842341\tvalidation_1-auc:0.835095\n",
      "[16]\tvalidation_0-auc:0.84037\tvalidation_1-auc:0.834538\n",
      "[17]\tvalidation_0-auc:0.842607\tvalidation_1-auc:0.835284\n",
      "[18]\tvalidation_0-auc:0.84666\tvalidation_1-auc:0.837608\n",
      "[19]\tvalidation_0-auc:0.851285\tvalidation_1-auc:0.840395\n",
      "[20]\tvalidation_0-auc:0.851592\tvalidation_1-auc:0.840675\n",
      "[21]\tvalidation_0-auc:0.855044\tvalidation_1-auc:0.845596\n",
      "[22]\tvalidation_0-auc:0.856206\tvalidation_1-auc:0.845181\n",
      "[23]\tvalidation_0-auc:0.858529\tvalidation_1-auc:0.848234\n",
      "[24]\tvalidation_0-auc:0.859967\tvalidation_1-auc:0.850534\n",
      "[25]\tvalidation_0-auc:0.860556\tvalidation_1-auc:0.850844\n",
      "[26]\tvalidation_0-auc:0.860715\tvalidation_1-auc:0.85157\n",
      "[27]\tvalidation_0-auc:0.861171\tvalidation_1-auc:0.851934\n",
      "[28]\tvalidation_0-auc:0.861209\tvalidation_1-auc:0.85181\n",
      "[29]\tvalidation_0-auc:0.860916\tvalidation_1-auc:0.851463\n",
      "[30]\tvalidation_0-auc:0.867992\tvalidation_1-auc:0.856486\n",
      "[31]\tvalidation_0-auc:0.866436\tvalidation_1-auc:0.854686\n",
      "[32]\tvalidation_0-auc:0.866248\tvalidation_1-auc:0.855039\n",
      "[33]\tvalidation_0-auc:0.866062\tvalidation_1-auc:0.854583\n",
      "[34]\tvalidation_0-auc:0.870666\tvalidation_1-auc:0.857537\n",
      "[35]\tvalidation_0-auc:0.871502\tvalidation_1-auc:0.858242\n",
      "[36]\tvalidation_0-auc:0.872101\tvalidation_1-auc:0.858446\n",
      "[37]\tvalidation_0-auc:0.872405\tvalidation_1-auc:0.858119\n",
      "[38]\tvalidation_0-auc:0.874218\tvalidation_1-auc:0.859851\n",
      "[39]\tvalidation_0-auc:0.874233\tvalidation_1-auc:0.859793\n",
      "[40]\tvalidation_0-auc:0.874341\tvalidation_1-auc:0.860078\n",
      "[41]\tvalidation_0-auc:0.877317\tvalidation_1-auc:0.86289\n",
      "[42]\tvalidation_0-auc:0.878416\tvalidation_1-auc:0.864249\n",
      "[43]\tvalidation_0-auc:0.878431\tvalidation_1-auc:0.864338\n",
      "[44]\tvalidation_0-auc:0.878805\tvalidation_1-auc:0.86424\n",
      "[45]\tvalidation_0-auc:0.880781\tvalidation_1-auc:0.866966\n",
      "[46]\tvalidation_0-auc:0.880709\tvalidation_1-auc:0.866715\n",
      "[47]\tvalidation_0-auc:0.880805\tvalidation_1-auc:0.865873\n",
      "[48]\tvalidation_0-auc:0.883248\tvalidation_1-auc:0.868747\n",
      "[49]\tvalidation_0-auc:0.885582\tvalidation_1-auc:0.871079\n",
      "[50]\tvalidation_0-auc:0.885151\tvalidation_1-auc:0.870355\n",
      "[51]\tvalidation_0-auc:0.886056\tvalidation_1-auc:0.871733\n",
      "[52]\tvalidation_0-auc:0.886857\tvalidation_1-auc:0.872505\n",
      "[53]\tvalidation_0-auc:0.886605\tvalidation_1-auc:0.871707\n",
      "[54]\tvalidation_0-auc:0.886708\tvalidation_1-auc:0.871694\n",
      "[55]\tvalidation_0-auc:0.888669\tvalidation_1-auc:0.873182\n",
      "[56]\tvalidation_0-auc:0.889961\tvalidation_1-auc:0.874852\n",
      "[57]\tvalidation_0-auc:0.890651\tvalidation_1-auc:0.875165\n",
      "[58]\tvalidation_0-auc:0.891173\tvalidation_1-auc:0.875748\n",
      "[59]\tvalidation_0-auc:0.892341\tvalidation_1-auc:0.876819\n",
      "[60]\tvalidation_0-auc:0.892584\tvalidation_1-auc:0.877606\n",
      "[61]\tvalidation_0-auc:0.893073\tvalidation_1-auc:0.877962\n",
      "[62]\tvalidation_0-auc:0.893425\tvalidation_1-auc:0.878401\n",
      "[63]\tvalidation_0-auc:0.893805\tvalidation_1-auc:0.878693\n",
      "[64]\tvalidation_0-auc:0.893879\tvalidation_1-auc:0.878547\n",
      "[65]\tvalidation_0-auc:0.894143\tvalidation_1-auc:0.878628\n",
      "[66]\tvalidation_0-auc:0.894343\tvalidation_1-auc:0.879141\n",
      "[67]\tvalidation_0-auc:0.89455\tvalidation_1-auc:0.879341\n",
      "[68]\tvalidation_0-auc:0.894898\tvalidation_1-auc:0.879664\n",
      "[69]\tvalidation_0-auc:0.895203\tvalidation_1-auc:0.880041\n",
      "[70]\tvalidation_0-auc:0.895376\tvalidation_1-auc:0.880479\n",
      "[71]\tvalidation_0-auc:0.896095\tvalidation_1-auc:0.8808\n",
      "[72]\tvalidation_0-auc:0.896197\tvalidation_1-auc:0.881002\n",
      "[73]\tvalidation_0-auc:0.896332\tvalidation_1-auc:0.881146\n",
      "[74]\tvalidation_0-auc:0.89643\tvalidation_1-auc:0.881346\n",
      "[75]\tvalidation_0-auc:0.896872\tvalidation_1-auc:0.881591\n",
      "[76]\tvalidation_0-auc:0.897049\tvalidation_1-auc:0.881853\n",
      "[77]\tvalidation_0-auc:0.897044\tvalidation_1-auc:0.881801\n",
      "[78]\tvalidation_0-auc:0.897426\tvalidation_1-auc:0.882152\n",
      "[79]\tvalidation_0-auc:0.89776\tvalidation_1-auc:0.8823\n",
      "[80]\tvalidation_0-auc:0.897678\tvalidation_1-auc:0.882307\n",
      "[81]\tvalidation_0-auc:0.897709\tvalidation_1-auc:0.882404\n",
      "[82]\tvalidation_0-auc:0.897832\tvalidation_1-auc:0.882525\n",
      "[83]\tvalidation_0-auc:0.897958\tvalidation_1-auc:0.882891\n",
      "[84]\tvalidation_0-auc:0.898297\tvalidation_1-auc:0.88314\n",
      "[85]\tvalidation_0-auc:0.898492\tvalidation_1-auc:0.883087\n",
      "[86]\tvalidation_0-auc:0.898628\tvalidation_1-auc:0.88328\n",
      "[87]\tvalidation_0-auc:0.898665\tvalidation_1-auc:0.883341\n",
      "[88]\tvalidation_0-auc:0.898602\tvalidation_1-auc:0.883237\n",
      "[89]\tvalidation_0-auc:0.898662\tvalidation_1-auc:0.883391\n",
      "[90]\tvalidation_0-auc:0.898719\tvalidation_1-auc:0.883674\n",
      "[91]\tvalidation_0-auc:0.898959\tvalidation_1-auc:0.883777\n",
      "[92]\tvalidation_0-auc:0.898951\tvalidation_1-auc:0.88388\n",
      "[93]\tvalidation_0-auc:0.899196\tvalidation_1-auc:0.883967\n",
      "[94]\tvalidation_0-auc:0.899412\tvalidation_1-auc:0.883656\n",
      "[95]\tvalidation_0-auc:0.900662\tvalidation_1-auc:0.885555\n",
      "[96]\tvalidation_0-auc:0.901086\tvalidation_1-auc:0.886367\n",
      "[97]\tvalidation_0-auc:0.901779\tvalidation_1-auc:0.887269\n",
      "[98]\tvalidation_0-auc:0.902253\tvalidation_1-auc:0.887816\n",
      "[99]\tvalidation_0-auc:0.902626\tvalidation_1-auc:0.888044\n",
      "[100]\tvalidation_0-auc:0.903048\tvalidation_1-auc:0.888753\n",
      "[101]\tvalidation_0-auc:0.903179\tvalidation_1-auc:0.888608\n",
      "[102]\tvalidation_0-auc:0.903178\tvalidation_1-auc:0.888696\n",
      "[103]\tvalidation_0-auc:0.903812\tvalidation_1-auc:0.889738\n",
      "[104]\tvalidation_0-auc:0.904323\tvalidation_1-auc:0.889988\n",
      "[105]\tvalidation_0-auc:0.904541\tvalidation_1-auc:0.889925\n",
      "[106]\tvalidation_0-auc:0.904891\tvalidation_1-auc:0.890496\n",
      "[107]\tvalidation_0-auc:0.905274\tvalidation_1-auc:0.890795\n",
      "[108]\tvalidation_0-auc:0.905322\tvalidation_1-auc:0.890508\n",
      "[109]\tvalidation_0-auc:0.905549\tvalidation_1-auc:0.890888\n",
      "[110]\tvalidation_0-auc:0.906009\tvalidation_1-auc:0.891225\n",
      "[111]\tvalidation_0-auc:0.906122\tvalidation_1-auc:0.891271\n",
      "[112]\tvalidation_0-auc:0.906374\tvalidation_1-auc:0.891463\n",
      "[113]\tvalidation_0-auc:0.906577\tvalidation_1-auc:0.891583\n",
      "[114]\tvalidation_0-auc:0.906703\tvalidation_1-auc:0.891636\n",
      "[115]\tvalidation_0-auc:0.906725\tvalidation_1-auc:0.891688\n",
      "[116]\tvalidation_0-auc:0.906733\tvalidation_1-auc:0.891746\n",
      "[117]\tvalidation_0-auc:0.90698\tvalidation_1-auc:0.891633\n",
      "[118]\tvalidation_0-auc:0.907064\tvalidation_1-auc:0.8917\n",
      "[119]\tvalidation_0-auc:0.907206\tvalidation_1-auc:0.89165\n",
      "[120]\tvalidation_0-auc:0.907238\tvalidation_1-auc:0.891741\n",
      "[121]\tvalidation_0-auc:0.907256\tvalidation_1-auc:0.89174\n",
      "[122]\tvalidation_0-auc:0.907462\tvalidation_1-auc:0.891772\n",
      "[123]\tvalidation_0-auc:0.907535\tvalidation_1-auc:0.8919\n",
      "[124]\tvalidation_0-auc:0.907561\tvalidation_1-auc:0.892132\n",
      "[125]\tvalidation_0-auc:0.907753\tvalidation_1-auc:0.89207\n",
      "[126]\tvalidation_0-auc:0.907897\tvalidation_1-auc:0.892092\n",
      "[127]\tvalidation_0-auc:0.907925\tvalidation_1-auc:0.892058\n",
      "[128]\tvalidation_0-auc:0.908033\tvalidation_1-auc:0.892068\n",
      "[129]\tvalidation_0-auc:0.908138\tvalidation_1-auc:0.891897\n",
      "[130]\tvalidation_0-auc:0.908188\tvalidation_1-auc:0.892228\n",
      "[131]\tvalidation_0-auc:0.908239\tvalidation_1-auc:0.892321\n",
      "[132]\tvalidation_0-auc:0.908526\tvalidation_1-auc:0.8926\n",
      "[133]\tvalidation_0-auc:0.908572\tvalidation_1-auc:0.892592\n",
      "[134]\tvalidation_0-auc:0.90873\tvalidation_1-auc:0.892492\n",
      "[135]\tvalidation_0-auc:0.908797\tvalidation_1-auc:0.892486\n",
      "[136]\tvalidation_0-auc:0.908791\tvalidation_1-auc:0.892612\n",
      "[137]\tvalidation_0-auc:0.909057\tvalidation_1-auc:0.893048\n",
      "[138]\tvalidation_0-auc:0.909198\tvalidation_1-auc:0.893049\n",
      "[139]\tvalidation_0-auc:0.909261\tvalidation_1-auc:0.89304\n",
      "[140]\tvalidation_0-auc:0.909468\tvalidation_1-auc:0.893227\n"
     ]
    },
    {
     "name": "stdout",
     "output_type": "stream",
     "text": [
      "[141]\tvalidation_0-auc:0.90968\tvalidation_1-auc:0.893417\n",
      "[142]\tvalidation_0-auc:0.909941\tvalidation_1-auc:0.893575\n",
      "[143]\tvalidation_0-auc:0.909982\tvalidation_1-auc:0.893619\n",
      "[144]\tvalidation_0-auc:0.910133\tvalidation_1-auc:0.893817\n",
      "[145]\tvalidation_0-auc:0.910138\tvalidation_1-auc:0.893835\n",
      "[146]\tvalidation_0-auc:0.910281\tvalidation_1-auc:0.89376\n",
      "[147]\tvalidation_0-auc:0.910386\tvalidation_1-auc:0.893786\n",
      "[148]\tvalidation_0-auc:0.910401\tvalidation_1-auc:0.893482\n",
      "[149]\tvalidation_0-auc:0.91071\tvalidation_1-auc:0.893825\n",
      "[150]\tvalidation_0-auc:0.910833\tvalidation_1-auc:0.894221\n",
      "[151]\tvalidation_0-auc:0.911483\tvalidation_1-auc:0.895141\n",
      "[152]\tvalidation_0-auc:0.911593\tvalidation_1-auc:0.895371\n",
      "[153]\tvalidation_0-auc:0.911675\tvalidation_1-auc:0.895375\n",
      "[154]\tvalidation_0-auc:0.911692\tvalidation_1-auc:0.895442\n",
      "[155]\tvalidation_0-auc:0.911714\tvalidation_1-auc:0.895473\n",
      "[156]\tvalidation_0-auc:0.911761\tvalidation_1-auc:0.895436\n",
      "[157]\tvalidation_0-auc:0.911826\tvalidation_1-auc:0.895386\n",
      "[158]\tvalidation_0-auc:0.911828\tvalidation_1-auc:0.895416\n",
      "[159]\tvalidation_0-auc:0.911895\tvalidation_1-auc:0.89526\n",
      "[160]\tvalidation_0-auc:0.911967\tvalidation_1-auc:0.895142\n",
      "[161]\tvalidation_0-auc:0.912041\tvalidation_1-auc:0.895215\n",
      "[162]\tvalidation_0-auc:0.912128\tvalidation_1-auc:0.895476\n",
      "[163]\tvalidation_0-auc:0.912461\tvalidation_1-auc:0.89575\n",
      "[164]\tvalidation_0-auc:0.91254\tvalidation_1-auc:0.895729\n",
      "[165]\tvalidation_0-auc:0.912533\tvalidation_1-auc:0.895679\n",
      "[166]\tvalidation_0-auc:0.912585\tvalidation_1-auc:0.895672\n",
      "[167]\tvalidation_0-auc:0.912591\tvalidation_1-auc:0.89579\n",
      "[168]\tvalidation_0-auc:0.912615\tvalidation_1-auc:0.895815\n",
      "[169]\tvalidation_0-auc:0.912929\tvalidation_1-auc:0.895787\n",
      "[170]\tvalidation_0-auc:0.913006\tvalidation_1-auc:0.895825\n",
      "[171]\tvalidation_0-auc:0.913138\tvalidation_1-auc:0.895677\n",
      "[172]\tvalidation_0-auc:0.913371\tvalidation_1-auc:0.896026\n",
      "[173]\tvalidation_0-auc:0.913457\tvalidation_1-auc:0.896132\n",
      "[174]\tvalidation_0-auc:0.913583\tvalidation_1-auc:0.89609\n",
      "[175]\tvalidation_0-auc:0.913597\tvalidation_1-auc:0.89604\n",
      "[176]\tvalidation_0-auc:0.91361\tvalidation_1-auc:0.895965\n",
      "[177]\tvalidation_0-auc:0.913619\tvalidation_1-auc:0.896008\n",
      "[178]\tvalidation_0-auc:0.91362\tvalidation_1-auc:0.895986\n",
      "[179]\tvalidation_0-auc:0.913622\tvalidation_1-auc:0.896047\n",
      "[180]\tvalidation_0-auc:0.913651\tvalidation_1-auc:0.896031\n",
      "[181]\tvalidation_0-auc:0.913703\tvalidation_1-auc:0.895934\n",
      "[182]\tvalidation_0-auc:0.913789\tvalidation_1-auc:0.895881\n",
      "[183]\tvalidation_0-auc:0.913837\tvalidation_1-auc:0.895897\n",
      "[184]\tvalidation_0-auc:0.913832\tvalidation_1-auc:0.895874\n",
      "[185]\tvalidation_0-auc:0.913837\tvalidation_1-auc:0.895856\n",
      "[186]\tvalidation_0-auc:0.913862\tvalidation_1-auc:0.895856\n",
      "[187]\tvalidation_0-auc:0.913931\tvalidation_1-auc:0.89574\n",
      "[188]\tvalidation_0-auc:0.91393\tvalidation_1-auc:0.895707\n",
      "[189]\tvalidation_0-auc:0.913975\tvalidation_1-auc:0.895676\n",
      "[190]\tvalidation_0-auc:0.91416\tvalidation_1-auc:0.895621\n",
      "[191]\tvalidation_0-auc:0.914163\tvalidation_1-auc:0.895663\n",
      "[192]\tvalidation_0-auc:0.914232\tvalidation_1-auc:0.895592\n",
      "[193]\tvalidation_0-auc:0.914274\tvalidation_1-auc:0.895606\n",
      "[194]\tvalidation_0-auc:0.914396\tvalidation_1-auc:0.895639\n",
      "[195]\tvalidation_0-auc:0.914424\tvalidation_1-auc:0.895644\n",
      "[196]\tvalidation_0-auc:0.914605\tvalidation_1-auc:0.895861\n",
      "[197]\tvalidation_0-auc:0.91467\tvalidation_1-auc:0.895868\n",
      "[198]\tvalidation_0-auc:0.91469\tvalidation_1-auc:0.895841\n",
      "[199]\tvalidation_0-auc:0.914821\tvalidation_1-auc:0.896005\n",
      "[200]\tvalidation_0-auc:0.914872\tvalidation_1-auc:0.896205\n",
      "[201]\tvalidation_0-auc:0.915049\tvalidation_1-auc:0.896289\n",
      "[202]\tvalidation_0-auc:0.91533\tvalidation_1-auc:0.896173\n",
      "[203]\tvalidation_0-auc:0.915459\tvalidation_1-auc:0.896167\n",
      "[204]\tvalidation_0-auc:0.915532\tvalidation_1-auc:0.896101\n",
      "[205]\tvalidation_0-auc:0.915849\tvalidation_1-auc:0.896167\n",
      "[206]\tvalidation_0-auc:0.915923\tvalidation_1-auc:0.896453\n",
      "[207]\tvalidation_0-auc:0.916016\tvalidation_1-auc:0.896297\n",
      "[208]\tvalidation_0-auc:0.916056\tvalidation_1-auc:0.896433\n",
      "[209]\tvalidation_0-auc:0.916113\tvalidation_1-auc:0.89652\n",
      "[210]\tvalidation_0-auc:0.916171\tvalidation_1-auc:0.896517\n",
      "[211]\tvalidation_0-auc:0.916307\tvalidation_1-auc:0.896491\n",
      "[212]\tvalidation_0-auc:0.916355\tvalidation_1-auc:0.896547\n",
      "[213]\tvalidation_0-auc:0.916405\tvalidation_1-auc:0.896474\n",
      "[214]\tvalidation_0-auc:0.916538\tvalidation_1-auc:0.896603\n",
      "[215]\tvalidation_0-auc:0.916732\tvalidation_1-auc:0.896866\n",
      "[216]\tvalidation_0-auc:0.916786\tvalidation_1-auc:0.896987\n",
      "[217]\tvalidation_0-auc:0.916815\tvalidation_1-auc:0.896955\n",
      "[218]\tvalidation_0-auc:0.916858\tvalidation_1-auc:0.89708\n",
      "[219]\tvalidation_0-auc:0.916951\tvalidation_1-auc:0.897042\n",
      "[220]\tvalidation_0-auc:0.916958\tvalidation_1-auc:0.897006\n",
      "[221]\tvalidation_0-auc:0.91698\tvalidation_1-auc:0.89715\n",
      "[222]\tvalidation_0-auc:0.91704\tvalidation_1-auc:0.897239\n",
      "[223]\tvalidation_0-auc:0.917035\tvalidation_1-auc:0.897224\n",
      "[224]\tvalidation_0-auc:0.917092\tvalidation_1-auc:0.897209\n",
      "[225]\tvalidation_0-auc:0.91714\tvalidation_1-auc:0.897201\n",
      "[226]\tvalidation_0-auc:0.917173\tvalidation_1-auc:0.897198\n",
      "[227]\tvalidation_0-auc:0.917205\tvalidation_1-auc:0.897351\n",
      "[228]\tvalidation_0-auc:0.917235\tvalidation_1-auc:0.897399\n",
      "[229]\tvalidation_0-auc:0.917306\tvalidation_1-auc:0.897475\n",
      "[230]\tvalidation_0-auc:0.917421\tvalidation_1-auc:0.897522\n",
      "[231]\tvalidation_0-auc:0.917558\tvalidation_1-auc:0.897686\n",
      "[232]\tvalidation_0-auc:0.91756\tvalidation_1-auc:0.897686\n",
      "[233]\tvalidation_0-auc:0.917578\tvalidation_1-auc:0.897581\n",
      "[234]\tvalidation_0-auc:0.9177\tvalidation_1-auc:0.897719\n",
      "[235]\tvalidation_0-auc:0.917691\tvalidation_1-auc:0.897581\n",
      "[236]\tvalidation_0-auc:0.917789\tvalidation_1-auc:0.897677\n",
      "[237]\tvalidation_0-auc:0.917933\tvalidation_1-auc:0.897546\n",
      "[238]\tvalidation_0-auc:0.918009\tvalidation_1-auc:0.897425\n",
      "[239]\tvalidation_0-auc:0.918049\tvalidation_1-auc:0.897556\n",
      "[240]\tvalidation_0-auc:0.918062\tvalidation_1-auc:0.897571\n",
      "[241]\tvalidation_0-auc:0.918096\tvalidation_1-auc:0.897557\n",
      "[242]\tvalidation_0-auc:0.918129\tvalidation_1-auc:0.897519\n",
      "[243]\tvalidation_0-auc:0.918148\tvalidation_1-auc:0.897545\n",
      "[244]\tvalidation_0-auc:0.918248\tvalidation_1-auc:0.89738\n",
      "[245]\tvalidation_0-auc:0.918267\tvalidation_1-auc:0.897375\n",
      "[246]\tvalidation_0-auc:0.91834\tvalidation_1-auc:0.897333\n",
      "[247]\tvalidation_0-auc:0.918495\tvalidation_1-auc:0.897539\n",
      "[248]\tvalidation_0-auc:0.918514\tvalidation_1-auc:0.89746\n",
      "[249]\tvalidation_0-auc:0.9186\tvalidation_1-auc:0.897536\n",
      "[250]\tvalidation_0-auc:0.918648\tvalidation_1-auc:0.89755\n",
      "[251]\tvalidation_0-auc:0.918686\tvalidation_1-auc:0.897576\n",
      "[252]\tvalidation_0-auc:0.918703\tvalidation_1-auc:0.897574\n",
      "[253]\tvalidation_0-auc:0.91874\tvalidation_1-auc:0.897631\n",
      "[254]\tvalidation_0-auc:0.918776\tvalidation_1-auc:0.897631\n",
      "[255]\tvalidation_0-auc:0.918845\tvalidation_1-auc:0.897619\n",
      "[256]\tvalidation_0-auc:0.918866\tvalidation_1-auc:0.897649\n",
      "[257]\tvalidation_0-auc:0.918866\tvalidation_1-auc:0.897578\n",
      "[258]\tvalidation_0-auc:0.918878\tvalidation_1-auc:0.897612\n",
      "[259]\tvalidation_0-auc:0.918968\tvalidation_1-auc:0.897675\n",
      "[260]\tvalidation_0-auc:0.918999\tvalidation_1-auc:0.897689\n",
      "[261]\tvalidation_0-auc:0.918992\tvalidation_1-auc:0.897717\n",
      "[262]\tvalidation_0-auc:0.919132\tvalidation_1-auc:0.897934\n",
      "[263]\tvalidation_0-auc:0.919175\tvalidation_1-auc:0.897854\n",
      "[264]\tvalidation_0-auc:0.919263\tvalidation_1-auc:0.897782\n",
      "[265]\tvalidation_0-auc:0.919373\tvalidation_1-auc:0.897873\n",
      "[266]\tvalidation_0-auc:0.919422\tvalidation_1-auc:0.897827\n",
      "[267]\tvalidation_0-auc:0.919482\tvalidation_1-auc:0.897809\n",
      "[268]\tvalidation_0-auc:0.919556\tvalidation_1-auc:0.897984\n",
      "[269]\tvalidation_0-auc:0.919663\tvalidation_1-auc:0.897889\n",
      "[270]\tvalidation_0-auc:0.919707\tvalidation_1-auc:0.897762\n",
      "[271]\tvalidation_0-auc:0.91974\tvalidation_1-auc:0.89774\n",
      "[272]\tvalidation_0-auc:0.919799\tvalidation_1-auc:0.897708\n",
      "[273]\tvalidation_0-auc:0.919883\tvalidation_1-auc:0.897766\n",
      "[274]\tvalidation_0-auc:0.919942\tvalidation_1-auc:0.897733\n",
      "[275]\tvalidation_0-auc:0.920058\tvalidation_1-auc:0.897819\n",
      "[276]\tvalidation_0-auc:0.920122\tvalidation_1-auc:0.897769\n",
      "[277]\tvalidation_0-auc:0.92018\tvalidation_1-auc:0.89773\n",
      "[278]\tvalidation_0-auc:0.920189\tvalidation_1-auc:0.897727\n",
      "[279]\tvalidation_0-auc:0.920204\tvalidation_1-auc:0.897755\n",
      "[280]\tvalidation_0-auc:0.920204\tvalidation_1-auc:0.897713\n",
      "[281]\tvalidation_0-auc:0.920208\tvalidation_1-auc:0.897727\n",
      "[282]\tvalidation_0-auc:0.920266\tvalidation_1-auc:0.897702\n"
     ]
    },
    {
     "name": "stdout",
     "output_type": "stream",
     "text": [
      "[283]\tvalidation_0-auc:0.920331\tvalidation_1-auc:0.897738\n",
      "[284]\tvalidation_0-auc:0.920331\tvalidation_1-auc:0.897708\n",
      "[285]\tvalidation_0-auc:0.920363\tvalidation_1-auc:0.897671\n",
      "[286]\tvalidation_0-auc:0.92038\tvalidation_1-auc:0.897752\n",
      "[287]\tvalidation_0-auc:0.920421\tvalidation_1-auc:0.897646\n",
      "[288]\tvalidation_0-auc:0.920429\tvalidation_1-auc:0.897622\n",
      "[289]\tvalidation_0-auc:0.920436\tvalidation_1-auc:0.897626\n",
      "[290]\tvalidation_0-auc:0.92044\tvalidation_1-auc:0.89758\n",
      "[291]\tvalidation_0-auc:0.920474\tvalidation_1-auc:0.897697\n",
      "[292]\tvalidation_0-auc:0.920471\tvalidation_1-auc:0.897723\n",
      "[293]\tvalidation_0-auc:0.920499\tvalidation_1-auc:0.897711\n",
      "[294]\tvalidation_0-auc:0.920552\tvalidation_1-auc:0.897704\n",
      "[295]\tvalidation_0-auc:0.920567\tvalidation_1-auc:0.897713\n",
      "[296]\tvalidation_0-auc:0.920573\tvalidation_1-auc:0.897718\n",
      "[297]\tvalidation_0-auc:0.920578\tvalidation_1-auc:0.897719\n",
      "[298]\tvalidation_0-auc:0.920635\tvalidation_1-auc:0.897711\n",
      "Stopping. Best iteration:\n",
      "[268]\tvalidation_0-auc:0.919556\tvalidation_1-auc:0.897984\n",
      "\n"
     ]
    },
    {
     "data": {
      "text/plain": [
       "XGBClassifier(base_score=0.5, booster='gbtree', colsample_bylevel=1,\n",
       "       colsample_bynode=1, colsample_bytree=1, gamma=0, learning_rate=0.1,\n",
       "       max_delta_step=0, max_depth=3, min_child_weight=1, missing=None,\n",
       "       n_estimators=10000, n_jobs=1, nthread=None,\n",
       "       objective='binary:logistic', random_state=0, reg_alpha=0,\n",
       "       reg_lambda=1, scale_pos_weight=1, seed=None, silent=None,\n",
       "       subsample=1, verbosity=1)"
      ]
     },
     "execution_count": 80,
     "metadata": {},
     "output_type": "execute_result"
    }
   ],
   "source": [
    "clf = xgb.XGBClassifier(n_estimators=10000)\n",
    "eval_set = [(X_train, Y_train), (X_test, Y_test)]\n",
    "clf.fit(X_train, Y_train, eval_set=eval_set,\n",
    "       eval_metric=\"auc\", early_stopping_rounds=30)"
   ]
  },
  {
   "cell_type": "code",
   "execution_count": null,
   "metadata": {},
   "outputs": [],
   "source": []
  },
  {
   "cell_type": "code",
   "execution_count": null,
   "metadata": {},
   "outputs": [],
   "source": []
  },
  {
   "cell_type": "code",
   "execution_count": 62,
   "metadata": {},
   "outputs": [
    {
     "name": "stderr",
     "output_type": "stream",
     "text": [
      "C:\\Users\\maximus\\Anaconda3\\lib\\site-packages\\sklearn\\ensemble\\forest.py:246: FutureWarning: The default value of n_estimators will change from 10 in version 0.20 to 100 in 0.22.\n",
      "  \"10 in version 0.20 to 100 in 0.22.\", FutureWarning)\n"
     ]
    },
    {
     "name": "stdout",
     "output_type": "stream",
     "text": [
      "[0.16760112 0.07682616 0.13385977 0.05113278 0.03709097 0.30472363\n",
      " 0.00490014 0.02993052 0.01176072 0.00796362 0.00602103 0.00442922\n",
      " 0.00161721 0.00358031 0.01159524 0.01025993 0.00743195 0.00195559\n",
      " 0.01196262 0.01161758 0.00339636 0.0064155  0.00634056 0.00928346\n",
      " 0.00248292 0.00910472 0.00090795 0.00081002 0.00740166 0.00625209\n",
      " 0.01359207 0.01361034 0.00625592 0.00612304 0.00559903 0.00366465\n",
      " 0.0024996 ]\n"
     ]
    },
    {
     "data": {
      "text/plain": [
       "<Figure size 640x480 with 1 Axes>"
      ]
     },
     "metadata": {},
     "output_type": "display_data"
    }
   ],
   "source": [
    "from sklearn.ensemble import ExtraTreesClassifier\n",
    "import matplotlib.pyplot as plt\n",
    "model = ExtraTreesClassifier()\n",
    "model.fit(X,y)\n",
    "print(model.feature_importances_) #use inbuilt class feature_importances of tree based classifiers\n",
    "#plot graph of feature importances for better visualization\n",
    "feat_importances = pd.Series(model.feature_importances_, index=X.columns)\n",
    "feat_importances.nlargest(10).plot(kind='barh')\n",
    "plt.show()"
   ]
  },
  {
   "cell_type": "code",
   "execution_count": 64,
   "metadata": {},
   "outputs": [
    {
     "data": {
      "image/png": "[encoded data removed]",
      "text/plain": [
       "<Figure size 1440x1440 with 2 Axes>"
      ]
     },
     "metadata": {
      "needs_background": "light"
     },
     "output_type": "display_data"
    }
   ],
   "source": [
    "#get correlations of each features in dataset\n",
    "import seaborn as sns\n",
    "corrmat = data.corr()\n",
    "top_corr_features = corrmat.index\n",
    "plt.figure(figsize=(20,20))\n",
    "#plot heat map\n",
    "g=sns.heatmap(data[top_corr_features].corr(),annot=True,cmap=\"RdYlGn\")"
   ]
  },
  {
   "cell_type": "code",
   "execution_count": 68,
   "metadata": {},
   "outputs": [],
   "source": [
    "def important_features(x_train, y_train, clf):\n",
    "    \"\"\"x_train: train data\n",
    "     y_train : train target data\n",
    "     clf : algorithm\n",
    "     \"\"\"\n",
    "    \n",
    "    clf.fit(x_train, y_train)\n",
    "    return sorted([(i, j) for i, j in zip(x_train.columns, clf.feature_importances_)], reverse=True, key=lambda x: x[1])"
   ]
  },
  {
   "cell_type": "code",
   "execution_count": null,
   "metadata": {},
   "outputs": [],
   "source": []
  },
  {
   "cell_type": "code",
   "execution_count": 82,
   "metadata": {
    "collapsed": true
   },
   "outputs": [
    {
     "ename": "AttributeError",
     "evalue": "type object '_catboost._FloatArrayWrapper' has no attribute '__reduce_cython__'",
     "output_type": "error",
     "traceback": [
      "\u001b[1;31m---------------------------------------------------------------------------\u001b[0m",
      "\u001b[1;31mAttributeError\u001b[0m                            Traceback (most recent call last)",
      "\u001b[1;32m<ipython-input-82-a552d8edcebd>\u001b[0m in \u001b[0;36m<module>\u001b[1;34m\u001b[0m\n\u001b[1;32m----> 1\u001b[1;33m \u001b[1;32mfrom\u001b[0m \u001b[0mcatboost\u001b[0m \u001b[1;32mimport\u001b[0m \u001b[0mCatBoostClassifier\u001b[0m\u001b[1;33m\u001b[0m\u001b[1;33m\u001b[0m\u001b[0m\n\u001b[0m",
      "\u001b[1;32m~\\Anaconda3\\lib\\site-packages\\catboost\\__init__.py\u001b[0m in \u001b[0;36m<module>\u001b[1;34m\u001b[0m\n\u001b[1;32m----> 1\u001b[1;33m \u001b[1;32mfrom\u001b[0m \u001b[1;33m.\u001b[0m\u001b[0mcore\u001b[0m \u001b[1;32mimport\u001b[0m \u001b[0mFeaturesData\u001b[0m\u001b[1;33m,\u001b[0m \u001b[0mEFstrType\u001b[0m\u001b[1;33m,\u001b[0m \u001b[0mPool\u001b[0m\u001b[1;33m,\u001b[0m \u001b[0mCatBoost\u001b[0m\u001b[1;33m,\u001b[0m \u001b[0mCatBoostClassifier\u001b[0m\u001b[1;33m,\u001b[0m \u001b[0mCatBoostRegressor\u001b[0m\u001b[1;33m,\u001b[0m \u001b[0mCatBoostError\u001b[0m\u001b[1;33m,\u001b[0m \u001b[0mcv\u001b[0m\u001b[1;33m,\u001b[0m \u001b[0mtrain\u001b[0m\u001b[1;33m,\u001b[0m \u001b[0msum_models\u001b[0m  \u001b[1;31m# noqa\u001b[0m\u001b[1;33m\u001b[0m\u001b[1;33m\u001b[0m\u001b[0m\n\u001b[0m\u001b[0;32m      2\u001b[0m \u001b[1;32mfrom\u001b[0m \u001b[1;33m.\u001b[0m\u001b[0mversion\u001b[0m \u001b[1;32mimport\u001b[0m \u001b[0mVERSION\u001b[0m \u001b[1;32mas\u001b[0m \u001b[0m__version__\u001b[0m  \u001b[1;31m# noqa\u001b[0m\u001b[1;33m\u001b[0m\u001b[1;33m\u001b[0m\u001b[0m\n\u001b[0;32m      3\u001b[0m \u001b[0m__all__\u001b[0m \u001b[1;33m=\u001b[0m \u001b[1;33m[\u001b[0m\u001b[1;34m'FeaturesData'\u001b[0m\u001b[1;33m,\u001b[0m \u001b[1;34m'EFstrType'\u001b[0m\u001b[1;33m,\u001b[0m \u001b[1;34m'Pool'\u001b[0m\u001b[1;33m,\u001b[0m \u001b[1;34m'CatBoost'\u001b[0m\u001b[1;33m,\u001b[0m \u001b[1;34m'CatBoostClassifier'\u001b[0m\u001b[1;33m,\u001b[0m \u001b[1;34m'CatBoostRegressor'\u001b[0m\u001b[1;33m,\u001b[0m \u001b[1;34m'CatBoostError'\u001b[0m\u001b[1;33m,\u001b[0m \u001b[1;34m'CatboostError'\u001b[0m\u001b[1;33m,\u001b[0m \u001b[1;34m'cv'\u001b[0m\u001b[1;33m,\u001b[0m \u001b[1;34m'train'\u001b[0m\u001b[1;33m,\u001b[0m \u001b[1;34m'sum_models'\u001b[0m\u001b[1;33m]\u001b[0m\u001b[1;33m\u001b[0m\u001b[1;33m\u001b[0m\u001b[0m\n\u001b[0;32m      4\u001b[0m \u001b[1;33m\u001b[0m\u001b[0m\n\u001b[0;32m      5\u001b[0m \u001b[1;31m# API compatibility alias.\u001b[0m\u001b[1;33m\u001b[0m\u001b[1;33m\u001b[0m\u001b[1;33m\u001b[0m\u001b[0m\n",
      "\u001b[1;32m~\\Anaconda3\\lib\\site-packages\\catboost\\core.py\u001b[0m in \u001b[0;36m<module>\u001b[1;34m\u001b[0m\n\u001b[0;32m     58\u001b[0m \u001b[1;33m\u001b[0m\u001b[0m\n\u001b[0;32m     59\u001b[0m \u001b[1;33m\u001b[0m\u001b[0m\n\u001b[1;32m---> 60\u001b[1;33m \u001b[0m_catboost\u001b[0m \u001b[1;33m=\u001b[0m \u001b[0mget_catboost_bin_module\u001b[0m\u001b[1;33m(\u001b[0m\u001b[1;33m)\u001b[0m\u001b[1;33m\u001b[0m\u001b[1;33m\u001b[0m\u001b[0m\n\u001b[0m\u001b[0;32m     61\u001b[0m \u001b[0m_PoolBase\u001b[0m \u001b[1;33m=\u001b[0m \u001b[0m_catboost\u001b[0m\u001b[1;33m.\u001b[0m\u001b[0m_PoolBase\u001b[0m\u001b[1;33m\u001b[0m\u001b[1;33m\u001b[0m\u001b[0m\n\u001b[0;32m     62\u001b[0m \u001b[0m_CatBoost\u001b[0m \u001b[1;33m=\u001b[0m \u001b[0m_catboost\u001b[0m\u001b[1;33m.\u001b[0m\u001b[0m_CatBoost\u001b[0m\u001b[1;33m\u001b[0m\u001b[1;33m\u001b[0m\u001b[0m\n",
      "\u001b[1;32m~\\Anaconda3\\lib\\site-packages\\catboost\\core.py\u001b[0m in \u001b[0;36mget_catboost_bin_module\u001b[1;34m()\u001b[0m\n\u001b[0;32m     49\u001b[0m     \u001b[1;32mfor\u001b[0m \u001b[0mso_path\u001b[0m \u001b[1;32min\u001b[0m \u001b[0mso_paths\u001b[0m\u001b[1;33m:\u001b[0m\u001b[1;33m\u001b[0m\u001b[1;33m\u001b[0m\u001b[0m\n\u001b[0;32m     50\u001b[0m         \u001b[1;32mtry\u001b[0m\u001b[1;33m:\u001b[0m\u001b[1;33m\u001b[0m\u001b[1;33m\u001b[0m\u001b[0m\n\u001b[1;32m---> 51\u001b[1;33m             \u001b[0mloaded_catboost\u001b[0m \u001b[1;33m=\u001b[0m \u001b[0mimp\u001b[0m\u001b[1;33m.\u001b[0m\u001b[0mload_dynamic\u001b[0m\u001b[1;33m(\u001b[0m\u001b[1;34m'_catboost'\u001b[0m\u001b[1;33m,\u001b[0m \u001b[0mso_path\u001b[0m\u001b[1;33m)\u001b[0m\u001b[1;33m\u001b[0m\u001b[1;33m\u001b[0m\u001b[0m\n\u001b[0m\u001b[0;32m     52\u001b[0m             \u001b[0msys\u001b[0m\u001b[1;33m.\u001b[0m\u001b[0mmodules\u001b[0m\u001b[1;33m[\u001b[0m\u001b[1;34m'catboost._catboost'\u001b[0m\u001b[1;33m]\u001b[0m \u001b[1;33m=\u001b[0m \u001b[0mloaded_catboost\u001b[0m\u001b[1;33m\u001b[0m\u001b[1;33m\u001b[0m\u001b[0m\n\u001b[0;32m     53\u001b[0m             \u001b[1;32mreturn\u001b[0m \u001b[0mloaded_catboost\u001b[0m\u001b[1;33m\u001b[0m\u001b[1;33m\u001b[0m\u001b[0m\n",
      "\u001b[1;32m~\\Anaconda3\\lib\\imp.py\u001b[0m in \u001b[0;36mload_dynamic\u001b[1;34m(name, path, file)\u001b[0m\n\u001b[0;32m    340\u001b[0m         spec = importlib.machinery.ModuleSpec(\n\u001b[0;32m    341\u001b[0m             name=name, loader=loader, origin=path)\n\u001b[1;32m--> 342\u001b[1;33m         \u001b[1;32mreturn\u001b[0m \u001b[0m_load\u001b[0m\u001b[1;33m(\u001b[0m\u001b[0mspec\u001b[0m\u001b[1;33m)\u001b[0m\u001b[1;33m\u001b[0m\u001b[1;33m\u001b[0m\u001b[0m\n\u001b[0m\u001b[0;32m    343\u001b[0m \u001b[1;33m\u001b[0m\u001b[0m\n\u001b[0;32m    344\u001b[0m \u001b[1;32melse\u001b[0m\u001b[1;33m:\u001b[0m\u001b[1;33m\u001b[0m\u001b[1;33m\u001b[0m\u001b[0m\n",
      "\u001b[1;32m_catboost.pyx\u001b[0m in \u001b[0;36minit _catboost\u001b[1;34m()\u001b[0m\n",
      "\u001b[1;31mAttributeError\u001b[0m: type object '_catboost._FloatArrayWrapper' has no attribute '__reduce_cython__'"
     ]
    }
   ],
   "source": [
    "from catboost import CatBoostClassifier"
   ]
  },
  {
   "cell_type": "code",
   "execution_count": 26,
   "metadata": {},
   "outputs": [],
   "source": [
    "xgb_clf = xgb.XGBClassifier(tree_method = \"exact\", predictor = \"cpu_predictor\", verbosity = True,\n",
    "                            objective=\"multi:softmax\")"
   ]
  },
  {
   "cell_type": "code",
   "execution_count": 24,
   "metadata": {},
   "outputs": [],
   "source": [
    "import xgboost as xgb"
   ]
  },
  {
   "cell_type": "code",
   "execution_count": 25,
   "metadata": {},
   "outputs": [],
   "source": [
    "from xgboost import XGBClassifier\n",
    "\n",
    "xgc = XGBClassifier(base_score=0.5, booster='gbtree', colsample_bylevel=1,\n",
    "                    colsample_bytree=1, gamma=0, learning_rate=0.3, max_delta_step=0,\n",
    "                    max_depth = 7, min_child_weight=1, missing=None, n_estimators=100,\n",
    "                    n_jobs=1, nthread=None, objective='binary:logistic', random_state=0,\n",
    "                    reg_alpha=0, reg_lambda=1, scale_pos_weight=1, seed=None,\n",
    "                    silent=True, subsample=1)\n"
   ]
  },
  {
   "cell_type": "code",
   "execution_count": 37,
   "metadata": {},
   "outputs": [
    {
     "name": "stdout",
     "output_type": "stream",
     "text": [
      "0.5156576200417536\n"
     ]
    }
   ],
   "source": [
    "\n",
    "\n",
    "xgc.fit(X_train, Y_train)\n",
    "y_pred = xgc.predict(X_test)\n",
    "score = f1_score(Y_test, y_pred)\n",
    "print(score)"
   ]
  },
  {
   "cell_type": "markdown",
   "metadata": {},
   "source": [
    "# since the model above inproved after we droped some columns of low feature importance, lets try dropping others with very similarly low feature importance."
   ]
  },
  {
   "cell_type": "code",
   "execution_count": 15,
   "metadata": {},
   "outputs": [],
   "source": [
    "df_imp = df.copy()"
   ]
  },
  {
   "cell_type": "code",
   "execution_count": 19,
   "metadata": {
    "collapsed": true
   },
   "outputs": [
    {
     "ename": "KeyError",
     "evalue": "'Channel_of_Recruitment_Direct Internal process'",
     "output_type": "error",
     "traceback": [
      "\u001b[1;31m---------------------------------------------------------------------------\u001b[0m",
      "\u001b[1;31mKeyError\u001b[0m                                  Traceback (most recent call last)",
      "\u001b[1;32m~\\Anaconda3\\lib\\site-packages\\pandas\\core\\indexes\\base.py\u001b[0m in \u001b[0;36mget_loc\u001b[1;34m(self, key, method, tolerance)\u001b[0m\n\u001b[0;32m   3077\u001b[0m             \u001b[1;32mtry\u001b[0m\u001b[1;33m:\u001b[0m\u001b[1;33m\u001b[0m\u001b[1;33m\u001b[0m\u001b[0m\n\u001b[1;32m-> 3078\u001b[1;33m                 \u001b[1;32mreturn\u001b[0m \u001b[0mself\u001b[0m\u001b[1;33m.\u001b[0m\u001b[0m_engine\u001b[0m\u001b[1;33m.\u001b[0m\u001b[0mget_loc\u001b[0m\u001b[1;33m(\u001b[0m\u001b[0mkey\u001b[0m\u001b[1;33m)\u001b[0m\u001b[1;33m\u001b[0m\u001b[1;33m\u001b[0m\u001b[0m\n\u001b[0m\u001b[0;32m   3079\u001b[0m             \u001b[1;32mexcept\u001b[0m \u001b[0mKeyError\u001b[0m\u001b[1;33m:\u001b[0m\u001b[1;33m\u001b[0m\u001b[1;33m\u001b[0m\u001b[0m\n",
      "\u001b[1;32mpandas\\_libs\\index.pyx\u001b[0m in \u001b[0;36mpandas._libs.index.IndexEngine.get_loc\u001b[1;34m()\u001b[0m\n",
      "\u001b[1;32mpandas\\_libs\\index.pyx\u001b[0m in \u001b[0;36mpandas._libs.index.IndexEngine.get_loc\u001b[1;34m()\u001b[0m\n",
      "\u001b[1;32mpandas\\_libs\\hashtable_class_helper.pxi\u001b[0m in \u001b[0;36mpandas._libs.hashtable.PyObjectHashTable.get_item\u001b[1;34m()\u001b[0m\n",
      "\u001b[1;32mpandas\\_libs\\hashtable_class_helper.pxi\u001b[0m in \u001b[0;36mpandas._libs.hashtable.PyObjectHashTable.get_item\u001b[1;34m()\u001b[0m\n",
      "\u001b[1;31mKeyError\u001b[0m: 'Channel_of_Recruitment_Direct Internal process'",
      "\nDuring handling of the above exception, another exception occurred:\n",
      "\u001b[1;31mKeyError\u001b[0m                                  Traceback (most recent call last)",
      "\u001b[1;32m<ipython-input-19-2aff9ac72b3d>\u001b[0m in \u001b[0;36m<module>\u001b[1;34m\u001b[0m\n\u001b[1;32m----> 1\u001b[1;33m \u001b[1;32mdel\u001b[0m \u001b[0mdf_imp\u001b[0m\u001b[1;33m[\u001b[0m\u001b[1;34m'Channel_of_Recruitment_Direct Internal process'\u001b[0m\u001b[1;33m]\u001b[0m\u001b[1;33m\u001b[0m\u001b[1;33m\u001b[0m\u001b[0m\n\u001b[0m\u001b[0;32m      2\u001b[0m \u001b[1;32mdel\u001b[0m \u001b[0mdf_imp\u001b[0m\u001b[1;33m[\u001b[0m\u001b[1;34m'Year_of_birth'\u001b[0m\u001b[1;33m]\u001b[0m\u001b[1;33m\u001b[0m\u001b[1;33m\u001b[0m\u001b[0m\n\u001b[0;32m      3\u001b[0m \u001b[1;32mdel\u001b[0m \u001b[0mdf_imp\u001b[0m\u001b[1;33m[\u001b[0m\u001b[1;34m'Foreign_schooled_No'\u001b[0m\u001b[1;33m]\u001b[0m\u001b[1;33m\u001b[0m\u001b[1;33m\u001b[0m\u001b[0m\n\u001b[0;32m      4\u001b[0m \u001b[1;32mdel\u001b[0m \u001b[0mdf_imp\u001b[0m\u001b[1;33m[\u001b[0m\u001b[1;34m'No_of_previous_employers_More than 5'\u001b[0m\u001b[1;33m]\u001b[0m\u001b[1;33m\u001b[0m\u001b[1;33m\u001b[0m\u001b[0m\n\u001b[0;32m      5\u001b[0m \u001b[1;32mdel\u001b[0m \u001b[0mdf_imp\u001b[0m\u001b[1;33m[\u001b[0m\u001b[1;34m'Previous_IntraDepartmental_Movement_No'\u001b[0m\u001b[1;33m]\u001b[0m\u001b[1;33m\u001b[0m\u001b[1;33m\u001b[0m\u001b[0m\n",
      "\u001b[1;32m~\\Anaconda3\\lib\\site-packages\\pandas\\core\\generic.py\u001b[0m in \u001b[0;36m__delitem__\u001b[1;34m(self, key)\u001b[0m\n\u001b[0;32m   2741\u001b[0m             \u001b[1;31m# there was no match, this call should raise the appropriate\u001b[0m\u001b[1;33m\u001b[0m\u001b[1;33m\u001b[0m\u001b[1;33m\u001b[0m\u001b[0m\n\u001b[0;32m   2742\u001b[0m             \u001b[1;31m# exception:\u001b[0m\u001b[1;33m\u001b[0m\u001b[1;33m\u001b[0m\u001b[1;33m\u001b[0m\u001b[0m\n\u001b[1;32m-> 2743\u001b[1;33m             \u001b[0mself\u001b[0m\u001b[1;33m.\u001b[0m\u001b[0m_data\u001b[0m\u001b[1;33m.\u001b[0m\u001b[0mdelete\u001b[0m\u001b[1;33m(\u001b[0m\u001b[0mkey\u001b[0m\u001b[1;33m)\u001b[0m\u001b[1;33m\u001b[0m\u001b[1;33m\u001b[0m\u001b[0m\n\u001b[0m\u001b[0;32m   2744\u001b[0m \u001b[1;33m\u001b[0m\u001b[0m\n\u001b[0;32m   2745\u001b[0m         \u001b[1;31m# delete from the caches\u001b[0m\u001b[1;33m\u001b[0m\u001b[1;33m\u001b[0m\u001b[1;33m\u001b[0m\u001b[0m\n",
      "\u001b[1;32m~\\Anaconda3\\lib\\site-packages\\pandas\\core\\internals.py\u001b[0m in \u001b[0;36mdelete\u001b[1;34m(self, item)\u001b[0m\n\u001b[0;32m   4172\u001b[0m         \u001b[0mDelete\u001b[0m \u001b[0mselected\u001b[0m \u001b[0mitem\u001b[0m \u001b[1;33m(\u001b[0m\u001b[0mitems\u001b[0m \u001b[1;32mif\u001b[0m \u001b[0mnon\u001b[0m\u001b[1;33m-\u001b[0m\u001b[0munique\u001b[0m\u001b[1;33m)\u001b[0m \u001b[1;32min\u001b[0m\u001b[1;33m-\u001b[0m\u001b[0mplace\u001b[0m\u001b[1;33m.\u001b[0m\u001b[1;33m\u001b[0m\u001b[1;33m\u001b[0m\u001b[0m\n\u001b[0;32m   4173\u001b[0m         \"\"\"\n\u001b[1;32m-> 4174\u001b[1;33m         \u001b[0mindexer\u001b[0m \u001b[1;33m=\u001b[0m \u001b[0mself\u001b[0m\u001b[1;33m.\u001b[0m\u001b[0mitems\u001b[0m\u001b[1;33m.\u001b[0m\u001b[0mget_loc\u001b[0m\u001b[1;33m(\u001b[0m\u001b[0mitem\u001b[0m\u001b[1;33m)\u001b[0m\u001b[1;33m\u001b[0m\u001b[1;33m\u001b[0m\u001b[0m\n\u001b[0m\u001b[0;32m   4175\u001b[0m \u001b[1;33m\u001b[0m\u001b[0m\n\u001b[0;32m   4176\u001b[0m         \u001b[0mis_deleted\u001b[0m \u001b[1;33m=\u001b[0m \u001b[0mnp\u001b[0m\u001b[1;33m.\u001b[0m\u001b[0mzeros\u001b[0m\u001b[1;33m(\u001b[0m\u001b[0mself\u001b[0m\u001b[1;33m.\u001b[0m\u001b[0mshape\u001b[0m\u001b[1;33m[\u001b[0m\u001b[1;36m0\u001b[0m\u001b[1;33m]\u001b[0m\u001b[1;33m,\u001b[0m \u001b[0mdtype\u001b[0m\u001b[1;33m=\u001b[0m\u001b[0mnp\u001b[0m\u001b[1;33m.\u001b[0m\u001b[0mbool_\u001b[0m\u001b[1;33m)\u001b[0m\u001b[1;33m\u001b[0m\u001b[1;33m\u001b[0m\u001b[0m\n",
      "\u001b[1;32m~\\Anaconda3\\lib\\site-packages\\pandas\\core\\indexes\\base.py\u001b[0m in \u001b[0;36mget_loc\u001b[1;34m(self, key, method, tolerance)\u001b[0m\n\u001b[0;32m   3078\u001b[0m                 \u001b[1;32mreturn\u001b[0m \u001b[0mself\u001b[0m\u001b[1;33m.\u001b[0m\u001b[0m_engine\u001b[0m\u001b[1;33m.\u001b[0m\u001b[0mget_loc\u001b[0m\u001b[1;33m(\u001b[0m\u001b[0mkey\u001b[0m\u001b[1;33m)\u001b[0m\u001b[1;33m\u001b[0m\u001b[1;33m\u001b[0m\u001b[0m\n\u001b[0;32m   3079\u001b[0m             \u001b[1;32mexcept\u001b[0m \u001b[0mKeyError\u001b[0m\u001b[1;33m:\u001b[0m\u001b[1;33m\u001b[0m\u001b[1;33m\u001b[0m\u001b[0m\n\u001b[1;32m-> 3080\u001b[1;33m                 \u001b[1;32mreturn\u001b[0m \u001b[0mself\u001b[0m\u001b[1;33m.\u001b[0m\u001b[0m_engine\u001b[0m\u001b[1;33m.\u001b[0m\u001b[0mget_loc\u001b[0m\u001b[1;33m(\u001b[0m\u001b[0mself\u001b[0m\u001b[1;33m.\u001b[0m\u001b[0m_maybe_cast_indexer\u001b[0m\u001b[1;33m(\u001b[0m\u001b[0mkey\u001b[0m\u001b[1;33m)\u001b[0m\u001b[1;33m)\u001b[0m\u001b[1;33m\u001b[0m\u001b[1;33m\u001b[0m\u001b[0m\n\u001b[0m\u001b[0;32m   3081\u001b[0m \u001b[1;33m\u001b[0m\u001b[0m\n\u001b[0;32m   3082\u001b[0m         \u001b[0mindexer\u001b[0m \u001b[1;33m=\u001b[0m \u001b[0mself\u001b[0m\u001b[1;33m.\u001b[0m\u001b[0mget_indexer\u001b[0m\u001b[1;33m(\u001b[0m\u001b[1;33m[\u001b[0m\u001b[0mkey\u001b[0m\u001b[1;33m]\u001b[0m\u001b[1;33m,\u001b[0m \u001b[0mmethod\u001b[0m\u001b[1;33m=\u001b[0m\u001b[0mmethod\u001b[0m\u001b[1;33m,\u001b[0m \u001b[0mtolerance\u001b[0m\u001b[1;33m=\u001b[0m\u001b[0mtolerance\u001b[0m\u001b[1;33m)\u001b[0m\u001b[1;33m\u001b[0m\u001b[1;33m\u001b[0m\u001b[0m\n",
      "\u001b[1;32mpandas\\_libs\\index.pyx\u001b[0m in \u001b[0;36mpandas._libs.index.IndexEngine.get_loc\u001b[1;34m()\u001b[0m\n",
      "\u001b[1;32mpandas\\_libs\\index.pyx\u001b[0m in \u001b[0;36mpandas._libs.index.IndexEngine.get_loc\u001b[1;34m()\u001b[0m\n",
      "\u001b[1;32mpandas\\_libs\\hashtable_class_helper.pxi\u001b[0m in \u001b[0;36mpandas._libs.hashtable.PyObjectHashTable.get_item\u001b[1;34m()\u001b[0m\n",
      "\u001b[1;32mpandas\\_libs\\hashtable_class_helper.pxi\u001b[0m in \u001b[0;36mpandas._libs.hashtable.PyObjectHashTable.get_item\u001b[1;34m()\u001b[0m\n",
      "\u001b[1;31mKeyError\u001b[0m: 'Channel_of_Recruitment_Direct Internal process'"
     ]
    }
   ],
   "source": [
    "del df_imp['Past_Disciplinary_Action_No']\n",
    "del df_imp['No_of_previous_employers_3'] \n",
    "del df_imp['Channel_of_Recruitment_Agency and others'] \n",
    "del df_imp['Foreign_schooled_Yes'] \n",
    "del df_imp['Year_of_recruitment'] \n",
    "del df_imp['Marital_Status_Married'] \n",
    "del df_imp['Qualification_Non-University Education'] \n",
    "del df_imp['Channel_of_Recruitment_Direct Internal process']\n",
    "del df_imp['Year_of_birth']   \n",
    "del df_imp['Foreign_schooled_No']     \n",
    "del df_imp['No_of_previous_employers_More than 5']     \n",
    "del df_imp['Previous_IntraDepartmental_Movement_No']     \n",
    "del df_imp['No_of_previous_employers_1']     \n",
    "del df_imp['Division_Business Finance Operations']\n"
   ]
  },
  {
   "cell_type": "markdown",
   "metadata": {},
   "source": [
    "# lets preprocess our test data"
   ]
  },
  {
   "cell_type": "code",
   "execution_count": 64,
   "metadata": {},
   "outputs": [],
   "source": [
    "del test['Channel_of_Recruitment_Direct Internal process']\n",
    "del test['Year_of_birth']   \n",
    "del test['Foreign_schooled_No']     \n",
    "del test['No_of_previous_employers_More than 5']     \n",
    "del test['Previous_IntraDepartmental_Movement_No']     \n",
    "del test['No_of_previous_employers_1']     \n",
    "del test['Division_Business Finance Operations']\n"
   ]
  },
  {
   "cell_type": "code",
   "execution_count": null,
   "metadata": {},
   "outputs": [],
   "source": []
  },
  {
   "cell_type": "code",
   "execution_count": null,
   "metadata": {},
   "outputs": [],
   "source": []
  },
  {
   "cell_type": "code",
   "execution_count": 28,
   "metadata": {},
   "outputs": [],
   "source": [
    "from sklearn.model_selection import train_test_split\n",
    "from sklearn.metrics import f1_score"
   ]
  },
  {
   "cell_type": "code",
   "execution_count": 22,
   "metadata": {},
   "outputs": [
    {
     "name": "stderr",
     "output_type": "stream",
     "text": [
      "C:\\Users\\maximus\\Anaconda3\\lib\\site-packages\\sklearn\\model_selection\\_split.py:2179: FutureWarning: From version 0.21, test_size will always complement train_size unless both are specified.\n",
      "  FutureWarning)\n"
     ]
    }
   ],
   "source": [
    "x1_importance = df_imp.drop('Promoted_or_Not', axis= 1)\n",
    "y1_importance = df_imp['Promoted_or_Not']\n",
    "X1_train, X1_test, Y1_train, Y1_test = train_test_split(x1_importance, y1_importance, train_size = 0.80)"
   ]
  },
  {
   "cell_type": "code",
   "execution_count": 29,
   "metadata": {},
   "outputs": [
    {
     "name": "stdout",
     "output_type": "stream",
     "text": [
      "0.49678800856531047\n"
     ]
    }
   ],
   "source": [
    "xgc.fit(X1_train, Y1_train)\n",
    "y_pred = xgc.predict(X1_test)\n",
    "score = f1_score(Y1_test, y_pred)\n",
    "print(score)"
   ]
  },
  {
   "cell_type": "code",
   "execution_count": 70,
   "metadata": {},
   "outputs": [],
   "source": [
    "y_pred = xgc.predict(test).astype(int)\n",
    "sample.Promoted_or_Not = y_pred\n",
    "sample.to_csv('intercampus14.csv',index =False)"
   ]
  },
  {
   "cell_type": "code",
   "execution_count": null,
   "metadata": {},
   "outputs": [],
   "source": []
  },
  {
   "cell_type": "code",
   "execution_count": null,
   "metadata": {},
   "outputs": [],
   "source": []
  },
  {
   "cell_type": "code",
   "execution_count": 36,
   "metadata": {},
   "outputs": [],
   "source": [
    "xgb1 = XGBClassifier(learning_rate =0.1, n_estimators=1000, max_depth=5, min_child_weight = 1, gamma=0, subsample=0.8, colsample_bytree=0.8, objective='binary:logistic', nthread=4, scale_pos_weight=1, seed=27)"
   ]
  },
  {
   "cell_type": "code",
   "execution_count": 37,
   "metadata": {},
   "outputs": [
    {
     "name": "stdout",
     "output_type": "stream",
     "text": [
      "0.4935897435897435\n"
     ]
    }
   ],
   "source": [
    "xgb1.fit(X1_train, Y1_train)\n",
    "y_pred1 = xgb1.predict(X1_test)\n",
    "score1 = f1_score(Y1_test, y_pred1)\n",
    "print(score1)"
   ]
  },
  {
   "cell_type": "code",
   "execution_count": 73,
   "metadata": {},
   "outputs": [],
   "source": [
    "y_pred = xgb1.predict(test).astype(int)\n",
    "sample.Promoted_or_Not = y_pred\n",
    "sample.to_csv('intercampus15.csv',index =False)"
   ]
  },
  {
   "cell_type": "code",
   "execution_count": null,
   "metadata": {},
   "outputs": [],
   "source": []
  },
  {
   "cell_type": "code",
   "execution_count": 80,
   "metadata": {},
   "outputs": [
    {
     "name": "stdout",
     "output_type": "stream",
     "text": [
      "0.4952380952380953\n"
     ]
    }
   ],
   "source": [
    "clf_try.fit(X1_train, Y1_train)\n",
    "y_pred1 = clf_try.predict(X1_test)\n",
    "score1 = f1_score(Y1_test, y_pred1)\n",
    "print(score1)"
   ]
  },
  {
   "cell_type": "code",
   "execution_count": 81,
   "metadata": {},
   "outputs": [],
   "source": [
    "y_pred = clf_try.predict(test).astype(int)\n",
    "sample.Promoted_or_Not = y_pred\n",
    "sample.to_csv('intercampus17.csv',index =False)"
   ]
  },
  {
   "cell_type": "code",
   "execution_count": 84,
   "metadata": {},
   "outputs": [],
   "source": [
    "clfr = xgb.XGBClassifier(learning_rate =0.1, n_estimators=10000, max_depth=5, min_child_weight = 1, gamma=0, subsample=0.8, colsample_bytree=0.8, objective='binary:logistic', nthread=4, scale_pos_weight=1, seed=27)"
   ]
  },
  {
   "cell_type": "code",
   "execution_count": 85,
   "metadata": {},
   "outputs": [
    {
     "name": "stdout",
     "output_type": "stream",
     "text": [
      "0.4636871508379888\n"
     ]
    }
   ],
   "source": [
    "clfr.fit(X1_train, Y1_train)\n",
    "y_pred1 = clfr.predict(X1_test)\n",
    "score1 = f1_score(Y1_test, y_pred1)\n",
    "print(score1)"
   ]
  },
  {
   "cell_type": "code",
   "execution_count": 86,
   "metadata": {},
   "outputs": [],
   "source": [
    "y_pred = clfr.predict(test).astype(int)\n",
    "sample.Promoted_or_Not = y_pred\n",
    "sample.to_csv('intercampus18.csv',index =False)"
   ]
  },
  {
   "cell_type": "code",
   "execution_count": null,
   "metadata": {},
   "outputs": [],
   "source": []
  },
  {
   "cell_type": "code",
   "execution_count": null,
   "metadata": {},
   "outputs": [],
   "source": []
  },
  {
   "cell_type": "markdown",
   "metadata": {},
   "source": [
    "# lets try using lightgbm"
   ]
  },
  {
   "cell_type": "code",
   "execution_count": 40,
   "metadata": {},
   "outputs": [],
   "source": [
    "import lightgbm as lgbm"
   ]
  },
  {
   "cell_type": "code",
   "execution_count": 75,
   "metadata": {},
   "outputs": [],
   "source": [
    "train_data = lgbm.Dataset(X1_train, Y1_train)\n",
    "test_data = lgbm.Dataset(X1_test, Y1_test)\n"
   ]
  },
  {
   "cell_type": "code",
   "execution_count": 77,
   "metadata": {},
   "outputs": [
    {
     "name": "stdout",
     "output_type": "stream",
     "text": [
      "[1]\tvalid_0's auc: 0.698866\n",
      "Training until validation scores don't improve for 100 rounds\n",
      "[2]\tvalid_0's auc: 0.841793\n",
      "[3]\tvalid_0's auc: 0.847101\n",
      "[4]\tvalid_0's auc: 0.840902\n",
      "[5]\tvalid_0's auc: 0.838216\n",
      "[6]\tvalid_0's auc: 0.838663\n",
      "[7]\tvalid_0's auc: 0.844126\n",
      "[8]\tvalid_0's auc: 0.84786\n",
      "[9]\tvalid_0's auc: 0.857372\n",
      "[10]\tvalid_0's auc: 0.857296\n",
      "[11]\tvalid_0's auc: 0.855317\n",
      "[12]\tvalid_0's auc: 0.858812\n",
      "[13]\tvalid_0's auc: 0.857242\n",
      "[14]\tvalid_0's auc: 0.855929\n",
      "[15]\tvalid_0's auc: 0.859438\n",
      "[16]\tvalid_0's auc: 0.861326\n",
      "[17]\tvalid_0's auc: 0.862254\n",
      "[18]\tvalid_0's auc: 0.861728\n",
      "[19]\tvalid_0's auc: 0.864226\n",
      "[20]\tvalid_0's auc: 0.86737\n",
      "[21]\tvalid_0's auc: 0.866641\n",
      "[22]\tvalid_0's auc: 0.868079\n",
      "[23]\tvalid_0's auc: 0.867517\n",
      "[24]\tvalid_0's auc: 0.868517\n",
      "[25]\tvalid_0's auc: 0.86774\n",
      "[26]\tvalid_0's auc: 0.866547\n",
      "[27]\tvalid_0's auc: 0.868135\n",
      "[28]\tvalid_0's auc: 0.870707\n",
      "[29]\tvalid_0's auc: 0.870667\n",
      "[30]\tvalid_0's auc: 0.870687\n",
      "[31]\tvalid_0's auc: 0.873492\n",
      "[32]\tvalid_0's auc: 0.872799\n",
      "[33]\tvalid_0's auc: 0.874683\n",
      "[34]\tvalid_0's auc: 0.87568\n",
      "[35]\tvalid_0's auc: 0.876991\n",
      "[36]\tvalid_0's auc: 0.876916\n",
      "[37]\tvalid_0's auc: 0.876173\n",
      "[38]\tvalid_0's auc: 0.876145\n",
      "[39]\tvalid_0's auc: 0.875574\n",
      "[40]\tvalid_0's auc: 0.874955\n",
      "[41]\tvalid_0's auc: 0.87563\n",
      "[42]\tvalid_0's auc: 0.875724\n",
      "[43]\tvalid_0's auc: 0.875493\n",
      "[44]\tvalid_0's auc: 0.877134\n",
      "[45]\tvalid_0's auc: 0.878957\n",
      "[46]\tvalid_0's auc: 0.87851\n",
      "[47]\tvalid_0's auc: 0.878121\n",
      "[48]\tvalid_0's auc: 0.879304\n",
      "[49]\tvalid_0's auc: 0.879066\n",
      "[50]\tvalid_0's auc: 0.879163\n",
      "[51]\tvalid_0's auc: 0.879329\n",
      "[52]\tvalid_0's auc: 0.879162\n",
      "[53]\tvalid_0's auc: 0.880283\n",
      "[54]\tvalid_0's auc: 0.880173\n",
      "[55]\tvalid_0's auc: 0.879783\n",
      "[56]\tvalid_0's auc: 0.879444\n",
      "[57]\tvalid_0's auc: 0.88094\n",
      "[58]\tvalid_0's auc: 0.880992\n",
      "[59]\tvalid_0's auc: 0.880832\n",
      "[60]\tvalid_0's auc: 0.881881\n",
      "[61]\tvalid_0's auc: 0.88276\n",
      "[62]\tvalid_0's auc: 0.883674\n",
      "[63]\tvalid_0's auc: 0.883667\n",
      "[64]\tvalid_0's auc: 0.883503\n",
      "[65]\tvalid_0's auc: 0.883175\n",
      "[66]\tvalid_0's auc: 0.882907\n",
      "[67]\tvalid_0's auc: 0.884133\n",
      "[68]\tvalid_0's auc: 0.884924\n",
      "[69]\tvalid_0's auc: 0.88456\n",
      "[70]\tvalid_0's auc: 0.885194\n",
      "[71]\tvalid_0's auc: 0.884958\n",
      "[72]\tvalid_0's auc: 0.885829\n",
      "[73]\tvalid_0's auc: 0.886643\n",
      "[74]\tvalid_0's auc: 0.88634\n",
      "[75]\tvalid_0's auc: 0.886274\n",
      "[76]\tvalid_0's auc: 0.886412\n",
      "[77]\tvalid_0's auc: 0.886854\n",
      "[78]\tvalid_0's auc: 0.88669\n",
      "[79]\tvalid_0's auc: 0.886649\n",
      "[80]\tvalid_0's auc: 0.88695\n",
      "[81]\tvalid_0's auc: 0.887456\n",
      "[82]\tvalid_0's auc: 0.88756\n",
      "[83]\tvalid_0's auc: 0.887663\n",
      "[84]\tvalid_0's auc: 0.888107\n",
      "[85]\tvalid_0's auc: 0.888152\n",
      "[86]\tvalid_0's auc: 0.888031\n",
      "[87]\tvalid_0's auc: 0.887804\n",
      "[88]\tvalid_0's auc: 0.887722\n",
      "[89]\tvalid_0's auc: 0.887941\n",
      "[90]\tvalid_0's auc: 0.888456\n",
      "[91]\tvalid_0's auc: 0.888995\n",
      "[92]\tvalid_0's auc: 0.88902\n",
      "[93]\tvalid_0's auc: 0.889193\n",
      "[94]\tvalid_0's auc: 0.889071\n",
      "[95]\tvalid_0's auc: 0.889085\n",
      "[96]\tvalid_0's auc: 0.889035\n",
      "[97]\tvalid_0's auc: 0.88914\n",
      "[98]\tvalid_0's auc: 0.889103\n",
      "[99]\tvalid_0's auc: 0.889336\n",
      "[100]\tvalid_0's auc: 0.889334\n",
      "[101]\tvalid_0's auc: 0.889364\n",
      "[102]\tvalid_0's auc: 0.889741\n",
      "[103]\tvalid_0's auc: 0.889943\n",
      "[104]\tvalid_0's auc: 0.889982\n",
      "[105]\tvalid_0's auc: 0.889987\n",
      "[106]\tvalid_0's auc: 0.88998\n",
      "[107]\tvalid_0's auc: 0.889981\n",
      "[108]\tvalid_0's auc: 0.890087\n",
      "[109]\tvalid_0's auc: 0.890364\n",
      "[110]\tvalid_0's auc: 0.890157\n",
      "[111]\tvalid_0's auc: 0.890218\n",
      "[112]\tvalid_0's auc: 0.890439\n",
      "[113]\tvalid_0's auc: 0.890539\n",
      "[114]\tvalid_0's auc: 0.890691\n",
      "[115]\tvalid_0's auc: 0.890846\n",
      "[116]\tvalid_0's auc: 0.890908\n",
      "[117]\tvalid_0's auc: 0.891025\n",
      "[118]\tvalid_0's auc: 0.891134\n",
      "[119]\tvalid_0's auc: 0.891073\n",
      "[120]\tvalid_0's auc: 0.891318\n",
      "[121]\tvalid_0's auc: 0.891168\n",
      "[122]\tvalid_0's auc: 0.891152\n",
      "[123]\tvalid_0's auc: 0.891347\n",
      "[124]\tvalid_0's auc: 0.891418\n",
      "[125]\tvalid_0's auc: 0.891509\n",
      "[126]\tvalid_0's auc: 0.891175\n",
      "[127]\tvalid_0's auc: 0.89133\n",
      "[128]\tvalid_0's auc: 0.89127\n",
      "[129]\tvalid_0's auc: 0.891223\n",
      "[130]\tvalid_0's auc: 0.891327\n",
      "[131]\tvalid_0's auc: 0.891322\n",
      "[132]\tvalid_0's auc: 0.891322\n",
      "[133]\tvalid_0's auc: 0.891463\n",
      "[134]\tvalid_0's auc: 0.89129\n",
      "[135]\tvalid_0's auc: 0.891233\n",
      "[136]\tvalid_0's auc: 0.89121\n",
      "[137]\tvalid_0's auc: 0.891492\n",
      "[138]\tvalid_0's auc: 0.891621\n",
      "[139]\tvalid_0's auc: 0.891744\n",
      "[140]\tvalid_0's auc: 0.891753\n",
      "[141]\tvalid_0's auc: 0.891565\n",
      "[142]\tvalid_0's auc: 0.89158\n",
      "[143]\tvalid_0's auc: 0.891792\n",
      "[144]\tvalid_0's auc: 0.891771\n",
      "[145]\tvalid_0's auc: 0.891897\n",
      "[146]\tvalid_0's auc: 0.891812\n",
      "[147]\tvalid_0's auc: 0.891839\n",
      "[148]\tvalid_0's auc: 0.89192\n",
      "[149]\tvalid_0's auc: 0.891867\n",
      "[150]\tvalid_0's auc: 0.891839\n",
      "[151]\tvalid_0's auc: 0.891854\n",
      "[152]\tvalid_0's auc: 0.891855\n",
      "[153]\tvalid_0's auc: 0.891924\n",
      "[154]\tvalid_0's auc: 0.891975\n",
      "[155]\tvalid_0's auc: 0.891886\n",
      "[156]\tvalid_0's auc: 0.89194\n",
      "[157]\tvalid_0's auc: 0.892048\n",
      "[158]\tvalid_0's auc: 0.892058\n",
      "[159]\tvalid_0's auc: 0.891836\n",
      "[160]\tvalid_0's auc: 0.891793\n",
      "[161]\tvalid_0's auc: 0.891829\n",
      "[162]\tvalid_0's auc: 0.891742\n",
      "[163]\tvalid_0's auc: 0.891653\n",
      "[164]\tvalid_0's auc: 0.89191\n",
      "[165]\tvalid_0's auc: 0.89191\n",
      "[166]\tvalid_0's auc: 0.891995\n",
      "[167]\tvalid_0's auc: 0.892089\n",
      "[168]\tvalid_0's auc: 0.892215\n",
      "[169]\tvalid_0's auc: 0.892257\n",
      "[170]\tvalid_0's auc: 0.892157\n",
      "[171]\tvalid_0's auc: 0.892104\n",
      "[172]\tvalid_0's auc: 0.892109\n",
      "[173]\tvalid_0's auc: 0.892101\n",
      "[174]\tvalid_0's auc: 0.891974\n",
      "[175]\tvalid_0's auc: 0.892088\n",
      "[176]\tvalid_0's auc: 0.892033\n",
      "[177]\tvalid_0's auc: 0.892068\n",
      "[178]\tvalid_0's auc: 0.892059\n",
      "[179]\tvalid_0's auc: 0.892172\n",
      "[180]\tvalid_0's auc: 0.89219\n",
      "[181]\tvalid_0's auc: 0.8922\n",
      "[182]\tvalid_0's auc: 0.892144\n",
      "[183]\tvalid_0's auc: 0.891993\n",
      "[184]\tvalid_0's auc: 0.891846\n",
      "[185]\tvalid_0's auc: 0.891862\n",
      "[186]\tvalid_0's auc: 0.891781\n",
      "[187]\tvalid_0's auc: 0.89181\n",
      "[188]\tvalid_0's auc: 0.891788\n",
      "[189]\tvalid_0's auc: 0.891803\n",
      "[190]\tvalid_0's auc: 0.891829\n",
      "[191]\tvalid_0's auc: 0.891639\n",
      "[192]\tvalid_0's auc: 0.891517\n",
      "[193]\tvalid_0's auc: 0.89147\n",
      "[194]\tvalid_0's auc: 0.891488\n",
      "[195]\tvalid_0's auc: 0.891468\n",
      "[196]\tvalid_0's auc: 0.891441\n",
      "[197]\tvalid_0's auc: 0.891267\n",
      "[198]\tvalid_0's auc: 0.891228\n",
      "[199]\tvalid_0's auc: 0.891085\n",
      "[200]\tvalid_0's auc: 0.890989\n",
      "[201]\tvalid_0's auc: 0.891063\n",
      "[202]\tvalid_0's auc: 0.890942\n",
      "[203]\tvalid_0's auc: 0.890944\n",
      "[204]\tvalid_0's auc: 0.890898\n",
      "[205]\tvalid_0's auc: 0.891008\n",
      "[206]\tvalid_0's auc: 0.891092\n",
      "[207]\tvalid_0's auc: 0.891093\n",
      "[208]\tvalid_0's auc: 0.890936\n",
      "[209]\tvalid_0's auc: 0.890714\n",
      "[210]\tvalid_0's auc: 0.890711\n",
      "[211]\tvalid_0's auc: 0.890632\n",
      "[212]\tvalid_0's auc: 0.890595\n",
      "[213]\tvalid_0's auc: 0.890601\n",
      "[214]\tvalid_0's auc: 0.890568\n",
      "[215]\tvalid_0's auc: 0.890413\n",
      "[216]\tvalid_0's auc: 0.890272\n",
      "[217]\tvalid_0's auc: 0.890249\n",
      "[218]\tvalid_0's auc: 0.890166\n",
      "[219]\tvalid_0's auc: 0.890236\n",
      "[220]\tvalid_0's auc: 0.890127\n",
      "[221]\tvalid_0's auc: 0.890126\n",
      "[222]\tvalid_0's auc: 0.890125\n",
      "[223]\tvalid_0's auc: 0.890151\n",
      "[224]\tvalid_0's auc: 0.890212\n",
      "[225]\tvalid_0's auc: 0.890237\n",
      "[226]\tvalid_0's auc: 0.890161\n",
      "[227]\tvalid_0's auc: 0.890205\n",
      "[228]\tvalid_0's auc: 0.890242\n",
      "[229]\tvalid_0's auc: 0.890286\n",
      "[230]\tvalid_0's auc: 0.890164\n",
      "[231]\tvalid_0's auc: 0.890102\n",
      "[232]\tvalid_0's auc: 0.890156\n",
      "[233]\tvalid_0's auc: 0.890222\n",
      "[234]\tvalid_0's auc: 0.89024\n",
      "[235]\tvalid_0's auc: 0.890141\n",
      "[236]\tvalid_0's auc: 0.890228\n",
      "[237]\tvalid_0's auc: 0.890082\n",
      "[238]\tvalid_0's auc: 0.890084\n",
      "[239]\tvalid_0's auc: 0.890149\n",
      "[240]\tvalid_0's auc: 0.890109\n",
      "[241]\tvalid_0's auc: 0.890077\n",
      "[242]\tvalid_0's auc: 0.89008\n",
      "[243]\tvalid_0's auc: 0.890127\n",
      "[244]\tvalid_0's auc: 0.890342\n",
      "[245]\tvalid_0's auc: 0.890243\n",
      "[246]\tvalid_0's auc: 0.890108\n",
      "[247]\tvalid_0's auc: 0.890063\n",
      "[248]\tvalid_0's auc: 0.88999\n",
      "[249]\tvalid_0's auc: 0.8901\n",
      "[250]\tvalid_0's auc: 0.890018\n",
      "[251]\tvalid_0's auc: 0.89003\n",
      "[252]\tvalid_0's auc: 0.889911\n",
      "[253]\tvalid_0's auc: 0.890065\n",
      "[254]\tvalid_0's auc: 0.890151\n",
      "[255]\tvalid_0's auc: 0.890072\n",
      "[256]\tvalid_0's auc: 0.890102\n",
      "[257]\tvalid_0's auc: 0.890018\n",
      "[258]\tvalid_0's auc: 0.88999\n",
      "[259]\tvalid_0's auc: 0.889818\n",
      "[260]\tvalid_0's auc: 0.889792\n",
      "[261]\tvalid_0's auc: 0.889927\n",
      "[262]\tvalid_0's auc: 0.889939\n",
      "[263]\tvalid_0's auc: 0.889921\n",
      "[264]\tvalid_0's auc: 0.889785\n",
      "[265]\tvalid_0's auc: 0.889776\n",
      "[266]\tvalid_0's auc: 0.889663\n",
      "[267]\tvalid_0's auc: 0.889582\n",
      "[268]\tvalid_0's auc: 0.889434\n",
      "[269]\tvalid_0's auc: 0.889499\n",
      "Early stopping, best iteration is:\n",
      "[169]\tvalid_0's auc: 0.892257\n"
     ]
    }
   ],
   "source": [
    "parameters = {\n",
    "    'application': 'binary',\n",
    "    'objective': 'binary',\n",
    "    'metric': 'auc',\n",
    "    'is_unbalance': 'true',\n",
    "    'boosting': 'gbdt',\n",
    "    'num_leaves': 31,\n",
    "    'feature_fraction': 0.5,\n",
    "    'bagging_fraction': 0.5,\n",
    "    'bagging_freq': 20,\n",
    "    'learning_rate': 0.05,\n",
    "    'verbose': 0\n",
    "}\n",
    "\n",
    "model = lgbm.train(parameters,\n",
    "                       train_data,\n",
    "                       valid_sets=test_data,\n",
    "                       num_boost_round=5000,\n",
    "                       early_stopping_rounds=100)"
   ]
  },
  {
   "cell_type": "code",
   "execution_count": 78,
   "metadata": {},
   "outputs": [],
   "source": [
    "y_pred = model.predict(test).astype(int)\n",
    "sample.Promoted_or_Not = y_pred\n",
    "sample.to_csv('intercampus16.csv',index =False)"
   ]
  },
  {
   "cell_type": "code",
   "execution_count": null,
   "metadata": {},
   "outputs": [],
   "source": []
  },
  {
   "cell_type": "code",
   "execution_count": 54,
   "metadata": {},
   "outputs": [],
   "source": [
    " def objective(params):\n",
    "    params = {\n",
    "        'num_leaves': int(params['num_leaves']),\n",
    "        'colsample_bytree': '{:.3f}'.format(params['colsample_bytree']),\n",
    "    }"
   ]
  },
  {
   "cell_type": "code",
   "execution_count": null,
   "metadata": {},
   "outputs": [],
   "source": []
  },
  {
   "cell_type": "code",
   "execution_count": 53,
   "metadata": {
    "collapsed": true
   },
   "outputs": [
    {
     "ename": "NameError",
     "evalue": "name 'params' is not defined",
     "output_type": "error",
     "traceback": [
      "\u001b[1;31m---------------------------------------------------------------------------\u001b[0m",
      "\u001b[1;31mNameError\u001b[0m                                 Traceback (most recent call last)",
      "\u001b[1;32m<ipython-input-53-a4359ca37727>\u001b[0m in \u001b[0;36m<module>\u001b[1;34m\u001b[0m\n\u001b[1;32m----> 1\u001b[1;33m \u001b[0mclf\u001b[0m \u001b[1;33m=\u001b[0m \u001b[0mlgbm\u001b[0m\u001b[1;33m.\u001b[0m\u001b[0mLGBMClassifier\u001b[0m\u001b[1;33m(\u001b[0m\u001b[0mn_estimators\u001b[0m\u001b[1;33m=\u001b[0m\u001b[1;36m500\u001b[0m\u001b[1;33m,\u001b[0m \u001b[0mlearning_rate\u001b[0m\u001b[1;33m=\u001b[0m\u001b[1;36m0.01\u001b[0m\u001b[1;33m,\u001b[0m \u001b[0mparams\u001b[0m \u001b[1;33m=\u001b[0m \u001b[0mparams\u001b[0m\u001b[1;33m)\u001b[0m\u001b[1;33m\u001b[0m\u001b[1;33m\u001b[0m\u001b[0m\n\u001b[0m\u001b[0;32m      2\u001b[0m \u001b[1;33m\u001b[0m\u001b[0m\n\u001b[0;32m      3\u001b[0m \u001b[0mscoress\u001b[0m \u001b[1;33m=\u001b[0m \u001b[0mcross_val_score\u001b[0m\u001b[1;33m(\u001b[0m\u001b[0mclf\u001b[0m\u001b[1;33m,\u001b[0m \u001b[0mx1_importance\u001b[0m\u001b[1;33m,\u001b[0m \u001b[0my1_importance\u001b[0m\u001b[1;33m,\u001b[0m \u001b[0mscoring\u001b[0m\u001b[1;33m=\u001b[0m\u001b[0mgini_scorer\u001b[0m\u001b[1;33m,\u001b[0m \u001b[0mcv\u001b[0m\u001b[1;33m=\u001b[0m\u001b[0mStratifiedKFold\u001b[0m\u001b[1;33m(\u001b[0m\u001b[1;33m)\u001b[0m\u001b[1;33m)\u001b[0m\u001b[1;33m\u001b[0m\u001b[1;33m\u001b[0m\u001b[0m\n",
      "\u001b[1;31mNameError\u001b[0m: name 'params' is not defined"
     ]
    }
   ],
   "source": [
    " clf = lgbm.LGBMClassifier(n_estimators=500, learning_rate=0.01, params = params)\n",
    "    \n",
    "scoress = cross_val_score(clf, x1_importance, y1_importance, scoring=gini_scorer, cv=StratifiedKFold())"
   ]
  },
  {
   "cell_type": "code",
   "execution_count": null,
   "metadata": {},
   "outputs": [],
   "source": []
  },
  {
   "cell_type": "code",
   "execution_count": 42,
   "metadata": {
    "collapsed": true
   },
   "outputs": [
    {
     "ename": "AttributeError",
     "evalue": "module 'lightgbm' has no attribute 'fit'",
     "output_type": "error",
     "traceback": [
      "\u001b[1;31m---------------------------------------------------------------------------\u001b[0m",
      "\u001b[1;31mAttributeError\u001b[0m                            Traceback (most recent call last)",
      "\u001b[1;32m<ipython-input-42-a1f816e27d04>\u001b[0m in \u001b[0;36m<module>\u001b[1;34m\u001b[0m\n\u001b[1;32m----> 1\u001b[1;33m \u001b[0mlgbm\u001b[0m\u001b[1;33m.\u001b[0m\u001b[0mfit\u001b[0m\u001b[1;33m(\u001b[0m\u001b[0mX1_train\u001b[0m\u001b[1;33m,\u001b[0m \u001b[0mY1_train\u001b[0m\u001b[1;33m)\u001b[0m\u001b[1;33m\u001b[0m\u001b[1;33m\u001b[0m\u001b[0m\n\u001b[0m\u001b[0;32m      2\u001b[0m \u001b[0my_pred2\u001b[0m \u001b[1;33m=\u001b[0m \u001b[0mlgbm\u001b[0m\u001b[1;33m.\u001b[0m\u001b[0mpredict\u001b[0m\u001b[1;33m(\u001b[0m\u001b[0mX1_test\u001b[0m\u001b[1;33m)\u001b[0m\u001b[1;33m\u001b[0m\u001b[1;33m\u001b[0m\u001b[0m\n\u001b[0;32m      3\u001b[0m \u001b[0mscore2\u001b[0m \u001b[1;33m=\u001b[0m \u001b[0mf1_score\u001b[0m\u001b[1;33m(\u001b[0m\u001b[0mY1_test\u001b[0m\u001b[1;33m,\u001b[0m \u001b[0my_pred2\u001b[0m\u001b[1;33m)\u001b[0m\u001b[1;33m\u001b[0m\u001b[1;33m\u001b[0m\u001b[0m\n\u001b[0;32m      4\u001b[0m \u001b[0mprint\u001b[0m\u001b[1;33m(\u001b[0m\u001b[0mscore2\u001b[0m\u001b[1;33m)\u001b[0m\u001b[1;33m\u001b[0m\u001b[1;33m\u001b[0m\u001b[0m\n",
      "\u001b[1;31mAttributeError\u001b[0m: module 'lightgbm' has no attribute 'fit'"
     ]
    }
   ],
   "source": [
    "lgbm.fit(X1_train, Y1_train)\n",
    "y_pred2 = lgbm.predict(X1_test)\n",
    "score2 = f1_score(Y1_test, y_pred2)\n",
    "print(score2)"
   ]
  },
  {
   "cell_type": "code",
   "execution_count": null,
   "metadata": {},
   "outputs": [],
   "source": []
  },
  {
   "cell_type": "code",
   "execution_count": 41,
   "metadata": {
    "collapsed": true
   },
   "outputs": [
    {
     "ename": "KeyError",
     "evalue": "'Past_Disciplinary_Action_No'",
     "output_type": "error",
     "traceback": [
      "\u001b[1;31m---------------------------------------------------------------------------\u001b[0m",
      "\u001b[1;31mKeyError\u001b[0m                                  Traceback (most recent call last)",
      "\u001b[1;32m~\\Anaconda3\\lib\\site-packages\\pandas\\core\\indexes\\base.py\u001b[0m in \u001b[0;36mget_loc\u001b[1;34m(self, key, method, tolerance)\u001b[0m\n\u001b[0;32m   3077\u001b[0m             \u001b[1;32mtry\u001b[0m\u001b[1;33m:\u001b[0m\u001b[1;33m\u001b[0m\u001b[1;33m\u001b[0m\u001b[0m\n\u001b[1;32m-> 3078\u001b[1;33m                 \u001b[1;32mreturn\u001b[0m \u001b[0mself\u001b[0m\u001b[1;33m.\u001b[0m\u001b[0m_engine\u001b[0m\u001b[1;33m.\u001b[0m\u001b[0mget_loc\u001b[0m\u001b[1;33m(\u001b[0m\u001b[0mkey\u001b[0m\u001b[1;33m)\u001b[0m\u001b[1;33m\u001b[0m\u001b[1;33m\u001b[0m\u001b[0m\n\u001b[0m\u001b[0;32m   3079\u001b[0m             \u001b[1;32mexcept\u001b[0m \u001b[0mKeyError\u001b[0m\u001b[1;33m:\u001b[0m\u001b[1;33m\u001b[0m\u001b[1;33m\u001b[0m\u001b[0m\n",
      "\u001b[1;32mpandas\\_libs\\index.pyx\u001b[0m in \u001b[0;36mpandas._libs.index.IndexEngine.get_loc\u001b[1;34m()\u001b[0m\n",
      "\u001b[1;32mpandas\\_libs\\index.pyx\u001b[0m in \u001b[0;36mpandas._libs.index.IndexEngine.get_loc\u001b[1;34m()\u001b[0m\n",
      "\u001b[1;32mpandas\\_libs\\hashtable_class_helper.pxi\u001b[0m in \u001b[0;36mpandas._libs.hashtable.PyObjectHashTable.get_item\u001b[1;34m()\u001b[0m\n",
      "\u001b[1;32mpandas\\_libs\\hashtable_class_helper.pxi\u001b[0m in \u001b[0;36mpandas._libs.hashtable.PyObjectHashTable.get_item\u001b[1;34m()\u001b[0m\n",
      "\u001b[1;31mKeyError\u001b[0m: 'Past_Disciplinary_Action_No'",
      "\nDuring handling of the above exception, another exception occurred:\n",
      "\u001b[1;31mKeyError\u001b[0m                                  Traceback (most recent call last)",
      "\u001b[1;32m<ipython-input-41-5ddb3ae6866f>\u001b[0m in \u001b[0;36m<module>\u001b[1;34m\u001b[0m\n\u001b[1;32m----> 1\u001b[1;33m \u001b[1;32mdel\u001b[0m \u001b[0mtest\u001b[0m\u001b[1;33m[\u001b[0m\u001b[1;34m'Past_Disciplinary_Action_No'\u001b[0m\u001b[1;33m]\u001b[0m\u001b[1;33m\u001b[0m\u001b[1;33m\u001b[0m\u001b[0m\n\u001b[0m\u001b[0;32m      2\u001b[0m \u001b[1;32mdel\u001b[0m \u001b[0mtest\u001b[0m\u001b[1;33m[\u001b[0m\u001b[1;34m'No_of_previous_employers_3'\u001b[0m\u001b[1;33m]\u001b[0m\u001b[1;33m\u001b[0m\u001b[1;33m\u001b[0m\u001b[0m\n\u001b[0;32m      3\u001b[0m \u001b[1;32mdel\u001b[0m \u001b[0mtest\u001b[0m\u001b[1;33m[\u001b[0m\u001b[1;34m'Channel_of_Recruitment_Agency and others'\u001b[0m\u001b[1;33m]\u001b[0m\u001b[1;33m\u001b[0m\u001b[1;33m\u001b[0m\u001b[0m\n\u001b[0;32m      4\u001b[0m \u001b[1;32mdel\u001b[0m \u001b[0mtest\u001b[0m\u001b[1;33m[\u001b[0m\u001b[1;34m'Foreign_schooled_Yes'\u001b[0m\u001b[1;33m]\u001b[0m\u001b[1;33m\u001b[0m\u001b[1;33m\u001b[0m\u001b[0m\n\u001b[0;32m      5\u001b[0m \u001b[1;32mdel\u001b[0m \u001b[0mtest\u001b[0m\u001b[1;33m[\u001b[0m\u001b[1;34m'Year_of_recruitment'\u001b[0m\u001b[1;33m]\u001b[0m\u001b[1;33m\u001b[0m\u001b[1;33m\u001b[0m\u001b[0m\n",
      "\u001b[1;32m~\\Anaconda3\\lib\\site-packages\\pandas\\core\\generic.py\u001b[0m in \u001b[0;36m__delitem__\u001b[1;34m(self, key)\u001b[0m\n\u001b[0;32m   2741\u001b[0m             \u001b[1;31m# there was no match, this call should raise the appropriate\u001b[0m\u001b[1;33m\u001b[0m\u001b[1;33m\u001b[0m\u001b[1;33m\u001b[0m\u001b[0m\n\u001b[0;32m   2742\u001b[0m             \u001b[1;31m# exception:\u001b[0m\u001b[1;33m\u001b[0m\u001b[1;33m\u001b[0m\u001b[1;33m\u001b[0m\u001b[0m\n\u001b[1;32m-> 2743\u001b[1;33m             \u001b[0mself\u001b[0m\u001b[1;33m.\u001b[0m\u001b[0m_data\u001b[0m\u001b[1;33m.\u001b[0m\u001b[0mdelete\u001b[0m\u001b[1;33m(\u001b[0m\u001b[0mkey\u001b[0m\u001b[1;33m)\u001b[0m\u001b[1;33m\u001b[0m\u001b[1;33m\u001b[0m\u001b[0m\n\u001b[0m\u001b[0;32m   2744\u001b[0m \u001b[1;33m\u001b[0m\u001b[0m\n\u001b[0;32m   2745\u001b[0m         \u001b[1;31m# delete from the caches\u001b[0m\u001b[1;33m\u001b[0m\u001b[1;33m\u001b[0m\u001b[1;33m\u001b[0m\u001b[0m\n",
      "\u001b[1;32m~\\Anaconda3\\lib\\site-packages\\pandas\\core\\internals.py\u001b[0m in \u001b[0;36mdelete\u001b[1;34m(self, item)\u001b[0m\n\u001b[0;32m   4172\u001b[0m         \u001b[0mDelete\u001b[0m \u001b[0mselected\u001b[0m \u001b[0mitem\u001b[0m \u001b[1;33m(\u001b[0m\u001b[0mitems\u001b[0m \u001b[1;32mif\u001b[0m \u001b[0mnon\u001b[0m\u001b[1;33m-\u001b[0m\u001b[0munique\u001b[0m\u001b[1;33m)\u001b[0m \u001b[1;32min\u001b[0m\u001b[1;33m-\u001b[0m\u001b[0mplace\u001b[0m\u001b[1;33m.\u001b[0m\u001b[1;33m\u001b[0m\u001b[1;33m\u001b[0m\u001b[0m\n\u001b[0;32m   4173\u001b[0m         \"\"\"\n\u001b[1;32m-> 4174\u001b[1;33m         \u001b[0mindexer\u001b[0m \u001b[1;33m=\u001b[0m \u001b[0mself\u001b[0m\u001b[1;33m.\u001b[0m\u001b[0mitems\u001b[0m\u001b[1;33m.\u001b[0m\u001b[0mget_loc\u001b[0m\u001b[1;33m(\u001b[0m\u001b[0mitem\u001b[0m\u001b[1;33m)\u001b[0m\u001b[1;33m\u001b[0m\u001b[1;33m\u001b[0m\u001b[0m\n\u001b[0m\u001b[0;32m   4175\u001b[0m \u001b[1;33m\u001b[0m\u001b[0m\n\u001b[0;32m   4176\u001b[0m         \u001b[0mis_deleted\u001b[0m \u001b[1;33m=\u001b[0m \u001b[0mnp\u001b[0m\u001b[1;33m.\u001b[0m\u001b[0mzeros\u001b[0m\u001b[1;33m(\u001b[0m\u001b[0mself\u001b[0m\u001b[1;33m.\u001b[0m\u001b[0mshape\u001b[0m\u001b[1;33m[\u001b[0m\u001b[1;36m0\u001b[0m\u001b[1;33m]\u001b[0m\u001b[1;33m,\u001b[0m \u001b[0mdtype\u001b[0m\u001b[1;33m=\u001b[0m\u001b[0mnp\u001b[0m\u001b[1;33m.\u001b[0m\u001b[0mbool_\u001b[0m\u001b[1;33m)\u001b[0m\u001b[1;33m\u001b[0m\u001b[1;33m\u001b[0m\u001b[0m\n",
      "\u001b[1;32m~\\Anaconda3\\lib\\site-packages\\pandas\\core\\indexes\\base.py\u001b[0m in \u001b[0;36mget_loc\u001b[1;34m(self, key, method, tolerance)\u001b[0m\n\u001b[0;32m   3078\u001b[0m                 \u001b[1;32mreturn\u001b[0m \u001b[0mself\u001b[0m\u001b[1;33m.\u001b[0m\u001b[0m_engine\u001b[0m\u001b[1;33m.\u001b[0m\u001b[0mget_loc\u001b[0m\u001b[1;33m(\u001b[0m\u001b[0mkey\u001b[0m\u001b[1;33m)\u001b[0m\u001b[1;33m\u001b[0m\u001b[1;33m\u001b[0m\u001b[0m\n\u001b[0;32m   3079\u001b[0m             \u001b[1;32mexcept\u001b[0m \u001b[0mKeyError\u001b[0m\u001b[1;33m:\u001b[0m\u001b[1;33m\u001b[0m\u001b[1;33m\u001b[0m\u001b[0m\n\u001b[1;32m-> 3080\u001b[1;33m                 \u001b[1;32mreturn\u001b[0m \u001b[0mself\u001b[0m\u001b[1;33m.\u001b[0m\u001b[0m_engine\u001b[0m\u001b[1;33m.\u001b[0m\u001b[0mget_loc\u001b[0m\u001b[1;33m(\u001b[0m\u001b[0mself\u001b[0m\u001b[1;33m.\u001b[0m\u001b[0m_maybe_cast_indexer\u001b[0m\u001b[1;33m(\u001b[0m\u001b[0mkey\u001b[0m\u001b[1;33m)\u001b[0m\u001b[1;33m)\u001b[0m\u001b[1;33m\u001b[0m\u001b[1;33m\u001b[0m\u001b[0m\n\u001b[0m\u001b[0;32m   3081\u001b[0m \u001b[1;33m\u001b[0m\u001b[0m\n\u001b[0;32m   3082\u001b[0m         \u001b[0mindexer\u001b[0m \u001b[1;33m=\u001b[0m \u001b[0mself\u001b[0m\u001b[1;33m.\u001b[0m\u001b[0mget_indexer\u001b[0m\u001b[1;33m(\u001b[0m\u001b[1;33m[\u001b[0m\u001b[0mkey\u001b[0m\u001b[1;33m]\u001b[0m\u001b[1;33m,\u001b[0m \u001b[0mmethod\u001b[0m\u001b[1;33m=\u001b[0m\u001b[0mmethod\u001b[0m\u001b[1;33m,\u001b[0m \u001b[0mtolerance\u001b[0m\u001b[1;33m=\u001b[0m\u001b[0mtolerance\u001b[0m\u001b[1;33m)\u001b[0m\u001b[1;33m\u001b[0m\u001b[1;33m\u001b[0m\u001b[0m\n",
      "\u001b[1;32mpandas\\_libs\\index.pyx\u001b[0m in \u001b[0;36mpandas._libs.index.IndexEngine.get_loc\u001b[1;34m()\u001b[0m\n",
      "\u001b[1;32mpandas\\_libs\\index.pyx\u001b[0m in \u001b[0;36mpandas._libs.index.IndexEngine.get_loc\u001b[1;34m()\u001b[0m\n",
      "\u001b[1;32mpandas\\_libs\\hashtable_class_helper.pxi\u001b[0m in \u001b[0;36mpandas._libs.hashtable.PyObjectHashTable.get_item\u001b[1;34m()\u001b[0m\n",
      "\u001b[1;32mpandas\\_libs\\hashtable_class_helper.pxi\u001b[0m in \u001b[0;36mpandas._libs.hashtable.PyObjectHashTable.get_item\u001b[1;34m()\u001b[0m\n",
      "\u001b[1;31mKeyError\u001b[0m: 'Past_Disciplinary_Action_No'"
     ]
    }
   ],
   "source": [
    "del test['Past_Disciplinary_Action_No']\n",
    "del test['No_of_previous_employers_3'] \n",
    "del test['Channel_of_Recruitment_Agency and others'] \n",
    "del test['Foreign_schooled_Yes'] \n",
    "del test['Year_of_recruitment'] \n",
    "del test['Marital_Status_Married'] \n",
    "del test['Qualification_Non-University Education'] "
   ]
  },
  {
   "cell_type": "code",
   "execution_count": null,
   "metadata": {},
   "outputs": [],
   "source": []
  },
  {
   "cell_type": "code",
   "execution_count": null,
   "metadata": {},
   "outputs": [],
   "source": []
  },
  {
   "cell_type": "code",
   "execution_count": 68,
   "metadata": {},
   "outputs": [],
   "source": [
    "y_pred = xgc.predict(test).astype(int)\n",
    "sample.Promoted_or_Not = y_pred\n",
    "sample.to_csv('intercampus13.csv',index =False)"
   ]
  },
  {
   "cell_type": "code",
   "execution_count": null,
   "metadata": {},
   "outputs": [],
   "source": []
  },
  {
   "cell_type": "code",
   "execution_count": 2,
   "metadata": {
    "collapsed": true
   },
   "outputs": [
    {
     "ename": "ValueError",
     "evalue": "numpy.ufunc size changed, may indicate binary incompatibility. Expected 216 from C header, got 192 from PyObject",
     "output_type": "error",
     "traceback": [
      "\u001b[1;31m---------------------------------------------------------------------------\u001b[0m",
      "\u001b[1;31mValueError\u001b[0m                                Traceback (most recent call last)",
      "\u001b[1;32m<ipython-input-2-426d5cefa2e6>\u001b[0m in \u001b[0;36m<module>\u001b[1;34m\u001b[0m\n\u001b[1;32m----> 1\u001b[1;33m \u001b[1;32mimport\u001b[0m \u001b[0mcatboost\u001b[0m \u001b[1;32mas\u001b[0m \u001b[0mcb\u001b[0m\u001b[1;33m\u001b[0m\u001b[1;33m\u001b[0m\u001b[0m\n\u001b[0m",
      "\u001b[1;32m~\\Anaconda3\\lib\\site-packages\\catboost\\__init__.py\u001b[0m in \u001b[0;36m<module>\u001b[1;34m\u001b[0m\n\u001b[1;32m----> 1\u001b[1;33m \u001b[1;32mfrom\u001b[0m \u001b[1;33m.\u001b[0m\u001b[0mcore\u001b[0m \u001b[1;32mimport\u001b[0m \u001b[0mFeaturesData\u001b[0m\u001b[1;33m,\u001b[0m \u001b[0mEFstrType\u001b[0m\u001b[1;33m,\u001b[0m \u001b[0mPool\u001b[0m\u001b[1;33m,\u001b[0m \u001b[0mCatBoost\u001b[0m\u001b[1;33m,\u001b[0m \u001b[0mCatBoostClassifier\u001b[0m\u001b[1;33m,\u001b[0m \u001b[0mCatBoostRegressor\u001b[0m\u001b[1;33m,\u001b[0m \u001b[0mCatBoostError\u001b[0m\u001b[1;33m,\u001b[0m \u001b[0mcv\u001b[0m\u001b[1;33m,\u001b[0m \u001b[0mtrain\u001b[0m\u001b[1;33m,\u001b[0m \u001b[0msum_models\u001b[0m  \u001b[1;31m# noqa\u001b[0m\u001b[1;33m\u001b[0m\u001b[1;33m\u001b[0m\u001b[0m\n\u001b[0m\u001b[0;32m      2\u001b[0m \u001b[1;32mfrom\u001b[0m \u001b[1;33m.\u001b[0m\u001b[0mversion\u001b[0m \u001b[1;32mimport\u001b[0m \u001b[0mVERSION\u001b[0m \u001b[1;32mas\u001b[0m \u001b[0m__version__\u001b[0m  \u001b[1;31m# noqa\u001b[0m\u001b[1;33m\u001b[0m\u001b[1;33m\u001b[0m\u001b[0m\n\u001b[0;32m      3\u001b[0m \u001b[0m__all__\u001b[0m \u001b[1;33m=\u001b[0m \u001b[1;33m[\u001b[0m\u001b[1;34m'FeaturesData'\u001b[0m\u001b[1;33m,\u001b[0m \u001b[1;34m'EFstrType'\u001b[0m\u001b[1;33m,\u001b[0m \u001b[1;34m'Pool'\u001b[0m\u001b[1;33m,\u001b[0m \u001b[1;34m'CatBoost'\u001b[0m\u001b[1;33m,\u001b[0m \u001b[1;34m'CatBoostClassifier'\u001b[0m\u001b[1;33m,\u001b[0m \u001b[1;34m'CatBoostRegressor'\u001b[0m\u001b[1;33m,\u001b[0m \u001b[1;34m'CatBoostError'\u001b[0m\u001b[1;33m,\u001b[0m \u001b[1;34m'CatboostError'\u001b[0m\u001b[1;33m,\u001b[0m \u001b[1;34m'cv'\u001b[0m\u001b[1;33m,\u001b[0m \u001b[1;34m'train'\u001b[0m\u001b[1;33m,\u001b[0m \u001b[1;34m'sum_models'\u001b[0m\u001b[1;33m]\u001b[0m\u001b[1;33m\u001b[0m\u001b[1;33m\u001b[0m\u001b[0m\n\u001b[0;32m      4\u001b[0m \u001b[1;33m\u001b[0m\u001b[0m\n\u001b[0;32m      5\u001b[0m \u001b[1;31m# API compatibility alias.\u001b[0m\u001b[1;33m\u001b[0m\u001b[1;33m\u001b[0m\u001b[1;33m\u001b[0m\u001b[0m\n",
      "\u001b[1;32m~\\Anaconda3\\lib\\site-packages\\catboost\\core.py\u001b[0m in \u001b[0;36m<module>\u001b[1;34m\u001b[0m\n\u001b[0;32m     58\u001b[0m \u001b[1;33m\u001b[0m\u001b[0m\n\u001b[0;32m     59\u001b[0m \u001b[1;33m\u001b[0m\u001b[0m\n\u001b[1;32m---> 60\u001b[1;33m \u001b[0m_catboost\u001b[0m \u001b[1;33m=\u001b[0m \u001b[0mget_catboost_bin_module\u001b[0m\u001b[1;33m(\u001b[0m\u001b[1;33m)\u001b[0m\u001b[1;33m\u001b[0m\u001b[1;33m\u001b[0m\u001b[0m\n\u001b[0m\u001b[0;32m     61\u001b[0m \u001b[0m_PoolBase\u001b[0m \u001b[1;33m=\u001b[0m \u001b[0m_catboost\u001b[0m\u001b[1;33m.\u001b[0m\u001b[0m_PoolBase\u001b[0m\u001b[1;33m\u001b[0m\u001b[1;33m\u001b[0m\u001b[0m\n\u001b[0;32m     62\u001b[0m \u001b[0m_CatBoost\u001b[0m \u001b[1;33m=\u001b[0m \u001b[0m_catboost\u001b[0m\u001b[1;33m.\u001b[0m\u001b[0m_CatBoost\u001b[0m\u001b[1;33m\u001b[0m\u001b[1;33m\u001b[0m\u001b[0m\n",
      "\u001b[1;32m~\\Anaconda3\\lib\\site-packages\\catboost\\core.py\u001b[0m in \u001b[0;36mget_catboost_bin_module\u001b[1;34m()\u001b[0m\n\u001b[0;32m     49\u001b[0m     \u001b[1;32mfor\u001b[0m \u001b[0mso_path\u001b[0m \u001b[1;32min\u001b[0m \u001b[0mso_paths\u001b[0m\u001b[1;33m:\u001b[0m\u001b[1;33m\u001b[0m\u001b[1;33m\u001b[0m\u001b[0m\n\u001b[0;32m     50\u001b[0m         \u001b[1;32mtry\u001b[0m\u001b[1;33m:\u001b[0m\u001b[1;33m\u001b[0m\u001b[1;33m\u001b[0m\u001b[0m\n\u001b[1;32m---> 51\u001b[1;33m             \u001b[0mloaded_catboost\u001b[0m \u001b[1;33m=\u001b[0m \u001b[0mimp\u001b[0m\u001b[1;33m.\u001b[0m\u001b[0mload_dynamic\u001b[0m\u001b[1;33m(\u001b[0m\u001b[1;34m'_catboost'\u001b[0m\u001b[1;33m,\u001b[0m \u001b[0mso_path\u001b[0m\u001b[1;33m)\u001b[0m\u001b[1;33m\u001b[0m\u001b[1;33m\u001b[0m\u001b[0m\n\u001b[0m\u001b[0;32m     52\u001b[0m             \u001b[0msys\u001b[0m\u001b[1;33m.\u001b[0m\u001b[0mmodules\u001b[0m\u001b[1;33m[\u001b[0m\u001b[1;34m'catboost._catboost'\u001b[0m\u001b[1;33m]\u001b[0m \u001b[1;33m=\u001b[0m \u001b[0mloaded_catboost\u001b[0m\u001b[1;33m\u001b[0m\u001b[1;33m\u001b[0m\u001b[0m\n\u001b[0;32m     53\u001b[0m             \u001b[1;32mreturn\u001b[0m \u001b[0mloaded_catboost\u001b[0m\u001b[1;33m\u001b[0m\u001b[1;33m\u001b[0m\u001b[0m\n",
      "\u001b[1;32m~\\Anaconda3\\lib\\imp.py\u001b[0m in \u001b[0;36mload_dynamic\u001b[1;34m(name, path, file)\u001b[0m\n\u001b[0;32m    340\u001b[0m         spec = importlib.machinery.ModuleSpec(\n\u001b[0;32m    341\u001b[0m             name=name, loader=loader, origin=path)\n\u001b[1;32m--> 342\u001b[1;33m         \u001b[1;32mreturn\u001b[0m \u001b[0m_load\u001b[0m\u001b[1;33m(\u001b[0m\u001b[0mspec\u001b[0m\u001b[1;33m)\u001b[0m\u001b[1;33m\u001b[0m\u001b[1;33m\u001b[0m\u001b[0m\n\u001b[0m\u001b[0;32m    343\u001b[0m \u001b[1;33m\u001b[0m\u001b[0m\n\u001b[0;32m    344\u001b[0m \u001b[1;32melse\u001b[0m\u001b[1;33m:\u001b[0m\u001b[1;33m\u001b[0m\u001b[1;33m\u001b[0m\u001b[0m\n",
      "\u001b[1;32mnumpy.pxd\u001b[0m in \u001b[0;36minit _catboost\u001b[1;34m()\u001b[0m\n",
      "\u001b[1;31mValueError\u001b[0m: numpy.ufunc size changed, may indicate binary incompatibility. Expected 216 from C header, got 192 from PyObject"
     ]
    }
   ],
   "source": [
    "import catboost as cb"
   ]
  },
  {
   "cell_type": "code",
   "execution_count": null,
   "metadata": {},
   "outputs": [],
   "source": []
  },
  {
   "cell_type": "code",
   "execution_count": 24,
   "metadata": {},
   "outputs": [],
   "source": [
    "ada_boost = AdaBoostClassifier()\n",
    "grad_boost = GradientBoostingClassifier()\n",
    "xgb_boost = XGBClassifier()\n",
    "from sklearn.ensemble import VotingClassifier"
   ]
  },
  {
   "cell_type": "code",
   "execution_count": 20,
   "metadata": {},
   "outputs": [],
   "source": [
    "boost_array = [ada_boost, grad_boost, xgb_boost]"
   ]
  },
  {
   "cell_type": "code",
   "execution_count": 30,
   "metadata": {
    "collapsed": true
   },
   "outputs": [
    {
     "ename": "SyntaxError",
     "evalue": "invalid syntax (<ipython-input-30-f4b59394b936>, line 1)",
     "output_type": "error",
     "traceback": [
      "\u001b[1;36m  File \u001b[1;32m\"<ipython-input-30-f4b59394b936>\"\u001b[1;36m, line \u001b[1;32m1\u001b[0m\n\u001b[1;33m    eclf = VotingClassifier(class = [ada_boost, grad_boost, xgb_boost], voting='hard')\u001b[0m\n\u001b[1;37m                                ^\u001b[0m\n\u001b[1;31mSyntaxError\u001b[0m\u001b[1;31m:\u001b[0m invalid syntax\n"
     ]
    }
   ],
   "source": [
    "eclf = VotingClassifier(class = [ada_boost, grad_boost, xgb_boost], voting='hard')"
   ]
  },
  {
   "cell_type": "markdown",
   "metadata": {},
   "source": [
    "# making use of catboost algoritm on colab"
   ]
  },
  {
   "cell_type": "code",
   "execution_count": 70,
   "metadata": {
    "collapsed": true
   },
   "outputs": [
    {
     "ename": "AttributeError",
     "evalue": "type object '_catboost._FloatArrayWrapper' has no attribute '__reduce_cython__'",
     "output_type": "error",
     "traceback": [
      "\u001b[1;31m---------------------------------------------------------------------------\u001b[0m",
      "\u001b[1;31mAttributeError\u001b[0m                            Traceback (most recent call last)",
      "\u001b[1;32m<ipython-input-70-af043683ea9b>\u001b[0m in \u001b[0;36m<module>\u001b[1;34m\u001b[0m\n\u001b[1;32m----> 1\u001b[1;33m \u001b[1;32mfrom\u001b[0m \u001b[0mcatboost\u001b[0m \u001b[1;32mimport\u001b[0m \u001b[0mCatBoost\u001b[0m\u001b[1;33m\u001b[0m\u001b[1;33m\u001b[0m\u001b[0m\n\u001b[0m",
      "\u001b[1;32m~\\Anaconda3\\lib\\site-packages\\catboost\\__init__.py\u001b[0m in \u001b[0;36m<module>\u001b[1;34m\u001b[0m\n\u001b[1;32m----> 1\u001b[1;33m \u001b[1;32mfrom\u001b[0m \u001b[1;33m.\u001b[0m\u001b[0mcore\u001b[0m \u001b[1;32mimport\u001b[0m \u001b[0mFeaturesData\u001b[0m\u001b[1;33m,\u001b[0m \u001b[0mEFstrType\u001b[0m\u001b[1;33m,\u001b[0m \u001b[0mPool\u001b[0m\u001b[1;33m,\u001b[0m \u001b[0mCatBoost\u001b[0m\u001b[1;33m,\u001b[0m \u001b[0mCatBoostClassifier\u001b[0m\u001b[1;33m,\u001b[0m \u001b[0mCatBoostRegressor\u001b[0m\u001b[1;33m,\u001b[0m \u001b[0mCatBoostError\u001b[0m\u001b[1;33m,\u001b[0m \u001b[0mcv\u001b[0m\u001b[1;33m,\u001b[0m \u001b[0mtrain\u001b[0m\u001b[1;33m,\u001b[0m \u001b[0msum_models\u001b[0m  \u001b[1;31m# noqa\u001b[0m\u001b[1;33m\u001b[0m\u001b[1;33m\u001b[0m\u001b[0m\n\u001b[0m\u001b[0;32m      2\u001b[0m \u001b[1;32mfrom\u001b[0m \u001b[1;33m.\u001b[0m\u001b[0mversion\u001b[0m \u001b[1;32mimport\u001b[0m \u001b[0mVERSION\u001b[0m \u001b[1;32mas\u001b[0m \u001b[0m__version__\u001b[0m  \u001b[1;31m# noqa\u001b[0m\u001b[1;33m\u001b[0m\u001b[1;33m\u001b[0m\u001b[0m\n\u001b[0;32m      3\u001b[0m \u001b[0m__all__\u001b[0m \u001b[1;33m=\u001b[0m \u001b[1;33m[\u001b[0m\u001b[1;34m'FeaturesData'\u001b[0m\u001b[1;33m,\u001b[0m \u001b[1;34m'EFstrType'\u001b[0m\u001b[1;33m,\u001b[0m \u001b[1;34m'Pool'\u001b[0m\u001b[1;33m,\u001b[0m \u001b[1;34m'CatBoost'\u001b[0m\u001b[1;33m,\u001b[0m \u001b[1;34m'CatBoostClassifier'\u001b[0m\u001b[1;33m,\u001b[0m \u001b[1;34m'CatBoostRegressor'\u001b[0m\u001b[1;33m,\u001b[0m \u001b[1;34m'CatBoostError'\u001b[0m\u001b[1;33m,\u001b[0m \u001b[1;34m'CatboostError'\u001b[0m\u001b[1;33m,\u001b[0m \u001b[1;34m'cv'\u001b[0m\u001b[1;33m,\u001b[0m \u001b[1;34m'train'\u001b[0m\u001b[1;33m,\u001b[0m \u001b[1;34m'sum_models'\u001b[0m\u001b[1;33m]\u001b[0m\u001b[1;33m\u001b[0m\u001b[1;33m\u001b[0m\u001b[0m\n\u001b[0;32m      4\u001b[0m \u001b[1;33m\u001b[0m\u001b[0m\n\u001b[0;32m      5\u001b[0m \u001b[1;31m# API compatibility alias.\u001b[0m\u001b[1;33m\u001b[0m\u001b[1;33m\u001b[0m\u001b[1;33m\u001b[0m\u001b[0m\n",
      "\u001b[1;32m~\\Anaconda3\\lib\\site-packages\\catboost\\core.py\u001b[0m in \u001b[0;36m<module>\u001b[1;34m\u001b[0m\n\u001b[0;32m     58\u001b[0m \u001b[1;33m\u001b[0m\u001b[0m\n\u001b[0;32m     59\u001b[0m \u001b[1;33m\u001b[0m\u001b[0m\n\u001b[1;32m---> 60\u001b[1;33m \u001b[0m_catboost\u001b[0m \u001b[1;33m=\u001b[0m \u001b[0mget_catboost_bin_module\u001b[0m\u001b[1;33m(\u001b[0m\u001b[1;33m)\u001b[0m\u001b[1;33m\u001b[0m\u001b[1;33m\u001b[0m\u001b[0m\n\u001b[0m\u001b[0;32m     61\u001b[0m \u001b[0m_PoolBase\u001b[0m \u001b[1;33m=\u001b[0m \u001b[0m_catboost\u001b[0m\u001b[1;33m.\u001b[0m\u001b[0m_PoolBase\u001b[0m\u001b[1;33m\u001b[0m\u001b[1;33m\u001b[0m\u001b[0m\n\u001b[0;32m     62\u001b[0m \u001b[0m_CatBoost\u001b[0m \u001b[1;33m=\u001b[0m \u001b[0m_catboost\u001b[0m\u001b[1;33m.\u001b[0m\u001b[0m_CatBoost\u001b[0m\u001b[1;33m\u001b[0m\u001b[1;33m\u001b[0m\u001b[0m\n",
      "\u001b[1;32m~\\Anaconda3\\lib\\site-packages\\catboost\\core.py\u001b[0m in \u001b[0;36mget_catboost_bin_module\u001b[1;34m()\u001b[0m\n\u001b[0;32m     49\u001b[0m     \u001b[1;32mfor\u001b[0m \u001b[0mso_path\u001b[0m \u001b[1;32min\u001b[0m \u001b[0mso_paths\u001b[0m\u001b[1;33m:\u001b[0m\u001b[1;33m\u001b[0m\u001b[1;33m\u001b[0m\u001b[0m\n\u001b[0;32m     50\u001b[0m         \u001b[1;32mtry\u001b[0m\u001b[1;33m:\u001b[0m\u001b[1;33m\u001b[0m\u001b[1;33m\u001b[0m\u001b[0m\n\u001b[1;32m---> 51\u001b[1;33m             \u001b[0mloaded_catboost\u001b[0m \u001b[1;33m=\u001b[0m \u001b[0mimp\u001b[0m\u001b[1;33m.\u001b[0m\u001b[0mload_dynamic\u001b[0m\u001b[1;33m(\u001b[0m\u001b[1;34m'_catboost'\u001b[0m\u001b[1;33m,\u001b[0m \u001b[0mso_path\u001b[0m\u001b[1;33m)\u001b[0m\u001b[1;33m\u001b[0m\u001b[1;33m\u001b[0m\u001b[0m\n\u001b[0m\u001b[0;32m     52\u001b[0m             \u001b[0msys\u001b[0m\u001b[1;33m.\u001b[0m\u001b[0mmodules\u001b[0m\u001b[1;33m[\u001b[0m\u001b[1;34m'catboost._catboost'\u001b[0m\u001b[1;33m]\u001b[0m \u001b[1;33m=\u001b[0m \u001b[0mloaded_catboost\u001b[0m\u001b[1;33m\u001b[0m\u001b[1;33m\u001b[0m\u001b[0m\n\u001b[0;32m     53\u001b[0m             \u001b[1;32mreturn\u001b[0m \u001b[0mloaded_catboost\u001b[0m\u001b[1;33m\u001b[0m\u001b[1;33m\u001b[0m\u001b[0m\n",
      "\u001b[1;32m~\\Anaconda3\\lib\\imp.py\u001b[0m in \u001b[0;36mload_dynamic\u001b[1;34m(name, path, file)\u001b[0m\n\u001b[0;32m    340\u001b[0m         spec = importlib.machinery.ModuleSpec(\n\u001b[0;32m    341\u001b[0m             name=name, loader=loader, origin=path)\n\u001b[1;32m--> 342\u001b[1;33m         \u001b[1;32mreturn\u001b[0m \u001b[0m_load\u001b[0m\u001b[1;33m(\u001b[0m\u001b[0mspec\u001b[0m\u001b[1;33m)\u001b[0m\u001b[1;33m\u001b[0m\u001b[1;33m\u001b[0m\u001b[0m\n\u001b[0m\u001b[0;32m    343\u001b[0m \u001b[1;33m\u001b[0m\u001b[0m\n\u001b[0;32m    344\u001b[0m \u001b[1;32melse\u001b[0m\u001b[1;33m:\u001b[0m\u001b[1;33m\u001b[0m\u001b[1;33m\u001b[0m\u001b[0m\n",
      "\u001b[1;32m_catboost.pyx\u001b[0m in \u001b[0;36minit _catboost\u001b[1;34m()\u001b[0m\n",
      "\u001b[1;31mAttributeError\u001b[0m: type object '_catboost._FloatArrayWrapper' has no attribute '__reduce_cython__'"
     ]
    }
   ],
   "source": [
    "from catboost import CatBoost"
   ]
  },
  {
   "cell_type": "code",
   "execution_count": 17,
   "metadata": {
    "collapsed": true
   },
   "outputs": [
    {
     "ename": "AttributeError",
     "evalue": "type object '_catboost._FloatArrayWrapper' has no attribute '__reduce_cython__'",
     "output_type": "error",
     "traceback": [
      "\u001b[1;31m---------------------------------------------------------------------------\u001b[0m",
      "\u001b[1;31mAttributeError\u001b[0m                            Traceback (most recent call last)",
      "\u001b[1;32m<ipython-input-17-a552d8edcebd>\u001b[0m in \u001b[0;36m<module>\u001b[1;34m\u001b[0m\n\u001b[1;32m----> 1\u001b[1;33m \u001b[1;32mfrom\u001b[0m \u001b[0mcatboost\u001b[0m \u001b[1;32mimport\u001b[0m \u001b[0mCatBoostClassifier\u001b[0m\u001b[1;33m\u001b[0m\u001b[1;33m\u001b[0m\u001b[0m\n\u001b[0m",
      "\u001b[1;32m~\\Anaconda3\\lib\\site-packages\\catboost\\__init__.py\u001b[0m in \u001b[0;36m<module>\u001b[1;34m\u001b[0m\n\u001b[1;32m----> 1\u001b[1;33m \u001b[1;32mfrom\u001b[0m \u001b[1;33m.\u001b[0m\u001b[0mcore\u001b[0m \u001b[1;32mimport\u001b[0m \u001b[0mFeaturesData\u001b[0m\u001b[1;33m,\u001b[0m \u001b[0mEFstrType\u001b[0m\u001b[1;33m,\u001b[0m \u001b[0mPool\u001b[0m\u001b[1;33m,\u001b[0m \u001b[0mCatBoost\u001b[0m\u001b[1;33m,\u001b[0m \u001b[0mCatBoostClassifier\u001b[0m\u001b[1;33m,\u001b[0m \u001b[0mCatBoostRegressor\u001b[0m\u001b[1;33m,\u001b[0m \u001b[0mCatBoostError\u001b[0m\u001b[1;33m,\u001b[0m \u001b[0mcv\u001b[0m\u001b[1;33m,\u001b[0m \u001b[0mtrain\u001b[0m\u001b[1;33m,\u001b[0m \u001b[0msum_models\u001b[0m  \u001b[1;31m# noqa\u001b[0m\u001b[1;33m\u001b[0m\u001b[1;33m\u001b[0m\u001b[0m\n\u001b[0m\u001b[0;32m      2\u001b[0m \u001b[1;32mfrom\u001b[0m \u001b[1;33m.\u001b[0m\u001b[0mversion\u001b[0m \u001b[1;32mimport\u001b[0m \u001b[0mVERSION\u001b[0m \u001b[1;32mas\u001b[0m \u001b[0m__version__\u001b[0m  \u001b[1;31m# noqa\u001b[0m\u001b[1;33m\u001b[0m\u001b[1;33m\u001b[0m\u001b[0m\n\u001b[0;32m      3\u001b[0m \u001b[0m__all__\u001b[0m \u001b[1;33m=\u001b[0m \u001b[1;33m[\u001b[0m\u001b[1;34m'FeaturesData'\u001b[0m\u001b[1;33m,\u001b[0m \u001b[1;34m'EFstrType'\u001b[0m\u001b[1;33m,\u001b[0m \u001b[1;34m'Pool'\u001b[0m\u001b[1;33m,\u001b[0m \u001b[1;34m'CatBoost'\u001b[0m\u001b[1;33m,\u001b[0m \u001b[1;34m'CatBoostClassifier'\u001b[0m\u001b[1;33m,\u001b[0m \u001b[1;34m'CatBoostRegressor'\u001b[0m\u001b[1;33m,\u001b[0m \u001b[1;34m'CatBoostError'\u001b[0m\u001b[1;33m,\u001b[0m \u001b[1;34m'CatboostError'\u001b[0m\u001b[1;33m,\u001b[0m \u001b[1;34m'cv'\u001b[0m\u001b[1;33m,\u001b[0m \u001b[1;34m'train'\u001b[0m\u001b[1;33m,\u001b[0m \u001b[1;34m'sum_models'\u001b[0m\u001b[1;33m]\u001b[0m\u001b[1;33m\u001b[0m\u001b[1;33m\u001b[0m\u001b[0m\n\u001b[0;32m      4\u001b[0m \u001b[1;33m\u001b[0m\u001b[0m\n\u001b[0;32m      5\u001b[0m \u001b[1;31m# API compatibility alias.\u001b[0m\u001b[1;33m\u001b[0m\u001b[1;33m\u001b[0m\u001b[1;33m\u001b[0m\u001b[0m\n",
      "\u001b[1;32m~\\Anaconda3\\lib\\site-packages\\catboost\\core.py\u001b[0m in \u001b[0;36m<module>\u001b[1;34m\u001b[0m\n\u001b[0;32m     58\u001b[0m \u001b[1;33m\u001b[0m\u001b[0m\n\u001b[0;32m     59\u001b[0m \u001b[1;33m\u001b[0m\u001b[0m\n\u001b[1;32m---> 60\u001b[1;33m \u001b[0m_catboost\u001b[0m \u001b[1;33m=\u001b[0m \u001b[0mget_catboost_bin_module\u001b[0m\u001b[1;33m(\u001b[0m\u001b[1;33m)\u001b[0m\u001b[1;33m\u001b[0m\u001b[1;33m\u001b[0m\u001b[0m\n\u001b[0m\u001b[0;32m     61\u001b[0m \u001b[0m_PoolBase\u001b[0m \u001b[1;33m=\u001b[0m \u001b[0m_catboost\u001b[0m\u001b[1;33m.\u001b[0m\u001b[0m_PoolBase\u001b[0m\u001b[1;33m\u001b[0m\u001b[1;33m\u001b[0m\u001b[0m\n\u001b[0;32m     62\u001b[0m \u001b[0m_CatBoost\u001b[0m \u001b[1;33m=\u001b[0m \u001b[0m_catboost\u001b[0m\u001b[1;33m.\u001b[0m\u001b[0m_CatBoost\u001b[0m\u001b[1;33m\u001b[0m\u001b[1;33m\u001b[0m\u001b[0m\n",
      "\u001b[1;32m~\\Anaconda3\\lib\\site-packages\\catboost\\core.py\u001b[0m in \u001b[0;36mget_catboost_bin_module\u001b[1;34m()\u001b[0m\n\u001b[0;32m     49\u001b[0m     \u001b[1;32mfor\u001b[0m \u001b[0mso_path\u001b[0m \u001b[1;32min\u001b[0m \u001b[0mso_paths\u001b[0m\u001b[1;33m:\u001b[0m\u001b[1;33m\u001b[0m\u001b[1;33m\u001b[0m\u001b[0m\n\u001b[0;32m     50\u001b[0m         \u001b[1;32mtry\u001b[0m\u001b[1;33m:\u001b[0m\u001b[1;33m\u001b[0m\u001b[1;33m\u001b[0m\u001b[0m\n\u001b[1;32m---> 51\u001b[1;33m             \u001b[0mloaded_catboost\u001b[0m \u001b[1;33m=\u001b[0m \u001b[0mimp\u001b[0m\u001b[1;33m.\u001b[0m\u001b[0mload_dynamic\u001b[0m\u001b[1;33m(\u001b[0m\u001b[1;34m'_catboost'\u001b[0m\u001b[1;33m,\u001b[0m \u001b[0mso_path\u001b[0m\u001b[1;33m)\u001b[0m\u001b[1;33m\u001b[0m\u001b[1;33m\u001b[0m\u001b[0m\n\u001b[0m\u001b[0;32m     52\u001b[0m             \u001b[0msys\u001b[0m\u001b[1;33m.\u001b[0m\u001b[0mmodules\u001b[0m\u001b[1;33m[\u001b[0m\u001b[1;34m'catboost._catboost'\u001b[0m\u001b[1;33m]\u001b[0m \u001b[1;33m=\u001b[0m \u001b[0mloaded_catboost\u001b[0m\u001b[1;33m\u001b[0m\u001b[1;33m\u001b[0m\u001b[0m\n\u001b[0;32m     53\u001b[0m             \u001b[1;32mreturn\u001b[0m \u001b[0mloaded_catboost\u001b[0m\u001b[1;33m\u001b[0m\u001b[1;33m\u001b[0m\u001b[0m\n",
      "\u001b[1;32m~\\Anaconda3\\lib\\imp.py\u001b[0m in \u001b[0;36mload_dynamic\u001b[1;34m(name, path, file)\u001b[0m\n\u001b[0;32m    340\u001b[0m         spec = importlib.machinery.ModuleSpec(\n\u001b[0;32m    341\u001b[0m             name=name, loader=loader, origin=path)\n\u001b[1;32m--> 342\u001b[1;33m         \u001b[1;32mreturn\u001b[0m \u001b[0m_load\u001b[0m\u001b[1;33m(\u001b[0m\u001b[0mspec\u001b[0m\u001b[1;33m)\u001b[0m\u001b[1;33m\u001b[0m\u001b[1;33m\u001b[0m\u001b[0m\n\u001b[0m\u001b[0;32m    343\u001b[0m \u001b[1;33m\u001b[0m\u001b[0m\n\u001b[0;32m    344\u001b[0m \u001b[1;32melse\u001b[0m\u001b[1;33m:\u001b[0m\u001b[1;33m\u001b[0m\u001b[1;33m\u001b[0m\u001b[0m\n",
      "\u001b[1;32m_catboost.pyx\u001b[0m in \u001b[0;36minit _catboost\u001b[1;34m()\u001b[0m\n",
      "\u001b[1;31mAttributeError\u001b[0m: type object '_catboost._FloatArrayWrapper' has no attribute '__reduce_cython__'"
     ]
    }
   ],
   "source": [
    "from catboost import CatBoostClassifier"
   ]
  },
  {
   "cell_type": "code",
   "execution_count": null,
   "metadata": {},
   "outputs": [],
   "source": [
    "from google.colab import files\n",
    "files.upload(train.csv)"
   ]
  },
  {
   "cell_type": "code",
   "execution_count": null,
   "metadata": {},
   "outputs": [],
   "source": [
    "from google.colab import drive\n",
    "drive.mount('/content/drive')"
   ]
  },
  {
   "cell_type": "code",
   "execution_count": null,
   "metadata": {},
   "outputs": [],
   "source": [
    "clf = cb.CatBoostClassifier()"
   ]
  },
  {
   "cell_type": "code",
   "execution_count": null,
   "metadata": {},
   "outputs": [],
   "source": [
    "clf.fit(X1_train, Y1_train)"
   ]
  },
  {
   "cell_type": "code",
   "execution_count": null,
   "metadata": {},
   "outputs": [],
   "source": [
    "y_pred = clf.predict(X1_test)\n",
    "score = f1_score(Y1_test, y_pred)\n",
    "print(score)"
   ]
  },
  {
   "cell_type": "code",
   "execution_count": null,
   "metadata": {},
   "outputs": [],
   "source": [
    "y_pred = clf.predict(test).astype(int)\n",
    "sample.Promoted_or_Not = y_pred\n",
    "sample.to_csv('intercampus19.csv',index =False)"
   ]
  },
  {
   "cell_type": "code",
   "execution_count": null,
   "metadata": {},
   "outputs": [],
   "source": []
  },
  {
   "cell_type": "code",
   "execution_count": null,
   "metadata": {},
   "outputs": [],
   "source": []
  },
  {
   "cell_type": "code",
   "execution_count": null,
   "metadata": {},
   "outputs": [],
   "source": []
  }
 ],
 "metadata": {
  "kernelspec": {
   "display_name": "Python 3",
   "language": "python",
   "name": "python3"
  },
  "language_info": {
   "codemirror_mode": {
    "name": "ipython",
    "version": 3
   },
   "file_extension": ".py",
   "mimetype": "text/x-python",
   "name": "python",
   "nbconvert_exporter": "python",
   "pygments_lexer": "ipython3",
   "version": "3.7.1"
  },
  "latex_envs": {
   "LaTeX_envs_menu_present": true,
   "autoclose": false,
   "autocomplete": true,
   "bibliofile": "biblio.bib",
   "cite_by": "apalike",
   "current_citInitial": 1,
   "eqLabelWithNumbers": true,
   "eqNumInitial": 1,
   "hotkeys": {
    "equation": "Ctrl-E",
    "itemize": "Ctrl-I"
   },
   "labels_anchors": false,
   "latex_user_defs": false,
   "report_style_numbering": false,
   "user_envs_cfg": false
  },
  "toc": {
   "base_numbering": 1,
   "nav_menu": {},
   "number_sections": true,
   "sideBar": true,
   "skip_h1_title": false,
   "title_cell": "Table of Contents",
   "title_sidebar": "Contents",
   "toc_cell": false,
   "toc_position": {},
   "toc_section_display": true,
   "toc_window_display": false
  }
 },
 "nbformat": 4,
 "nbformat_minor": 2
}
